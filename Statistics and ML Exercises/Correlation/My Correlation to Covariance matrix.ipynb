{
 "cells": [
  {
   "cell_type": "code",
   "execution_count": 265,
   "id": "d3f5389e",
   "metadata": {},
   "outputs": [],
   "source": [
    "import numpy as np\n",
    "import scipy.stats as stats\n",
    "import matplotlib.pyplot as plt\n",
    "import sympy as sym\n",
    "from IPython.display import display,Math"
   ]
  },
  {
   "cell_type": "code",
   "execution_count": 602,
   "id": "da2ca763",
   "metadata": {},
   "outputs": [
    {
     "data": {
      "image/png": "[encoded data removed]",
      "text/plain": [
       "<Figure size 432x288 with 2 Axes>"
      ]
     },
     "metadata": {
      "needs_background": "light"
     },
     "output_type": "display_data"
    },
    {
     "data": {
      "image/png": "[encoded data removed]",
      "text/plain": [
       "<Figure size 432x288 with 2 Axes>"
      ]
     },
     "metadata": {
      "needs_background": "light"
     },
     "output_type": "display_data"
    }
   ],
   "source": [
    "# create random data\n",
    "M = 4\n",
    "N = 50\n",
    "A = np.random.randn(M,N)\n",
    "\n",
    "# compute covariance and correlation directly\n",
    "CorrA = np.corrcoef(A)\n",
    "CovA = np.cov(A,ddof=1)\n",
    "\n",
    "# compute stds diagonal matrix\n",
    "std_matrix = np.zeros((M,M))\n",
    "\n",
    "for i in range(len(A)):\n",
    "    std = np.std(A[i],ddof=1)\n",
    "    std_matrix[i,i] = std\n",
    "\n",
    "# compute covariance from correlation\n",
    "CovA_rec = std_matrix@CorrA@std_matrix\n",
    "\n",
    "# compute correlation from covariance\n",
    "std_inv = np.linalg.inv(std_matrix)\n",
    "CorrA_rec = std_inv@CovA@std_inv\n",
    "\n",
    "# plot covariance matrices\n",
    "plt.subplot(121)\n",
    "plt.imshow(CovA,cmap='twilight_shifted')\n",
    "plt.title('Covariance Matrix')\n",
    "\n",
    "plt.subplot(122)\n",
    "plt.imshow(CovA_rec,cmap='twilight_shifted')\n",
    "plt.title('C = $\\Sigma$R$\\Sigma$')\n",
    "plt.show()\n",
    "\n",
    "# display(Math('\\\\text{Covariance Matrices}'))\n",
    "# display(Math(sym.latex(sym.sympify(np.round(CovA_rec,8)))))\n",
    "# display(Math(sym.latex(sym.sympify(np.round(CovA,8)))))\n",
    "\n",
    "# plot correlation matrices\n",
    "plt.subplot(121)\n",
    "plt.imshow(CorrA,cmap='Blues')\n",
    "plt.title('Correlation matrix')\n",
    "\n",
    "plt.subplot(122)\n",
    "plt.imshow(CorrA_rec,cmap='Blues')\n",
    "plt.title('R = $\\Sigma^{-1}$C$\\Sigma^{-1}$')\n",
    "plt.show()\n",
    "\n",
    "# display(Math('\\\\text{Correlation Matrices}'))\n",
    "# display(Math(sym.latex(sym.sympify(np.round(CorrA,8)))))\n",
    "# display(Math(sym.latex(sym.sympify(np.round(CorrA_rec,8)))))"
   ]
  },
  {
   "cell_type": "code",
   "execution_count": null,
   "id": "3cdb297c",
   "metadata": {},
   "outputs": [],
   "source": [
    "Hi Mike! Here is my solution, but I have a question.\n",
    "\n",
    "I am aware of the computer rounding error, but it makes me doubt the fact that the covariance matrices don't seem to be that similar. For N = 1000, the similarity between both calculations is fair enough, and for N = 10, as you suggested in the video,  the look a little bit similar, but nothing more. Why that is the case? Am I doing something wrong?\n",
    "\n",
    "About calculating 'R', the correlation, we pre and post multiply sigma^-1 both sides of the equation, wich results in scaling down the covariance matrix by the reciprocal of sigma. I hope I'm conceptually correct :D.\n",
    "\n",
    "Great code challenge! It's nice to apply some concepts from your linear algebra course. "
   ]
  },
  {
   "cell_type": "code",
   "execution_count": 413,
   "id": "b3d62582",
   "metadata": {
    "scrolled": true
   },
   "outputs": [
    {
     "name": "stdout",
     "output_type": "stream",
     "text": [
      "[[ 1.8192829  -0.63082241 -1.04867336  0.52540723]\n",
      " [-0.63082241  0.71134573  0.01347483 -0.23038244]\n",
      " [-1.04867336  0.01347483  1.2612604  -0.2435966 ]\n",
      " [ 0.52540723 -0.23038244 -0.2435966   1.53092504]]\n",
      "[[ 1.26529009 -0.70162771 -0.87594702  0.39834472]\n",
      " [-0.70162771  1.26529009  0.01799992 -0.27933294]\n",
      " [-0.87594702  0.01799992  1.26529009 -0.22181044]\n",
      " [ 0.39834472 -0.27933294 -0.22181044  1.26529009]]\n",
      "[[ 0.55399281  0.07080531 -0.17272633  0.1270625 ]\n",
      " [ 0.07080531 -0.55394436 -0.00452509  0.0489505 ]\n",
      " [-0.17272633 -0.00452509 -0.00402969 -0.02178616]\n",
      " [ 0.1270625   0.0489505  -0.02178616  0.26563495]]\n"
     ]
    }
   ],
   "source": [
    "print(CovA)\n",
    "print(CovA_rec)\n",
    "print(CovA-CovA_rec)"
   ]
  },
  {
   "cell_type": "code",
   "execution_count": 424,
   "id": "61fc021a",
   "metadata": {},
   "outputs": [
    {
     "data": {
      "image/png": "[encoded data removed]",
      "text/plain": [
       "<Figure size 432x288 with 2 Axes>"
      ]
     },
     "metadata": {
      "needs_background": "light"
     },
     "output_type": "display_data"
    }
   ],
   "source": [
    "# start with random numbers\n",
    "N = 4\n",
    "F = 1000\n",
    "\n",
    "x = np.random.randn(N,F)\n",
    "\n",
    "cov_matrix = np.cov(x)\n",
    "cor_matrix = np.corrcoef(x)\n",
    " \n",
    "sigma_matrix = np.zeros((N,N))\n",
    " \n",
    "for i in range(len(x)):\n",
    "    std_dev = np.std(x[i],ddof=1)\n",
    "    sigma_matrix[i,i] = std_dev\n",
    "\n",
    "\n",
    "calc_cov = np.dot(sigma_matrix,cor_matrix)\n",
    "calc_cov = np.dot(calc_cov,sigma_matrix)\n",
    "fig, ax = plt.subplots(1,2)\n",
    " \n",
    "ax[0].imshow(calc_cov)\n",
    "ax[0].set_title('Calculated Covariance Matrix')\n",
    "ax[1].imshow(cov_matrix)\n",
    "ax[1].set_title('Covariance Function')\n",
    "plt.show()"
   ]
  }
 ],
 "metadata": {
  "kernelspec": {
   "display_name": "Python 3 (ipykernel)",
   "language": "python",
   "name": "python3"
  },
  "language_info": {
   "codemirror_mode": {
    "name": "ipython",
    "version": 3
   },
   "file_extension": ".py",
   "mimetype": "text/x-python",
   "name": "python",
   "nbconvert_exporter": "python",
   "pygments_lexer": "ipython3",
   "version": "3.9.7"
  }
 },
 "nbformat": 4,
 "nbformat_minor": 5
}
