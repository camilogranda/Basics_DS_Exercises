{
 "cells": [
  {
   "cell_type": "code",
   "execution_count": 1,
   "id": "d2eaa243",
   "metadata": {},
   "outputs": [],
   "source": [
    "import numpy as np\n",
    "import scipy.stats as stats\n",
    "import matplotlib.pyplot as plt"
   ]
  },
  {
   "cell_type": "markdown",
   "id": "096aa21d",
   "metadata": {},
   "source": [
    "### Average Correlation Matrices"
   ]
  },
  {
   "cell_type": "code",
   "execution_count": 334,
   "id": "3f180962",
   "metadata": {},
   "outputs": [],
   "source": [
    "## simulate data\n",
    "\n",
    "# simulation parameters\n",
    "N = 1000  # time points\n",
    "M =   20  # channels\n",
    "\n",
    "# time vector (radian units)\n",
    "t = np.linspace(0,6*np.pi,N)\n",
    "\n",
    "# relationship across channels (imposing covariance)\n",
    "chanrel = np.sin(np.linspace(0,2*np.pi,M))\n",
    "\n",
    "# create the data\n",
    "data = np.zeros((M,N))\n",
    "for mi in range(M):\n",
    "    data[mi:] = np.sin(t) * chanrel[mi]\n",
    "\n",
    "\n",
    "# Create 20 matrices with the same underlying features but different set of noise\n",
    "noise = np.linspace(.01,100,20)\n",
    "data_list = []\n",
    "Corr_matrices = []\n",
    "\n",
    "for idx,n in enumerate(noise):\n",
    "    \n",
    "    # group all the data matrices\n",
    "    data_list.append(data + np.random.randn(M,N)*n)\n",
    "    # calculate each correlation\n",
    "    Corr_matrices.append(np.corrcoef(data_list[idx]))\n",
    "\n",
    "# avg the data matrices\n",
    "data_avg  = np.sum(data_list,axis=0)/len(noise)\n",
    "\n",
    "# calculate corrcoefs matrices\n",
    "Corr_data  = np.corrcoef(data_avg)\n",
    "Corrs_avg = np.sum(Corr_matrices,axis=0)/len(noise)"
   ]
  },
  {
   "cell_type": "code",
   "execution_count": 335,
   "id": "5ad682f8",
   "metadata": {
    "scrolled": false
   },
   "outputs": [
    {
     "data": {
      "image/png": "[encoded data removed]",
      "text/plain": [
       "<Figure size 432x288 with 2 Axes>"
      ]
     },
     "metadata": {
      "needs_background": "light"
     },
     "output_type": "display_data"
    }
   ],
   "source": [
    "# Plot correlation matrices\n",
    "\n",
    "plt.subplot(121)\n",
    "plt.imshow(Corr_data,vmin=-.5,vmax=.5)\n",
    "plt.title('Corrcoeffs avg. data')\n",
    "\n",
    "plt.subplot(122)\n",
    "plt.imshow(Corrs_avg,vmin=-.5,vmax=.5)\n",
    "plt.title('Corrcoeffs avg. corrs')\n",
    "plt.show()"
   ]
  },
  {
   "cell_type": "markdown",
   "id": "fe97c6b9",
   "metadata": {},
   "source": [
    "### Average Correlation Matrices (wrong code)"
   ]
  },
  {
   "cell_type": "code",
   "execution_count": 340,
   "id": "ddad654a",
   "metadata": {},
   "outputs": [],
   "source": [
    "## simulate data\n",
    "\n",
    "# simulation parameters\n",
    "N = 1000  # time points\n",
    "M =   20  # channels\n",
    "\n",
    "# time vector (radian units)\n",
    "t = np.linspace(0,6*np.pi,N)\n",
    "\n",
    "# relationship across channels (imposing covariance)\n",
    "chanrel = np.sin(np.linspace(0,2*np.pi,M))\n",
    "\n",
    "# create the data\n",
    "data = np.zeros((M,N))\n",
    "for mi in range(M):\n",
    "    data[mi:] = np.sin(t) * chanrel[mi]\n",
    "\n",
    "data = data + np.random.randn(M,N)\n",
    "\n",
    "# Create 20 matrices with the same underlying features but different set of noise\n",
    "noise = np.linspace(.00001,3700,20)\n",
    "data_avg = np.zeros((M,N))\n",
    "Corr_avgcorrs = np.zeros((M,M))\n",
    "\n",
    "for noisei in range(len(noise)):\n",
    "    \n",
    "    # avg the data\n",
    "    data = data * noise[noisei]\n",
    "    data_avg += data/len(noise)\n",
    "\n",
    "    # compute corrcoed each iteration and average\n",
    "    Corr_avgcorrs += np.corrcoef(data)/len(noise)\n",
    "    \n",
    "# Correlation coefficient from averaged data\n",
    "Corr_avgdata = np.corrcoef(data_avg)\n",
    "\n",
    "# two ways of visualizing the multichannel data\n",
    "# for i in range(M):\n",
    "#     plt.plot(t,data[i,:]+i*4)\n",
    "    \n",
    "# plt.yticks([])\n",
    "# plt.xlabel('Time (a.u.)')\n",
    "# plt.ylabel('Channel')\n",
    "# plt.show()\n",
    "\n",
    "# plt.imshow(data,aspect='auto',vmin=-2,vmax=2,extent=[t[0],t[-1],0,M])\n",
    "# plt.xlabel('Time (a.u.)')\n",
    "# plt.ylabel('Channel')\n",
    "# plt.show()"
   ]
  },
  {
   "cell_type": "code",
   "execution_count": 320,
   "id": "4dec2066",
   "metadata": {
    "scrolled": true
   },
   "outputs": [
    {
     "data": {
      "image/png": "[encoded data removed]",
      "text/plain": [
       "<Figure size 432x288 with 2 Axes>"
      ]
     },
     "metadata": {
      "needs_background": "light"
     },
     "output_type": "display_data"
    }
   ],
   "source": [
    "# Plot\n",
    "\n",
    "plt.subplot(121)\n",
    "plt.imshow(Corr_avgdata,vmin=-.5,vmax=.5)\n",
    "plt.title('Corrcoeffs avg. data')\n",
    "\n",
    "plt.subplot(122)\n",
    "plt.imshow(Corr_avgcorrs,vmin=-.5,vmax=.5)\n",
    "plt.title('Corrcoeffs avg. corrs')\n",
    "plt.show()\n"
   ]
  }
 ],
 "metadata": {
  "kernelspec": {
   "display_name": "Python 3 (ipykernel)",
   "language": "python",
   "name": "python3"
  },
  "language_info": {
   "codemirror_mode": {
    "name": "ipython",
    "version": 3
   },
   "file_extension": ".py",
   "mimetype": "text/x-python",
   "name": "python",
   "nbconvert_exporter": "python",
   "pygments_lexer": "ipython3",
   "version": "3.9.7"
  }
 },
 "nbformat": 4,
 "nbformat_minor": 5
}
