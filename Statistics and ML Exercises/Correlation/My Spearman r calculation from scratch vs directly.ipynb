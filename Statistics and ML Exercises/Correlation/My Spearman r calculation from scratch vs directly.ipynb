{
 "cells": [
  {
   "cell_type": "code",
   "execution_count": 47,
   "id": "d89e3064",
   "metadata": {},
   "outputs": [],
   "source": [
    "import numpy as np\n",
    "import scipy.stats as stats\n",
    "import matplotlib.pyplot as plt\n",
    "import pandas as pd"
   ]
  },
  {
   "cell_type": "markdown",
   "id": "cd6011e9",
   "metadata": {},
   "source": [
    "### Computing Spearman r from scratch vs directly"
   ]
  },
  {
   "cell_type": "code",
   "execution_count": 45,
   "id": "f269f303",
   "metadata": {},
   "outputs": [
    {
     "name": "stdout",
     "output_type": "stream",
     "text": [
      "0.020979020979020963\n",
      "0.02097902097902098\n"
     ]
    }
   ],
   "source": [
    "# create the data\n",
    "n = 12\n",
    "data1 = np.random.randn(n)\n",
    "data2 = 0.2371*np.random.randn(n)+0.2551\n",
    "\n",
    "# rank the data\n",
    "data1_rank = stats.rankdata(data1)\n",
    "data2_rank = stats.rankdata(data2)\n",
    "\n",
    "# compute the correlation with ranked data\n",
    "pcorr = stats.pearsonr(data1_rank,data2_rank)[0]\n",
    "# compute spearson directly and compare\n",
    "scorr = stats.spearmanr(data1,data2)[0]\n",
    "print(pcorr)\n",
    "print(scorr)"
   ]
  },
  {
   "cell_type": "code",
   "execution_count": 67,
   "id": "a8554d6d",
   "metadata": {},
   "outputs": [
    {
     "name": "stdout",
     "output_type": "stream",
     "text": [
      "    S2XRank  S2YRank\n",
      "0       7.0     10.0\n",
      "1       5.0      6.0\n",
      "2      10.0      7.0\n",
      "3       6.0      8.0\n",
      "4       8.0     11.0\n",
      "5      11.0      5.0\n",
      "6       3.0      3.0\n",
      "7       1.0      1.0\n",
      "8       9.0      9.0\n",
      "9       4.0      4.0\n",
      "10      2.0      2.0\n"
     ]
    },
    {
     "data": {
      "text/plain": [
       "'Calculated Spearman Correlation '"
      ]
     },
     "metadata": {},
     "output_type": "display_data"
    },
    {
     "data": {
      "text/plain": [
       "0.6909090909090908"
      ]
     },
     "metadata": {},
     "output_type": "display_data"
    },
    {
     "data": {
      "text/plain": [
       "'Spearman Function '"
      ]
     },
     "metadata": {},
     "output_type": "display_data"
    },
    {
     "data": {
      "text/plain": [
       "0.690909090909091"
      ]
     },
     "metadata": {},
     "output_type": "display_data"
    }
   ],
   "source": [
    "anscombe = np.array([\n",
    "     # series 1     series 2      series 3       series 4\n",
    "    [10,  8.04,    10,  9.14,    10,  7.46,      8,  6.58, ],\n",
    "    [ 8,  6.95,     8,  8.14,     8,  6.77,      8,  5.76, ],\n",
    "    [13,  7.58,    13,  8.76,    13, 12.74,      8,  7.71, ],\n",
    "    [ 9,  8.81,     9,  8.77,     9,  7.11,      8,  8.84, ],\n",
    "    [11,  8.33,    11,  9.26,    11,  7.81,      8,  8.47, ],\n",
    "    [14,  9.96,    14,  8.10,    14,  8.84,      8,  7.04, ],\n",
    "    [ 6,  7.24,     6,  6.13,     6,  6.08,      8,  5.25, ],\n",
    "    [ 4,  4.26,     4,  3.10,     4,  5.39,      8,  5.56, ],\n",
    "    [12, 10.84,    12,  9.13,    12,  8.15,      8,  7.91, ],\n",
    "    [ 7,  4.82,     7,  7.26,     7,  6.42,      8,  6.89, ],\n",
    "    [ 5,  5.68,     5,  4.74,     5,  5.73,     19, 12.50, ]\n",
    "    ])\n",
    "\n",
    "df = pd.DataFrame(anscombe, columns=('S1X','S1Y','S2X','S2Y','S3X','S3Y','S4X','S4Y'))\n",
    "\n",
    "# Get Series 2 data and rank it\n",
    "\n",
    "df['S2XRank'] = df['S2X'].rank()\n",
    "\n",
    "df['S2YRank'] = df['S2Y'].rank()\n",
    "\n",
    "cor_data= df[['S2XRank','S2YRank']].copy()\n",
    "\n",
    "# Calculate Pearson Correlation on ranked Data\n",
    "print(cor_data)\n",
    "display('Calculated Spearman Correlation ', cor_data.corr().iloc[0,1])\n",
    "\n",
    "# Use spearman function to calculate \n",
    "\n",
    "corr_s = stats.spearmanr(cor_data['S2XRank'],cor_data['S2YRank'])[0]\n",
    "\n",
    "display('Spearman Function ', corr_s)"
   ]
  },
  {
   "cell_type": "code",
   "execution_count": 155,
   "id": "a16aa841",
   "metadata": {},
   "outputs": [
    {
     "name": "stdout",
     "output_type": "stream",
     "text": [
      "(11, 8)\n",
      "[0.8181818181818182, 0.6909090909090909, 0.990909090909091, 0.5]\n",
      "[0.8181818181818182, 0.690909090909091, 0.990909090909091, 0.5]\n"
     ]
    }
   ],
   "source": [
    "anscombe = np.array([\n",
    "     # series 1     series 2      series 3       series 4\n",
    "    [10,  8.04,    10,  9.14,    10,  7.46,      8,  6.58, ],\n",
    "    [ 8,  6.95,     8,  8.14,     8,  6.77,      8,  5.76, ],\n",
    "    [13,  7.58,    13,  8.76,    13, 12.74,      8,  7.71, ],\n",
    "    [ 9,  8.81,     9,  8.77,     9,  7.11,      8,  8.84, ],\n",
    "    [11,  8.33,    11,  9.26,    11,  7.81,      8,  8.47, ],\n",
    "    [14,  9.96,    14,  8.10,    14,  8.84,      8,  7.04, ],\n",
    "    [ 6,  7.24,     6,  6.13,     6,  6.08,      8,  5.25, ],\n",
    "    [ 4,  4.26,     4,  3.10,     4,  5.39,      8,  5.56, ],\n",
    "    [12, 10.84,    12,  9.13,    12,  8.15,      8,  7.91, ],\n",
    "    [ 7,  4.82,     7,  7.26,     7,  6.42,      8,  6.89, ],\n",
    "    [ 5,  5.68,     5,  4.74,     5,  5.73,     19, 12.50, ]\n",
    "    ])\n",
    "\n",
    "\n",
    "corrs_p = []\n",
    "corrs_s = []\n",
    "print(np.shape(anscombe))\n",
    "for i in range(4):\n",
    "    \n",
    "    corrs_p.append(stats.pearsonr(anscombe[:,i*2],anscombe[:,i*2+1])[0])\n",
    "    corrs_s.append(stats.spearmanr(anscombe[:,i*2],anscombe[:,i*2+1])[0])\n",
    "\n",
    "anscorr_s = []\n",
    "for i in range(int(anscombe.shape[1]/2)):\n",
    "    x = stats.rankdata(anscombe[:,i*2])\n",
    "    y = stats.rankdata(anscombe[:,i*2+1])\n",
    "    x_mean = np.mean(x)\n",
    "    y_mean = np.mean(y)\n",
    "    corrs = sum((x-x_mean)*(y-y_mean))/np.sqrt(sum((x-x_mean)**2)* sum((y-y_mean)**2))\n",
    "    anscorr_s.append(corrs)\n",
    "\n",
    "print(anscorr_s)\n",
    "print(corrs_s)"
   ]
  }
 ],
 "metadata": {
  "kernelspec": {
   "display_name": "Python 3 (ipykernel)",
   "language": "python",
   "name": "python3"
  },
  "language_info": {
   "codemirror_mode": {
    "name": "ipython",
    "version": 3
   },
   "file_extension": ".py",
   "mimetype": "text/x-python",
   "name": "python",
   "nbconvert_exporter": "python",
   "pygments_lexer": "ipython3",
   "version": "3.9.7"
  }
 },
 "nbformat": 4,
 "nbformat_minor": 5
}
