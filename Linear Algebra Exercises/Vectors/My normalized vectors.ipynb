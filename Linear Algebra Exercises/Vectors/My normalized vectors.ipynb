{
 "cells": [
  {
   "cell_type": "code",
   "execution_count": 1,
   "id": "3d1e3d2f",
   "metadata": {},
   "outputs": [],
   "source": [
    "import numpy as np\n",
    "import matplotlib.pyplot as plt"
   ]
  },
  {
   "cell_type": "code",
   "execution_count": 84,
   "id": "02f660ac",
   "metadata": {},
   "outputs": [
    {
     "name": "stdout",
     "output_type": "stream",
     "text": [
      "[ 5. -0. -7.  7.] [11.  4.  3. 29.]\n"
     ]
    }
   ],
   "source": [
    "# Create two random-integer vectors\n",
    "n = 4\n",
    "v1 = np.round(15*np.random.randn(n))\n",
    "v2 = np.round(15*np.random.randn(n))\n",
    "print(v1,v2)"
   ]
  },
  {
   "cell_type": "code",
   "execution_count": 85,
   "id": "7054aeb8",
   "metadata": {
    "scrolled": true
   },
   "outputs": [
    {
     "name": "stdout",
     "output_type": "stream",
     "text": [
      "[ 5. -0. -7.  7.] [11.  4.  3. 29.]\n",
      "11.090536506409418 31.416556144810016 237.0\n",
      " \n",
      "[ 0.45083482 -0.         -0.63116874  0.63116874] [0.35013386 0.1273214  0.09549105 0.92308017]\n",
      "0.6802009183666802\n",
      " \n",
      "1.0\n",
      "0.9999999999999999\n",
      "1.0\n",
      "0.9999999999999999\n"
     ]
    }
   ],
   "source": [
    "# Compute the length of the two vectors\n",
    "mag1 = np.linalg.norm(v1)\n",
    "mag2 = np.linalg.norm(v2)\n",
    "\n",
    "# Another way to compute the magnitude of the vectors\n",
    "# mag1 = np.sqrt(np.dot(v1,v1))\n",
    "# mag2 = np.sqrt(np.dot(v2,v2))\n",
    "\n",
    "# Compute the dot product and its magnitude of the two vectors\n",
    "\n",
    "dps_mag = np.abs(np.dot(v1,v2)) \n",
    "\n",
    "# \"Normalize\" the vectors\n",
    "\n",
    "# First way is finding mu and multiplying by vector\n",
    "mu1 = 1 / mag1\n",
    "mu2 = 1 / mag2\n",
    "\n",
    "v1_unit = v1*mu1\n",
    "v2_unit = v2*mu2\n",
    "\n",
    "# Second way is multiplying vector by its magnitude directly\n",
    "v1u = v1/mag1\n",
    "v2u = v2/mag2\n",
    "\n",
    "# Compute the magnitud of the dot product of the two normalized vectors\n",
    "dps_norm_vecs = np.abs(np.dot(v1_unit,v2_unit))\n",
    "\n",
    "print(v1,v2)\n",
    "print(mag1,mag2,dps_mag)\n",
    "print(' ')\n",
    "print(v1_unit,v2_unit)\n",
    "print(dps_norm_vecs)\n",
    "print(' ')\n",
    "print(np.linalg.norm(v1_unit))\n",
    "print(np.linalg.norm(v2_unit))\n",
    "print(np.dot(v1_unit,v1_unit))\n",
    "print(np.dot(v2_unit,v2_unit))"
   ]
  },
  {
   "cell_type": "code",
   "execution_count": 36,
   "id": "38fcdf0f",
   "metadata": {
    "scrolled": true
   },
   "outputs": [
    {
     "name": "stdout",
     "output_type": "stream",
     "text": [
      "2.23606797749979\n"
     ]
    }
   ],
   "source": [
    "v1 = np.array([ 1, 2])\n",
    "v1l = np.linalg.norm(v1)\n",
    "print(v1l)"
   ]
  }
 ],
 "metadata": {
  "kernelspec": {
   "display_name": "Python 3 (ipykernel)",
   "language": "python",
   "name": "python3"
  },
  "language_info": {
   "codemirror_mode": {
    "name": "ipython",
    "version": 3
   },
   "file_extension": ".py",
   "mimetype": "text/x-python",
   "name": "python",
   "nbconvert_exporter": "python",
   "pygments_lexer": "ipython3",
   "version": "3.9.7"
  }
 },
 "nbformat": 4,
 "nbformat_minor": 5
}
