{
 "cells": [
  {
   "cell_type": "code",
   "execution_count": 1,
   "id": "2406c131",
   "metadata": {},
   "outputs": [],
   "source": [
    "import numpy as np"
   ]
  },
  {
   "cell_type": "code",
   "execution_count": 3,
   "id": "aacbb578",
   "metadata": {},
   "outputs": [],
   "source": [
    "m = 10\n",
    "n = 3\n",
    "\n",
    "X = np.random.randn(m,n)\n",
    "y = np.random.randn(m,1)"
   ]
  },
  {
   "cell_type": "code",
   "execution_count": 21,
   "id": "b4a109b9",
   "metadata": {},
   "outputs": [
    {
     "name": "stdout",
     "output_type": "stream",
     "text": [
      "[[-0.18515451]\n",
      " [ 0.23105816]\n",
      " [-0.11687891]]\n",
      "[[-0.18515451]\n",
      " [ 0.23105816]\n",
      " [-0.11687891]]\n",
      "[[-0.18515451]\n",
      " [ 0.23105816]\n",
      " [-0.11687891]]\n",
      "[[-0.18515451]\n",
      " [ 0.23105816]\n",
      " [-0.11687891]]\n"
     ]
    }
   ],
   "source": [
    "Q,R = np.linalg.qr(X)\n",
    "\n",
    "RtR = R.T@R\n",
    "QRt = (Q@R).T\n",
    "XtX = X.T@X\n",
    "Xty = X.T@y\n",
    "\n",
    "b = np.linalg.inv(RtR)@QRt@y\n",
    "b2 = np.linalg.inv(XtX)@Xty\n",
    "b3 = np.linalg.solve(RtR,QRt@y)\n",
    "b4 = np.linalg.lstsq(X,y,rcond=None)[0]\n",
    "print(b)\n",
    "print(b2)\n",
    "print(b3)\n",
    "print(b4)"
   ]
  }
 ],
 "metadata": {
  "kernelspec": {
   "display_name": "Python 3 (ipykernel)",
   "language": "python",
   "name": "python3"
  },
  "language_info": {
   "codemirror_mode": {
    "name": "ipython",
    "version": 3
   },
   "file_extension": ".py",
   "mimetype": "text/x-python",
   "name": "python",
   "nbconvert_exporter": "python",
   "pygments_lexer": "ipython3",
   "version": "3.9.7"
  }
 },
 "nbformat": 4,
 "nbformat_minor": 5
}
