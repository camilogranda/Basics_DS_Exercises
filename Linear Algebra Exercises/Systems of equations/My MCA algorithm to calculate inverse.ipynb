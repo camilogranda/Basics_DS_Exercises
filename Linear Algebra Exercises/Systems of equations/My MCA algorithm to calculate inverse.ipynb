{
 "cells": [
  {
   "cell_type": "code",
   "execution_count": 1,
   "id": "1c622d2c",
   "metadata": {},
   "outputs": [],
   "source": [
    "import numpy as np"
   ]
  },
  {
   "cell_type": "markdown",
   "id": "e5935f9d",
   "metadata": {},
   "source": [
    "### MCA algorithm to calculate inverse"
   ]
  },
  {
   "cell_type": "code",
   "execution_count": 91,
   "id": "59f3e853",
   "metadata": {
    "scrolled": true
   },
   "outputs": [
    {
     "name": "stdout",
     "output_type": "stream",
     "text": [
      "[[ -3.  -8.  -3.  -4.]\n",
      " [ -9.   5.  -2.  -6.]\n",
      " [ -2. -11.   1. -14.]\n",
      " [  4.  -7.  -7.   3.]]\n"
     ]
    }
   ],
   "source": [
    "# Create a random matrix\n",
    "m = 4\n",
    "A = np.round(6*np.random.randn(m,m))\n",
    "det = np.linalg.det(A)\n",
    "print(A)"
   ]
  },
  {
   "cell_type": "code",
   "execution_count": 95,
   "id": "b6ea70ee",
   "metadata": {},
   "outputs": [
    {
     "name": "stdout",
     "output_type": "stream",
     "text": [
      "[[ 0.  0. -0.  0.]\n",
      " [-0.  0.  0.  0.]\n",
      " [-0. -0.  0. -0.]\n",
      " [-0.  0.  0. -0.]]\n",
      "[[ 1.00000000e+00 -4.44089210e-16  8.32667268e-17  0.00000000e+00]\n",
      " [ 2.22044605e-16  1.00000000e+00  3.33066907e-16  0.00000000e+00]\n",
      " [ 1.77635684e-15 -6.80011603e-16  1.00000000e+00  1.11022302e-16]\n",
      " [ 2.22044605e-16 -3.33066907e-16 -2.22044605e-16  1.00000000e+00]]\n"
     ]
    }
   ],
   "source": [
    "# Initialize complementary minors matrix\n",
    "\n",
    "M = np.zeros((m,m))\n",
    "H = np.zeros((m,m))\n",
    "\n",
    "for i in range(0,m):\n",
    "    for j in range(0,m):\n",
    "        \n",
    "        # Eliminate one row each iteration\n",
    "        rows = [True]*m\n",
    "        rows[i] = False\n",
    "        \n",
    "        # Eliminate one col each iteration\n",
    "        cols = [True]*m\n",
    "        cols[j] = False\n",
    "        \n",
    "        # Compute complementary minors matrix\n",
    "        M[i,j] = np.linalg.det(A[rows,:][:,cols])\n",
    "        H[i,j] = (-1)**(i+j)\n",
    "\n",
    "# Cofactors matrix\n",
    "C = M*H\n",
    "\n",
    "# Adjugate matrix (matriz de adjuntos)\n",
    "Ainv1 = C.T/det\n",
    "Ainv2 = np.linalg.inv(A)\n",
    "print(np.round(Ainv1-Ainv2))\n",
    "print(A@Ainv1)"
   ]
  },
  {
   "cell_type": "code",
   "execution_count": 21,
   "id": "47ea4ea9",
   "metadata": {},
   "outputs": [],
   "source": [
    "def mdets(a,b,c,d,e,f,g,h,i):\n",
    "    dets = (a*e*i)+(b*f*g)+(c*d*h)-(c*e*g)-(b*d*i)-(a*f*h)\n",
    "    return dets"
   ]
  },
  {
   "cell_type": "code",
   "execution_count": 92,
   "id": "9828d7e5",
   "metadata": {
    "scrolled": false
   },
   "outputs": [
    {
     "name": "stdout",
     "output_type": "stream",
     "text": [
      "[[ 0.08510638 -0.10253118 -0.13499633 -0.1337124 ]\n",
      " [ 0.20983125 -0.06511372 -0.04438738 -0.03209831]\n",
      " [-0.15608951  0.182135    0.1201394   0.20506236]\n",
      " [-0.01724138  0.23954512  0.17021277  0.11261922]]\n"
     ]
    }
   ],
   "source": [
    "# Compute the complementary matrix\n",
    "M = np.zeros((m,m))\n",
    "M[0,0] = mdets(-3,-3,6,-6,5,-2,14,5,7)\n",
    "M[0,1] = mdets(3,-3,6,0,5,-2,16,5,7)\n",
    "M[0,2] = mdets(3,-3,6,0,6,-2,16,14,7)\n",
    "M[0,3] = mdets(3,-3,-3,0,-6,5,16,14,5)\n",
    "M[1,0] = mdets(2,-0,-5,-6,5,-2,14,5,7)\n",
    "M[1,1] = mdets(-8,-0,-5,0,5,-2,16,5,7)\n",
    "M[1,2] = mdets(-8,2,-5,0,-6,-2,16,14,7)\n",
    "M[1,3] = mdets(-8,2,-0,0,-6,5,16,14,5)\n",
    "M[2,0] = mdets(2,0,-5,-3,-3,6,14,5,7)\n",
    "M[2,1] = mdets(-8,-0,-5,3,-3,6,16,5,7)\n",
    "M[2,2] = mdets(-8,2,-5,3,-3,6,16,14,7)\n",
    "M[2,3] = mdets(-8,2,-0,3,-3,-3,16,14,5)\n",
    "M[3,0] = mdets(2,-0,-5,-3,-3,6,-6,5,-2)\n",
    "M[3,1] = mdets(-8,-0,-5,3,-3,6,0,5,-2)\n",
    "M[3,2] = mdets(-8,2,-5,3,-3,6,0,-6,-2)\n",
    "M[3,3] = mdets(-8,2,-0,3,-3,-3,0,-6,5)\n",
    "\n",
    "# Create cofactor matrix\n",
    "H = np.array([[1,-1,1,-1],[-1,1,-1,1],[1,-1,1,-1],[-1,1,-1,1]])\n",
    "C = M*H\n",
    "# Divide matrix transposed by determinant\n",
    "det = np.linalg.det(A)\n",
    "Ainv1 = C.T*(1/det)\n",
    "Ainv2 = np.linalg.inv(A)\n",
    "print(Ainv1-Ainv2)"
   ]
  }
 ],
 "metadata": {
  "kernelspec": {
   "display_name": "Python 3 (ipykernel)",
   "language": "python",
   "name": "python3"
  },
  "language_info": {
   "codemirror_mode": {
    "name": "ipython",
    "version": 3
   },
   "file_extension": ".py",
   "mimetype": "text/x-python",
   "name": "python",
   "nbconvert_exporter": "python",
   "pygments_lexer": "ipython3",
   "version": "3.9.7"
  }
 },
 "nbformat": 4,
 "nbformat_minor": 5
}
