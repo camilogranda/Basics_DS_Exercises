{
 "cells": [
  {
   "cell_type": "code",
   "execution_count": 43,
   "id": "fb0df4f3",
   "metadata": {},
   "outputs": [],
   "source": [
    "import numpy as np\n",
    "from sympy import *\n",
    "import sympy as sym\n",
    "from IPython.display import display,Math"
   ]
  },
  {
   "cell_type": "markdown",
   "id": "8222afe9",
   "metadata": {},
   "source": [
    "### Row reduction effects on different matrices"
   ]
  },
  {
   "cell_type": "code",
   "execution_count": 72,
   "id": "19f1f152",
   "metadata": {},
   "outputs": [
    {
     "data": {
      "text/latex": [
       "$\\displaystyle A = \\left[\\begin{matrix}1 & 0 & 0 & 0 & 0 & 0\\\\0 & 1 & 0 & 0 & 0 & 0\\\\0 & 0 & 1 & 0 & 0 & 0\\\\0 & 0 & 0 & 1 & 0 & 0\\\\0 & 0 & 0 & 0 & 1 & 0\\\\0 & 0 & 0 & 0 & 0 & 1\\end{matrix}\\right]$"
      ],
      "text/plain": [
       "<IPython.core.display.Math object>"
      ]
     },
     "metadata": {},
     "output_type": "display_data"
    },
    {
     "data": {
      "text/latex": [
       "$\\displaystyle B = \\left[\\begin{matrix}1 & 0 & 0 & 0\\\\0 & 1 & 0 & 0\\\\0 & 0 & 1 & 0\\\\0 & 0 & 0 & 1\\\\0 & 0 & 0 & 0\\\\0 & 0 & 0 & 0\\end{matrix}\\right]$"
      ],
      "text/plain": [
       "<IPython.core.display.Math object>"
      ]
     },
     "metadata": {},
     "output_type": "display_data"
    },
    {
     "data": {
      "text/latex": [
       "$\\displaystyle C = \\left[\\begin{matrix}1 & 0 & 0 & 0 & -16.4856635406578 & 16.2522706961357\\\\0 & 1 & 0 & 0 & 20.4642006698824 & -22.1591698400394\\\\0 & 0 & 1 & 0 & 4.74114777572314 & -4.41535183116108\\\\0 & 0 & 0 & 1 & 7.96386375505362 & -7.21746152573818\\end{matrix}\\right]$"
      ],
      "text/plain": [
       "<IPython.core.display.Math object>"
      ]
     },
     "metadata": {},
     "output_type": "display_data"
    },
    {
     "data": {
      "text/latex": [
       "$\\displaystyle D = \\left[\\begin{matrix}1 & 1.0 & 0 & 0\\\\0 & 0 & 1 & 0\\\\0 & 0 & 0 & 1\\\\0 & 0 & 0 & 0\\\\0 & 0 & 0 & 0\\\\0 & 0 & 0 & 0\\end{matrix}\\right]$"
      ],
      "text/plain": [
       "<IPython.core.display.Math object>"
      ]
     },
     "metadata": {},
     "output_type": "display_data"
    },
    {
     "data": {
      "text/latex": [
       "$\\displaystyle E = \\left[\\begin{matrix}1 & 0 & 0 & 0\\\\0 & 1 & 0 & 0\\\\0 & 0 & 1 & 0\\\\0 & 0 & 0 & 1\\\\0 & 0 & 0 & 0\\\\0 & 0 & 0 & 0\\end{matrix}\\right]$"
      ],
      "text/plain": [
       "<IPython.core.display.Math object>"
      ]
     },
     "metadata": {},
     "output_type": "display_data"
    },
    {
     "data": {
      "text/latex": [
       "$\\displaystyle F = \\left[\\begin{matrix}1 & 2.0 & 0 & 0 & 0 & 0\\\\0 & 0 & 1 & 0 & 0 & 0\\\\0 & 0 & 0 & 1 & 0 & 0\\\\0 & 0 & 0 & 0 & 1 & 0\\\\0 & 0 & 0 & 0 & 0 & 1\\\\0 & 0 & 0 & 0 & 0 & 0\\end{matrix}\\right]$"
      ],
      "text/plain": [
       "<IPython.core.display.Math object>"
      ]
     },
     "metadata": {},
     "output_type": "display_data"
    },
    {
     "data": {
      "text/latex": [
       "$\\displaystyle G = \\left[\\begin{matrix}1 & 0 & 0 & 0 & 0 & -2.17942572768665\\\\0 & 1 & 0 & 0 & 0 & 1.50094545886811\\\\0 & 0 & 1 & 0 & 0 & 1.7308843490105\\\\0 & 0 & 0 & 1 & 0 & 4.46882435043454\\\\0 & 0 & 0 & 0 & 1 & 1.51708290806667\\\\0 & 0 & 0 & 0 & 0 & 0\\end{matrix}\\right]$"
      ],
      "text/plain": [
       "<IPython.core.display.Math object>"
      ]
     },
     "metadata": {},
     "output_type": "display_data"
    }
   ],
   "source": [
    "# Create different random matrices\n",
    "m = 6\n",
    "n = 4\n",
    "\n",
    "A = Matrix(np.random.randn(m,m))\n",
    "B = Matrix(np.random.randn(m,n))\n",
    "C = Matrix(np.random.randn(n,m))\n",
    "\n",
    "D = Matrix(np.random.randn(m,n)) # Dependence bt cols. 1 and 2\n",
    "D[:,1] = D[:,0]\n",
    "E = Matrix(np.random.randn(m,n)) # Dependence bt rows 1 and 2\n",
    "E[1,:] = E[0,:]\n",
    "\n",
    "F = Matrix(np.random.randn(m,m)) # Square matrix. Dependence bt cols. 1 and 2\n",
    "F[:,1] = F[:,0]*2\n",
    "G = Matrix(np.random.randn(m,m)) # Square matrix. Dependence bt rows 1 and 2\n",
    "G[1,:] = G[0,:]*2\n",
    "\n",
    "rrefA = A.rref()\n",
    "rrefB = B.rref()\n",
    "rrefC = C.rref()\n",
    "rrefD = D.rref()\n",
    "rrefE = E.rref()\n",
    "rrefF = F.rref()\n",
    "rrefG = G.rref()\n",
    "\n",
    "display(Math('A = %s'%sym.latex(sym.sympify(rrefA[0]))))\n",
    "display(Math('B = %s'%sym.latex(sym.sympify(rrefB[0]))))\n",
    "display(Math('C = %s'%sym.latex(sym.sympify(rrefC[0]))))\n",
    "display(Math('D = %s'%sym.latex(sym.sympify(rrefD[0]))))\n",
    "display(Math('E = %s'%sym.latex(sym.sympify(rrefE[0]))))\n",
    "display(Math('F = %s'%sym.latex(sym.sympify(rrefF[0]))))\n",
    "display(Math('G = %s'%sym.latex(sym.sympify(rrefG[0]))))"
   ]
  }
 ],
 "metadata": {
  "kernelspec": {
   "display_name": "Python 3 (ipykernel)",
   "language": "python",
   "name": "python3"
  },
  "language_info": {
   "codemirror_mode": {
    "name": "ipython",
    "version": 3
   },
   "file_extension": ".py",
   "mimetype": "text/x-python",
   "name": "python",
   "nbconvert_exporter": "python",
   "pygments_lexer": "ipython3",
   "version": "3.9.7"
  }
 },
 "nbformat": 4,
 "nbformat_minor": 5
}
