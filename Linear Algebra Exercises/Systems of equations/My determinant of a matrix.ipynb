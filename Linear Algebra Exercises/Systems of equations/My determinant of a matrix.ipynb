{
 "cells": [
  {
   "cell_type": "code",
   "execution_count": 1,
   "id": "d0a39317",
   "metadata": {},
   "outputs": [],
   "source": [
    "import numpy as np"
   ]
  },
  {
   "cell_type": "markdown",
   "id": "021078a6",
   "metadata": {},
   "source": [
    "### Determinant"
   ]
  },
  {
   "cell_type": "code",
   "execution_count": 41,
   "id": "c9a72edd",
   "metadata": {},
   "outputs": [
    {
     "name": "stdout",
     "output_type": "stream",
     "text": [
      "1\n",
      "4\n",
      "26\n",
      "0.0 0.0 -0.026716469916535684\n"
     ]
    }
   ],
   "source": [
    "m = 5\n",
    "n = 27\n",
    "\n",
    "A = np.array([[3,6],[9,18]])\n",
    "print(np.linalg.matrix_rank(A))\n",
    "\n",
    "B = np.random.randn(m,m)\n",
    "B[:,1] = B[:,0]\n",
    "print(np.linalg.matrix_rank(B))\n",
    "C = np.random.randn(n,n)\n",
    "C[:,1] = C[:,0]\n",
    "print(np.linalg.matrix_rank(C))\n",
    "\n",
    "detA = np.linalg.det(A)\n",
    "detB = np.linalg.det(B)\n",
    "detC = np.linalg.det(C)\n",
    "print(detA,detB,detC)"
   ]
  },
  {
   "cell_type": "markdown",
   "id": "5d371f51",
   "metadata": {},
   "source": [
    "### Determinant with row exchanges"
   ]
  },
  {
   "cell_type": "code",
   "execution_count": 90,
   "id": "fcd14714",
   "metadata": {
    "scrolled": true
   },
   "outputs": [
    {
     "name": "stdout",
     "output_type": "stream",
     "text": [
      "Before row swap:  1.936889557791294\n",
      "After 1 row swap:  -1.936889557791294\n",
      "After 2 row swaps: 1.936889557791294\n"
     ]
    }
   ],
   "source": [
    "m = 6\n",
    "A = np.random.randn(m,m)\n",
    "Aswap = A[[1,0,2,3,4,5],:]\n",
    "Aswap2 = A[[1,2,0,3,4,5],:]\n",
    "# Aswap = A[:,[1,0,2,3,4,5]] # 1 cols. swap\n",
    "# Aswap2 = A[:,[1,2,0,3,4,5]] # 2 cols. swap\n",
    "\n",
    "print('Before row swap:  ' + str(np.linalg.det(A)))\n",
    "print('After 1 row swap:  ' + str(np.linalg.det(Aswap)))\n",
    "print('After 2 row swaps: ' +str(np.linalg.det(Aswap2)))"
   ]
  }
 ],
 "metadata": {
  "kernelspec": {
   "display_name": "Python 3 (ipykernel)",
   "language": "python",
   "name": "python3"
  },
  "language_info": {
   "codemirror_mode": {
    "name": "ipython",
    "version": 3
   },
   "file_extension": ".py",
   "mimetype": "text/x-python",
   "name": "python",
   "nbconvert_exporter": "python",
   "pygments_lexer": "ipython3",
   "version": "3.9.7"
  }
 },
 "nbformat": 4,
 "nbformat_minor": 5
}
