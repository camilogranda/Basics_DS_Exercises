{
 "cells": [
  {
   "cell_type": "code",
   "execution_count": 3,
   "id": "ba75ee65",
   "metadata": {},
   "outputs": [],
   "source": [
    "import numpy as np\n",
    "import math\n",
    "import matplotlib.pyplot as plt"
   ]
  },
  {
   "cell_type": "code",
   "execution_count": 97,
   "id": "c15511e1",
   "metadata": {},
   "outputs": [
    {
     "data": {
      "image/png": "[encoded data removed]",
      "text/plain": [
       "<Figure size 432x288 with 1 Axes>"
      ]
     },
     "metadata": {
      "needs_background": "light"
     },
     "output_type": "display_data"
    }
   ],
   "source": [
    "## pure rotation\n",
    "\n",
    "# 2D input vector\n",
    "v = np.array([ 3, -2 ])\n",
    "\n",
    "# 2x2 rotation matrix\n",
    "\n",
    "thetas = np.linspace(0,2*np.pi,100)\n",
    "vecmags = np.zeros((len(thetas),2))\n",
    "\n",
    "for i in range(len(thetas)):\n",
    "    th = thetas[i]\n",
    "    A1 = np.array([ [math.cos(th),-math.sin(th)], [math.sin(th),math.cos(th)] ])\n",
    "    A2 = np.array([ [2*math.cos(th),-math.sin(th)], [math.sin(th),math.cos(th)] ])\n",
    "    \n",
    "# output vector is Av (convert v to column)\n",
    "#     w = A1@np.matrix.transpose(v)\n",
    "#     ws = A2@np.matrix.transpose(v)\n",
    "    \n",
    "    vecmags[i,0] = np.linalg.norm(A1@v.T)\n",
    "    vecmags[i,1] = np.linalg.norm(A2@v.T)\n",
    "#     vecmags = np.linalg.norm(ws)\n",
    "#     print(vecmags)\n",
    "#     print(th)\n",
    "# # plot them\n",
    "plt.plot(thetas,vecmags,'o',label=('pure','impure'))\n",
    "#     plt.plot([0,w[0]],[0,w[1]],label='Av')\n",
    "\n",
    "plt.grid()\n",
    "# plt.axis((-4, 4, -4, 4))\n",
    "plt.legend()\n",
    "plt.xlabel('Rotation angle (rad.)')\n",
    "plt.ylabel('Av magnitude')\n",
    "plt.show()"
   ]
  },
  {
   "cell_type": "code",
   "execution_count": 94,
   "id": "c95e1469",
   "metadata": {
    "scrolled": true
   },
   "outputs": [
    {
     "name": "stdout",
     "output_type": "stream",
     "text": [
      "[[ 2.0000000e+00]\n",
      " [ 4.8985872e-16]\n",
      " [-2.4492936e-16]\n",
      " [ 1.0000000e+00]]\n"
     ]
    }
   ],
   "source": [
    "thetas = np.linspace(0,2*np.pi,100)\n",
    "\n",
    "for i in range(len(thetas)):\n",
    "    th = thetas[i]\n",
    "    A = np.array([[2*math.cos(th)],[2*-math.sin(th)],[math.sin(th)],[math.cos(th)]])\n",
    "print(A)"
   ]
  },
  {
   "cell_type": "code",
   "execution_count": 410,
   "id": "19e5971c",
   "metadata": {
    "scrolled": true
   },
   "outputs": [
    {
     "data": {
      "image/png": "[encoded data removed]",
      "text/plain": [
       "<Figure size 432x288 with 1 Axes>"
      ]
     },
     "metadata": {
      "needs_background": "light"
     },
     "output_type": "display_data"
    }
   ],
   "source": [
    "x = np.linspace(-np.pi,2*np.pi,100)\n",
    "# xy = np.array([[np.cos(x)],[np.sin(x)]]) # create a 2x1x100 matrix\n",
    "# xy = np.concatenate(([np.cos(x)],[np.sin(x)])) # then produce a 2x100 matrix\n",
    "xy = np.vstack((np.cos(x),np.sin(x))).T # Or just stack verticaly and transpose for a 100x2 matrix\n",
    "\n",
    "# print(np.shape(np.cos(x)))\n",
    "# print(np.cos(x))\n",
    "# print(np.sin(x))\n",
    "# print(np.shape(xy))\n",
    "# print(xy)\n",
    "\n",
    "# 2x2 identity matrix\n",
    "I = np.eye(2)\n",
    "Ixy = xy@I\n",
    "\n",
    "# 2x2 diagonal matrix\n",
    "D = np.diag([1.2,1.3])\n",
    "Dxy = xy@D\n",
    "\n",
    "M = np.array([[2,1],[4,3]])\n",
    "Mxy = xy@M\n",
    "\n",
    "xyvec = np.concatenate((xy[:,0],xy[:,1]))\n",
    "Mxyvec = np.concatenate((Mxy[:,0],Mxy[:,1]))\n",
    "# a = np.concatenate((xyvec,Mxyvec))\n",
    "# print(np.shape(a))\n",
    "\n",
    "# print(np.shape(Mxy))\n",
    "# # print(Mxy)\n",
    "# plt.plot(np.cos(x),np.sin(x),'o')\n",
    "plt.plot(xy[:,0],xy[:,1],'o')\n",
    "plt.plot(Mxy[:,0],Mxy[:,1],'o',alpha=1)\n",
    "\n",
    "plt.xlim(np.max(abs(Mxy)))\n",
    "# plt.ylim(np.max(abs(Mxy)))\n",
    "# # plt.ylim([-4,4])\n",
    "\n",
    "plt.axis('square')\n",
    "ax = np.max(abs(np.concatenate((xyvec,Mxyvec))))\n",
    "# plt.axis([-ax,ax,-ax,ax])\n",
    "plt.xlim(xmin=-ax,xmax=ax)\n",
    "plt.ylim(ymin=-ax,ymax=ax)\n",
    "\n",
    "plt.show()"
   ]
  },
  {
   "cell_type": "code",
   "execution_count": 386,
   "id": "a1b07995",
   "metadata": {},
   "outputs": [
    {
     "name": "stdout",
     "output_type": "stream",
     "text": [
      "[2, 4, 6, 8, 10, 12]\n"
     ]
    }
   ],
   "source": [
    "lst = [1,2,3,4,5,6]\n",
    "newlst = [i*2 for i in lst]\n",
    "print(newlst)"
   ]
  }
 ],
 "metadata": {
  "kernelspec": {
   "display_name": "Python 3 (ipykernel)",
   "language": "python",
   "name": "python3"
  },
  "language_info": {
   "codemirror_mode": {
    "name": "ipython",
    "version": 3
   },
   "file_extension": ".py",
   "mimetype": "text/x-python",
   "name": "python",
   "nbconvert_exporter": "python",
   "pygments_lexer": "ipython3",
   "version": "3.9.7"
  }
 },
 "nbformat": 4,
 "nbformat_minor": 5
}
