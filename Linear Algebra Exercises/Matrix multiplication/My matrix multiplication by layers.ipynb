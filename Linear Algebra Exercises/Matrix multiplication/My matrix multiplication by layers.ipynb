{
 "cells": [
  {
   "cell_type": "code",
   "execution_count": 1,
   "id": "ae8a4cf1",
   "metadata": {},
   "outputs": [],
   "source": [
    "import numpy as np"
   ]
  },
  {
   "cell_type": "code",
   "execution_count": 73,
   "id": "0127b843",
   "metadata": {},
   "outputs": [
    {
     "name": "stdout",
     "output_type": "stream",
     "text": [
      "[2 5 3]\n",
      "[4 2 1]\n"
     ]
    }
   ],
   "source": [
    "# m = 4\n",
    "# n = 4\n",
    "\n",
    "A = np.array([[2,3,4],\n",
    "              [5,6,8],\n",
    "              [3,1,2]])\n",
    "\n",
    "B = np.array([[4,2,1],\n",
    "              [6,3,1],\n",
    "              [2,1,3]])\n",
    "\n",
    "print(A[:,0])\n",
    "print(B[0,:])"
   ]
  },
  {
   "cell_type": "code",
   "execution_count": 76,
   "id": "4a6426dc",
   "metadata": {
    "scrolled": false
   },
   "outputs": [
    {
     "name": "stdout",
     "output_type": "stream",
     "text": [
      "[[34. 17. 17.]\n",
      " [72. 36. 35.]\n",
      " [22. 11. 10.]]\n",
      "[[34 17 17]\n",
      " [72 36 35]\n",
      " [22 11 10]]\n"
     ]
    }
   ],
   "source": [
    "# szA = np.shape(A)\n",
    "# layers = np.zeros(szA)\n",
    "\n",
    "# for i in range(szA[0]):\n",
    "#     layers += np.outer(A[:,i],B[i,:])\n",
    "    \n",
    "# print(layers)\n",
    "\n",
    "# # Implement the matrix multiplication directly\n",
    "# layers2 = A@B\n",
    "# print(layers2)"
   ]
  },
  {
   "cell_type": "code",
   "execution_count": 97,
   "id": "af7f2238",
   "metadata": {},
   "outputs": [
    {
     "name": "stdout",
     "output_type": "stream",
     "text": [
      "[[-0.78150178 -0.0487712   0.8638459   1.29178787  0.3796965   1.26782858]\n",
      " [ 0.00214685 -0.54081518 -0.78138886  0.98020255  0.23253613  1.41767935]\n",
      " [ 0.05934574  0.87892879 -0.38651861  2.10562206  1.44503773  2.09904622]]\n",
      "[[-0.799969    1.62586782  0.58634329]\n",
      " [ 1.26818868 -0.64007941  0.81329594]\n",
      " [ 0.71138081  0.44672078  2.59362582]\n",
      " [ 0.59548437 -1.80881537  1.08606242]\n",
      " [ 0.42719046  2.26828305 -0.63436146]\n",
      " [-1.11083679  0.10399005  1.02416724]]\n"
     ]
    }
   ],
   "source": [
    "m = 3\n",
    "n = 6\n",
    "\n",
    "A = np.random.randn(m,n)\n",
    "print(A)\n",
    "B = np.random.randn(n,m)\n",
    "print(B)"
   ]
  },
  {
   "cell_type": "code",
   "execution_count": 100,
   "id": "bae7cf3a",
   "metadata": {},
   "outputs": [
    {
     "name": "stdout",
     "output_type": "stream",
     "text": [
      "[[ 0.7009411  -2.19700829  4.20316523]\n",
      " [-2.13521601 -1.09753062 -0.09622439]\n",
      " [ 0.33168445 -0.95140883  3.26707664]]\n",
      "[[ 0.7009411  -2.19700829  4.20316523]\n",
      " [-2.13521601 -1.09753062 -0.09622439]\n",
      " [ 0.33168445 -0.95140883  3.26707664]]\n"
     ]
    }
   ],
   "source": [
    "C = np.zeros((m,m))\n",
    "\n",
    "for i in range(n):\n",
    "    C += np.outer(A[:,i],B[i,:])\n",
    "    \n",
    "print(C)\n",
    "C2 = A@B\n",
    "print(C2)"
   ]
  },
  {
   "cell_type": "code",
   "execution_count": 84,
   "id": "d28da7a4",
   "metadata": {},
   "outputs": [
    {
     "data": {
      "text/plain": [
       "array([[ 8,  6,  5],\n",
       "       [18, 16, 11]])"
      ]
     },
     "execution_count": 84,
     "metadata": {},
     "output_type": "execute_result"
    }
   ],
   "source": [
    "A = np.array([[1,2],\n",
    "              [3,4],])\n",
    "\n",
    "B = np.array([[2,4,1],\n",
    "              [3,1,2]])\n",
    "\n",
    "A@B\n"
   ]
  }
 ],
 "metadata": {
  "kernelspec": {
   "display_name": "Python 3 (ipykernel)",
   "language": "python",
   "name": "python3"
  },
  "language_info": {
   "codemirror_mode": {
    "name": "ipython",
    "version": 3
   },
   "file_extension": ".py",
   "mimetype": "text/x-python",
   "name": "python",
   "nbconvert_exporter": "python",
   "pygments_lexer": "ipython3",
   "version": "3.9.7"
  }
 },
 "nbformat": 4,
 "nbformat_minor": 5
}
