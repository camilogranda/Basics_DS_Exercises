{
 "cells": [
  {
   "cell_type": "code",
   "execution_count": 1,
   "id": "2eaff901",
   "metadata": {},
   "outputs": [],
   "source": [
    "import numpy as np"
   ]
  },
  {
   "cell_type": "code",
   "execution_count": null,
   "id": "a95d3206",
   "metadata": {},
   "outputs": [],
   "source": [
    "m = 4\n",
    "n = 3\n",
    "\n",
    "A = np.round(6*np.random.randn(m,n))\n",
    "B = np.round(6*np.random.randn(m,n))\n",
    "\n",
    "Asym = A@A.T\n",
    "Bsym = B@B.T"
   ]
  },
  {
   "cell_type": "code",
   "execution_count": 26,
   "id": "cbf3591f",
   "metadata": {},
   "outputs": [
    {
     "name": "stdout",
     "output_type": "stream",
     "text": [
      "[[     0. -13987.   9470.  -2550.]\n",
      " [ 13987.      0. -37003.  -4289.]\n",
      " [ -9470.  37003.      0.   9487.]\n",
      " [  2550.   4289.  -9487.      0.]]\n"
     ]
    }
   ],
   "source": [
    "AplusB = Asym + Bsym # symmetric\n",
    "\n",
    "AB = Asym@Bsym       # non-symmetric \n",
    "BA = (Bsym@Asym).T   # non-symmetric\n",
    "\n",
    "ABhad = Asym*Bsym    # symmetric\n",
    "\n",
    "print(AB-AB.T)       # AB minus its transpose is equal to a skew-symmetric matrix"
   ]
  },
  {
   "cell_type": "code",
   "execution_count": 11,
   "id": "414fd8ff",
   "metadata": {},
   "outputs": [
    {
     "data": {
      "text/plain": [
       "array([[0., 0., 0., 0.],\n",
       "       [0., 0., 0., 0.],\n",
       "       [0., 0., 0., 0.],\n",
       "       [0., 0., 0., 0.],\n",
       "       [0., 0., 0., 0.]])"
      ]
     },
     "execution_count": 11,
     "metadata": {},
     "output_type": "execute_result"
    }
   ],
   "source": [
    "# Testing associative and commutative properties of Hadamard multiplication\n",
    "\n",
    "m = 5\n",
    "n = 4\n",
    "\n",
    "A = np.round(5*np.random.randn(m,n))\n",
    "B = np.round(5*np.random.randn(m,n))\n",
    "C = np.round(5*np.random.randn(m,n))\n",
    "\n",
    "rslt1 = C*(A+B)\n",
    "rslt2 = C*B + A*C\n",
    "\n",
    "rslt1 - rslt2"
   ]
  }
 ],
 "metadata": {
  "kernelspec": {
   "display_name": "Python 3 (ipykernel)",
   "language": "python",
   "name": "python3"
  },
  "language_info": {
   "codemirror_mode": {
    "name": "ipython",
    "version": 3
   },
   "file_extension": ".py",
   "mimetype": "text/x-python",
   "name": "python",
   "nbconvert_exporter": "python",
   "pygments_lexer": "ipython3",
   "version": "3.9.7"
  }
 },
 "nbformat": 4,
 "nbformat_minor": 5
}
