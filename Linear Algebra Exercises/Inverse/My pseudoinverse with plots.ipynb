{
 "cells": [
  {
   "cell_type": "code",
   "execution_count": 1,
   "id": "b487318d",
   "metadata": {},
   "outputs": [],
   "source": [
    "import numpy as np\n",
    "import matplotlib.pyplot as plt"
   ]
  },
  {
   "cell_type": "code",
   "execution_count": 3,
   "id": "adf173e6",
   "metadata": {},
   "outputs": [
    {
     "name": "stdout",
     "output_type": "stream",
     "text": [
      "28\n"
     ]
    }
   ],
   "source": [
    "n = 28\n",
    "A = np.random.randn(n,n)\n",
    "print(np.linalg.matrix_rank(A))"
   ]
  },
  {
   "cell_type": "code",
   "execution_count": 50,
   "id": "d5371353",
   "metadata": {},
   "outputs": [],
   "source": [
    "#Calculate the inverse and pseudoinverse of the matrix\n",
    "inv  = np.linalg.inv(A)\n",
    "pinv = np.linalg.pinv(A)\n",
    "piA = pinv@A\n",
    "Api = A@pinv\n",
    "# print(piA-Api)\n",
    "# print(inv-pinv)"
   ]
  },
  {
   "cell_type": "code",
   "execution_count": 48,
   "id": "2a6769c6",
   "metadata": {},
   "outputs": [
    {
     "data": {
      "image/png": "[encoded data removed]",
      "text/plain": [
       "<Figure size 432x288 with 5 Axes>"
      ]
     },
     "metadata": {
      "needs_background": "light"
     },
     "output_type": "display_data"
    }
   ],
   "source": [
    "# Plot the inverse and pseudoinverse\n",
    "plt.subplot(231)\n",
    "plt.imshow(A)\n",
    "plt.axis('off')\n",
    "plt.title('A')\n",
    "\n",
    "plt.subplot(232)\n",
    "plt.imshow(inv)\n",
    "plt.axis('off')\n",
    "plt.title('inv')\n",
    "\n",
    "plt.subplot(233)\n",
    "plt.imshow(pinv)\n",
    "plt.axis('off')\n",
    "plt.title('pinv')\n",
    "\n",
    "plt.subplot(234)\n",
    "plt.imshow(Api)\n",
    "plt.axis('off')\n",
    "plt.title('id')\n",
    "\n",
    "plt.subplot(235)\n",
    "plt.imshow(piA)\n",
    "plt.axis('off')\n",
    "plt.title('id2')\n",
    "\n",
    "\n",
    "plt.show()"
   ]
  }
 ],
 "metadata": {
  "kernelspec": {
   "display_name": "Python 3 (ipykernel)",
   "language": "python",
   "name": "python3"
  },
  "language_info": {
   "codemirror_mode": {
    "name": "ipython",
    "version": 3
   },
   "file_extension": ".py",
   "mimetype": "text/x-python",
   "name": "python",
   "nbconvert_exporter": "python",
   "pygments_lexer": "ipython3",
   "version": "3.9.7"
  }
 },
 "nbformat": 4,
 "nbformat_minor": 5
}
