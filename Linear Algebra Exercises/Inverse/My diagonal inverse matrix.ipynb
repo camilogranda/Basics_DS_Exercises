{
 "cells": [
  {
   "cell_type": "code",
   "execution_count": 1,
   "id": "031c351d",
   "metadata": {},
   "outputs": [],
   "source": [
    "import numpy as np"
   ]
  },
  {
   "cell_type": "markdown",
   "id": "845f998e",
   "metadata": {},
   "source": [
    "### Inverse of diagonal matrix"
   ]
  },
  {
   "cell_type": "code",
   "execution_count": 57,
   "id": "c987d899",
   "metadata": {
    "scrolled": false
   },
   "outputs": [
    {
     "name": "stdout",
     "output_type": "stream",
     "text": [
      "[[2 0 0]\n",
      " [0 1 0]\n",
      " [0 0 3]]\n",
      "[[0.5        0.         0.        ]\n",
      " [0.         1.         0.        ]\n",
      " [0.         0.         0.33333333]]\n"
     ]
    }
   ],
   "source": [
    "m = 3\n",
    "A = np.diag([2,1,3])\n",
    "print(A)\n",
    "Ainv = np.linalg.inv(A)\n",
    "print(Ainv)"
   ]
  },
  {
   "cell_type": "code",
   "execution_count": 63,
   "id": "bb23b5ea",
   "metadata": {},
   "outputs": [
    {
     "name": "stdout",
     "output_type": "stream",
     "text": [
      "[[ 4.73269858  2.91692495 -1.82964914 -1.54642208]\n",
      " [ 2.91692495  7.59858701 -4.55538678  0.14975164]\n",
      " [-1.82964914 -4.55538678  3.66127336 -1.68745484]\n",
      " [-1.54642208  0.14975164 -1.68745484  3.64842368]]\n"
     ]
    }
   ],
   "source": [
    "A = np.random.randn(4,4)\n",
    "print(A.T@A)"
   ]
  }
 ],
 "metadata": {
  "kernelspec": {
   "display_name": "Python 3 (ipykernel)",
   "language": "python",
   "name": "python3"
  },
  "language_info": {
   "codemirror_mode": {
    "name": "ipython",
    "version": 3
   },
   "file_extension": ".py",
   "mimetype": "text/x-python",
   "name": "python",
   "nbconvert_exporter": "python",
   "pygments_lexer": "ipython3",
   "version": "3.9.7"
  }
 },
 "nbformat": 4,
 "nbformat_minor": 5
}
