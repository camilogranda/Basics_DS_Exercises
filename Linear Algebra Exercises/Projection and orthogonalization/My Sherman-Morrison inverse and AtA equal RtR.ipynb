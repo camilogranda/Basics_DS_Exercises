{
 "cells": [
  {
   "cell_type": "code",
   "execution_count": 1,
   "id": "43370202",
   "metadata": {},
   "outputs": [],
   "source": [
    "import numpy as np"
   ]
  },
  {
   "cell_type": "markdown",
   "id": "9ea79781",
   "metadata": {},
   "source": [
    "### Sherman-Morrison inverse"
   ]
  },
  {
   "cell_type": "code",
   "execution_count": 9,
   "id": "3534edbc",
   "metadata": {
    "scrolled": true
   },
   "outputs": [
    {
     "name": "stdout",
     "output_type": "stream",
     "text": [
      "[[ 0.33132413  0.15482111  0.12440536  0.58851424]\n",
      " [-0.15133956 -0.07071794 -0.05682488 -0.26881678]\n",
      " [-0.02130048 -0.00995329 -0.00799789 -0.03783496]\n",
      " [ 0.40326514  0.1884377   0.15141773  0.71629942]]\n",
      "[[ 0.66867587 -0.15482111 -0.12440536 -0.58851424]\n",
      " [ 0.15133956  1.07071794  0.05682488  0.26881678]\n",
      " [ 0.02130048  0.00995329  1.00799789  0.03783496]\n",
      " [-0.40326514 -0.1884377  -0.15141773  0.28370058]]\n",
      "[[ 1.  0.  0.  0.]\n",
      " [ 0.  1. -0. -0.]\n",
      " [-0. -0.  1.  0.]\n",
      " [ 0.  0.  0.  1.]]\n"
     ]
    }
   ],
   "source": [
    "m = 4\n",
    "n = 4\n",
    "\n",
    "a = np.random.randn(m)\n",
    "b = np.random.rand(m)\n",
    "idm = np.eye(m)\n",
    "\n",
    "A = idm-np.outer(a,b)\n",
    "print(np.outer(a,b))\n",
    "print(A)\n",
    "\n",
    "Ainv = idm + np.outer(a,b)/(1-np.dot(a,b))\n",
    "print(np.round(A@Ainv))"
   ]
  },
  {
   "cell_type": "markdown",
   "id": "500163e1",
   "metadata": {},
   "source": [
    "### Show that A'A = R'R"
   ]
  },
  {
   "cell_type": "code",
   "execution_count": 37,
   "id": "c2f50bdb",
   "metadata": {
    "scrolled": true
   },
   "outputs": [
    {
     "name": "stdout",
     "output_type": "stream",
     "text": [
      "[[-0.45225989 -0.61912231  0.32978554 -0.16256697]\n",
      " [ 0.82825134 -0.29956135  0.19693793 -0.65985202]\n",
      " [-0.34305571 -0.33493566  0.02009741 -0.77007915]\n",
      " [-1.16461328 -1.42676354 -0.61275623  0.07964333]]\n",
      "[[ 1. -0. -0. -0.]\n",
      " [-0.  1. -0. -0.]\n",
      " [-0. -0.  1.  0.]\n",
      " [-0. -0.  0.  1.]]\n",
      "[[ 2.36455061  1.80842146  0.72069485 -0.30157444]\n",
      " [ 1.80842146  2.62088553  0.60435434  0.44260977]\n",
      " [ 0.72069485  0.60435434  0.52341716 -0.24784067]\n",
      " [-0.30157444  0.44260977 -0.24784067  1.06119766]]\n",
      "[[ 2.36455061  1.80842146  0.72069485 -0.30157444]\n",
      " [ 1.80842146  2.62088553  0.60435434  0.44260977]\n",
      " [ 0.72069485  0.60435434  0.52341716 -0.24784067]\n",
      " [-0.30157444  0.44260977 -0.24784067  1.06119766]]\n",
      "[[ 0.  0.  0.  0.]\n",
      " [ 0.  0.  0.  0.]\n",
      " [ 0.  0. -0.  0.]\n",
      " [ 0.  0.  0.  0.]]\n"
     ]
    }
   ],
   "source": [
    "m = 4\n",
    "\n",
    "A = np.random.randn(m,m)\n",
    "idm = np.eye(m)\n",
    "Q,R = np.linalg.qr(A)\n",
    "\n",
    "print(A)\n",
    "print(np.round(Q.T@Q))\n",
    "\n",
    "print(A.T@A)\n",
    "print(R.T@R)\n",
    "print(np.round(A.T@A-R.T@R))"
   ]
  },
  {
   "cell_type": "code",
   "execution_count": 23,
   "id": "9edc9517",
   "metadata": {},
   "outputs": [
    {
     "data": {
      "text/plain": [
       "array([[0.009, 0.626, 0.122, 0.727],\n",
       "       [0.14 , 0.336, 0.831, 0.343],\n",
       "       [0.345, 0.05 , 0.487, 0.666],\n",
       "       [0.213, 0.488, 0.633, 0.411]])"
      ]
     },
     "execution_count": 23,
     "metadata": {},
     "output_type": "execute_result"
    }
   ],
   "source": [
    "A = np.round(np.random.rand(4,4),3)\n",
    "A"
   ]
  },
  {
   "cell_type": "code",
   "execution_count": 26,
   "id": "7e06af12",
   "metadata": {},
   "outputs": [
    {
     "name": "stdout",
     "output_type": "stream",
     "text": [
      "[[-0.02097708 -0.80998615  0.42846115 -0.39987928]\n",
      " [-0.32631019 -0.26728014 -0.83993494 -0.34145614]\n",
      " [-0.80412153  0.3618639   0.33301783 -0.33397935]\n",
      " [-0.49645764 -0.37621573 -0.00542916  0.78228004]]\n",
      "[[-4.29039625e-01 -4.05249282e-01 -9.79587841e-01 -8.66763763e-01]\n",
      " [ 1.52655666e-16 -7.62357541e-01 -3.82844946e-01 -5.94160330e-01]\n",
      " [-9.19403442e-17  2.01661604e-16 -4.86970646e-01  2.42952061e-01]\n",
      " [ 5.55111512e-17  5.55111512e-17 -5.55111512e-17 -3.08744843e-01]]\n"
     ]
    }
   ],
   "source": [
    "Q,R = np.linalg.qr(A)\n",
    "print(Q)\n",
    "print(Q.T@A)\n"
   ]
  }
 ],
 "metadata": {
  "kernelspec": {
   "display_name": "Python 3 (ipykernel)",
   "language": "python",
   "name": "python3"
  },
  "language_info": {
   "codemirror_mode": {
    "name": "ipython",
    "version": 3
   },
   "file_extension": ".py",
   "mimetype": "text/x-python",
   "name": "python",
   "nbconvert_exporter": "python",
   "pygments_lexer": "ipython3",
   "version": "3.9.7"
  }
 },
 "nbformat": 4,
 "nbformat_minor": 5
}
