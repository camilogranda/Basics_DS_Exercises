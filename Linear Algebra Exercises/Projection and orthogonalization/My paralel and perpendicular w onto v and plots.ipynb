{
 "cells": [
  {
   "cell_type": "code",
   "execution_count": 1,
   "id": "d89a04b4",
   "metadata": {},
   "outputs": [],
   "source": [
    "import numpy as np\n",
    "import matplotlib.pyplot as plt"
   ]
  },
  {
   "cell_type": "code",
   "execution_count": 39,
   "id": "b5d57525",
   "metadata": {},
   "outputs": [
    {
     "name": "stdout",
     "output_type": "stream",
     "text": [
      "0.5\n",
      "[1. 0.]\n",
      "[0. 2.]\n",
      "0.0\n",
      "[1. 2.]\n"
     ]
    }
   ],
   "source": [
    "# vector to decompose\n",
    "w = np.array([1,2])\n",
    "\n",
    "# vector v, the reference\n",
    "v = np.array([2,0])\n",
    "\n",
    "#compute the scalar\n",
    "beta = (v.T@w)/(v.T@v)\n",
    "\n",
    "# compute w-parallel to v\n",
    "wpar = beta*v\n",
    "\n",
    "# compute w-perpendicular to v\n",
    "wper = w - wpar\n",
    "\n",
    "print(beta)\n",
    "print(wpar)\n",
    "print(wper)\n",
    "print(np.dot(wper,wpar))\n",
    "print(wper+wpar)"
   ]
  },
  {
   "cell_type": "code",
   "execution_count": 40,
   "id": "14018869",
   "metadata": {},
   "outputs": [
    {
     "data": {
      "image/png": "[encoded data removed]",
      "text/plain": [
       "<Figure size 432x288 with 1 Axes>"
      ]
     },
     "metadata": {
      "needs_background": "light"
     },
     "output_type": "display_data"
    }
   ],
   "source": [
    "plt.plot([0,w[0]],[0,w[1]],'b:',linewidth=2,label='w-decompose')\n",
    "plt.plot([0,v[0]],[0,v[1]],'m:',linewidth=2,label='v-reference')\n",
    "plt.plot([0,wpar[0]],[0,wpar[1]],'g>--',linewidth=3,label='w$_{|| v}$')\n",
    "plt.plot([0,wper[0]],[0,wper[1]],'r^--',linewidth=3,label='w$\\perp{v}$')\n",
    "plt.legend(fontsize=12)\n",
    "plt.grid()\n",
    "# plt.axis([-2,2,-2,2])\n",
    "plt.show()"
   ]
  },
  {
   "cell_type": "code",
   "execution_count": null,
   "id": "2fbc791c",
   "metadata": {},
   "outputs": [],
   "source": [
    "# v1 = np.array([(6/5),(-2/5)])\n",
    "mu = np.linalg.norm(v1)\n",
    "print(mu)\n",
    "print(1/(np.sqrt(5)*6/10*np.sqrt(2)))"
   ]
  },
  {
   "cell_type": "code",
   "execution_count": 153,
   "id": "ccc34277",
   "metadata": {},
   "outputs": [
    {
     "name": "stdout",
     "output_type": "stream",
     "text": [
      "0.31622776601683794 [0.31622777 0.9486833 ]\n",
      "3.1622776601683795\n",
      "0.9999999999999999\n"
     ]
    }
   ],
   "source": [
    "v1 = np.array([1,3])\n",
    "mu = 1/np.linalg.norm(v1)\n",
    "v1mu = v1*mu\n",
    "print(mu, v1mu)\n",
    "print(np.linalg.norm(v1))\n",
    "print(np.linalg.norm(v1mu))"
   ]
  }
 ],
 "metadata": {
  "kernelspec": {
   "display_name": "Python 3 (ipykernel)",
   "language": "python",
   "name": "python3"
  },
  "language_info": {
   "codemirror_mode": {
    "name": "ipython",
    "version": 3
   },
   "file_extension": ".py",
   "mimetype": "text/x-python",
   "name": "python",
   "nbconvert_exporter": "python",
   "pygments_lexer": "ipython3",
   "version": "3.9.7"
  }
 },
 "nbformat": 4,
 "nbformat_minor": 5
}
