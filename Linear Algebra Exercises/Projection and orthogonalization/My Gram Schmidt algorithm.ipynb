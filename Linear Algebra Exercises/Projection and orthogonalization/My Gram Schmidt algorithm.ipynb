{
 "cells": [
  {
   "cell_type": "code",
   "execution_count": 1,
   "id": "99063565",
   "metadata": {},
   "outputs": [],
   "source": [
    "import numpy as np\n",
    "import matplotlib.pyplot as plt"
   ]
  },
  {
   "cell_type": "markdown",
   "id": "6666eb3e",
   "metadata": {},
   "source": [
    "### Implement Gram-Schmidt procedure"
   ]
  },
  {
   "cell_type": "code",
   "execution_count": 311,
   "id": "fcf9a14b",
   "metadata": {
    "scrolled": true
   },
   "outputs": [
    {
     "name": "stdout",
     "output_type": "stream",
     "text": [
      "[[  0.  -3.   6.  14.]\n",
      " [  2.   1.  -5.   6.]\n",
      " [  1.  -2.   1.   7.]\n",
      " [  8. -10.  -2.   3.]]\n",
      "a  [0. 2. 1. 8.]\n",
      "a  [ -3.   1.  -2. -10.]\n",
      "q  [0.         0.24077171 0.12038585 0.96308682]\n",
      "Qith [-3.          3.31884058 -0.84057971 -0.72463768]\n",
      " \n",
      "a  [ 6. -5.  1. -2.]\n",
      "q  [0.         0.24077171 0.12038585 0.96308682]\n",
      "Qith [ 6.         -4.27536232  1.36231884  0.89855072]\n",
      " \n",
      "q  [-0.65084686  0.72001899 -0.18236289 -0.15720939]\n",
      "Qith [ 1.20122783  1.03342428  0.01773533 -0.26057299]\n",
      " \n",
      "a  [14.  6.  7.  3.]\n",
      "q  [0.         0.24077171 0.12038585 0.96308682]\n",
      "Qith [14.          4.75362319  6.37681159 -1.98550725]\n",
      " \n",
      "q  [-0.65084686  0.72001899 -0.18236289 -0.15720939]\n",
      "Qith [ 9.74351978  9.46248295  5.18417462 -3.01364256]\n",
      " \n",
      "q  [ 0.74797836  0.64349075  0.01104341 -0.16225311]\n",
      "Qith [-0.67072203  0.50304152  5.03041523 -0.75456229]\n",
      " \n",
      "[[ 0.         -0.65084686  0.74797836 -0.1301028 ]\n",
      " [ 0.24077171  0.72001899  0.64349075  0.0975771 ]\n",
      " [ 0.12038585 -0.18236289  0.01104341  0.97577101]\n",
      " [ 0.96308682 -0.15720939 -0.16225311 -0.14636565]]\n",
      "[[ 0.          0.65084686  0.74797836  0.1301028 ]\n",
      " [-0.24077171 -0.72001899  0.64349075 -0.0975771 ]\n",
      " [-0.12038585  0.18236289  0.01104341 -0.97577101]\n",
      " [-0.96308682  0.15720939 -0.16225311  0.14636565]]\n",
      "[[ 1. -0. -0.  0.]\n",
      " [-0.  1. -0.  0.]\n",
      " [-0. -0.  1.  0.]\n",
      " [ 0.  0.  0.  1.]]\n"
     ]
    }
   ],
   "source": [
    "print(M)\n",
    "\n",
    "# Loop over columns\n",
    "for i in range(n):\n",
    "    \n",
    "    Q[:,i] = M[:,i]\n",
    "    a = M[:,i]\n",
    "    \n",
    "    print(str('a '),a)\n",
    "\n",
    "    # Step 1 : Orthogonalize the ith column in Q relative to previus cols in M\n",
    "    for j in range(i):\n",
    "        q = Q[:,j]\n",
    "        Q[:,i] = Q[:,i] - np.dot(a,q)/np.dot(q,q)*q\n",
    "        \n",
    "        print(str('q '),q)\n",
    "        print(str('Qith'),Q[:,i])\n",
    "        print(' ')\n",
    "\n",
    "    # Step 2: Normalize ith column of Q\n",
    "    Q[:,i] = Q[:,i]/np.linalg.norm(Q[:,i])\n",
    "        \n",
    "qr = np.linalg.qr(M)\n",
    "print(Q)\n",
    "print(qr[0])\n",
    "print(np.round(Q.T@Q))"
   ]
  },
  {
   "cell_type": "markdown",
   "id": "b17655c2",
   "metadata": {},
   "source": [
    "###  Gram-Schmidt rectangular matrix"
   ]
  },
  {
   "cell_type": "code",
   "execution_count": 298,
   "id": "1355487a",
   "metadata": {
    "scrolled": true
   },
   "outputs": [
    {
     "name": "stdout",
     "output_type": "stream",
     "text": [
      "[[ -3.  10.  -5.  -3.  -5.]\n",
      " [  3.   5.  -6. -10.  -3.]\n",
      " [  6.   3. -13.  -2.   9.]\n",
      " [ -5. -16. -13.  -4.   5.]\n",
      " [ -6.  -2.  -5.  -1.   9.]\n",
      " [ -2.   8.   4.  -1.  -7.]]\n"
     ]
    }
   ],
   "source": [
    "m1 = 6\n",
    "n1 = 5\n",
    "\n",
    "A = np.round(6*np.random.randn(m1,n1))\n",
    "Q1 = np.zeros((m1,n1))\n",
    "print(A)"
   ]
  },
  {
   "cell_type": "code",
   "execution_count": 306,
   "id": "72fd339d",
   "metadata": {
    "scrolled": true
   },
   "outputs": [
    {
     "name": "stdout",
     "output_type": "stream",
     "text": [
      "[[-0.27500955  0.59545964 -0.43026588  0.13644827 -0.43296177]\n",
      " [ 0.27500955  0.14938651 -0.35471047 -0.85436268  0.19746076]\n",
      " [ 0.5500191  -0.04882185 -0.64979724  0.4330357   0.09662337]\n",
      " [-0.45834925 -0.62967667 -0.43886585 -0.17882413 -0.36984793]\n",
      " [-0.5500191   0.09847826 -0.26595773  0.12817578  0.7748505 ]\n",
      " [-0.1833397   0.46318164  0.05897922 -0.12457635 -0.16442777]]\n",
      "[[ 1. -0. -0.  0. -0.]\n",
      " [-0.  1. -0.  0.  0.]\n",
      " [-0. -0.  1.  0. -0.]\n",
      " [ 0.  0.  0.  1.  0.]\n",
      " [-0.  0. -0.  0.  1.]]\n",
      "[[-0.27500955 -0.59545964 -0.43026588  0.13644827  0.43296177]\n",
      " [ 0.27500955 -0.14938651 -0.35471047 -0.85436268 -0.19746076]\n",
      " [ 0.5500191   0.04882185 -0.64979724  0.4330357  -0.09662337]\n",
      " [-0.45834925  0.62967667 -0.43886585 -0.17882413  0.36984793]\n",
      " [-0.5500191  -0.09847826 -0.26595773  0.12817578 -0.7748505 ]\n",
      " [-0.1833397  -0.46318164  0.05897922 -0.12457635  0.16442777]]\n"
     ]
    }
   ],
   "source": [
    "# Loop over columns\n",
    "for i in range(n1):\n",
    "    \n",
    "    Q1[:,i] = A[:,i]\n",
    "    a1 = A[:,i]\n",
    "    \n",
    "    # Orthogonalize ith column in Q, relative to previous columns in A\n",
    "    for j in range(i):\n",
    "        \n",
    "        q1 = Q1[:,j]\n",
    "        Q1[:,i] = Q1[:,i] - np.dot(a1,q1)/np.dot(q1,q1)*q1\n",
    "        \n",
    "    # Normalize ith column in Q\n",
    "    \n",
    "    Q1[:,i] = Q1[:,i]/np.linalg.norm(Q1[:,i])\n",
    "\n",
    "print(Q1)\n",
    "print(np.round(Q1.T@Q1))\n",
    "qr = np.linalg.qr(A)\n",
    "print(qr[0])"
   ]
  },
  {
   "cell_type": "code",
   "execution_count": 309,
   "id": "9bc66ec1",
   "metadata": {},
   "outputs": [
    {
     "name": "stdout",
     "output_type": "stream",
     "text": [
      "[[ 10.90871211   7.24191813   0.5500191   -0.45834925  -0.45834925]\n",
      " [  0.         -20.13838677  -6.30719869   1.22555359   9.36920491]\n",
      " [  0.           0.          19.99791798   8.09993875  -7.63351777]\n",
      " [  0.           0.           0.           7.97990768   6.90966385]\n",
      " [  0.           0.           0.           0.          -8.71744615]]\n"
     ]
    },
    {
     "data": {
      "image/png": "[encoded data removed]",
      "text/plain": [
       "<Figure size 432x288 with 1 Axes>"
      ]
     },
     "metadata": {
      "needs_background": "light"
     },
     "output_type": "display_data"
    }
   ],
   "source": [
    "print(qr[1])\n",
    "plt.imshow(qr[1])\n",
    "# plt.imshow(qr[1])\n",
    "plt.show()"
   ]
  },
  {
   "cell_type": "code",
   "execution_count": 271,
   "id": "2e49bb71",
   "metadata": {
    "scrolled": true
   },
   "outputs": [
    {
     "name": "stdout",
     "output_type": "stream",
     "text": [
      "0.31622776601683794\n",
      "0.9486832980505138\n",
      "[0.31622777 0.9486833 ]\n"
     ]
    },
    {
     "data": {
      "image/png": "[encoded data removed]",
      "text/plain": [
       "<Figure size 432x288 with 1 Axes>"
      ]
     },
     "metadata": {
      "needs_background": "light"
     },
     "output_type": "display_data"
    }
   ],
   "source": [
    "v1 = [1,3]\n",
    "v2 = [-2*(1/np.sqrt(10)),-2*(3/np.sqrt(10))]\n",
    "print(1/np.sqrt(10))\n",
    "print(3/np.sqrt(10))\n",
    "print(v1/np.linalg.norm(v1))\n",
    "\n",
    "plt.plot([0,v1[0]],[0,v1[1]],'k')\n",
    "plt.plot([0,v2[0]],[0,v2[1]],'r')\n",
    "\n",
    "# plt.plot(v2,'r')\n",
    "plt.show()"
   ]
  }
 ],
 "metadata": {
  "kernelspec": {
   "display_name": "Python 3 (ipykernel)",
   "language": "python",
   "name": "python3"
  },
  "language_info": {
   "codemirror_mode": {
    "name": "ipython",
    "version": 3
   },
   "file_extension": ".py",
   "mimetype": "text/x-python",
   "name": "python",
   "nbconvert_exporter": "python",
   "pygments_lexer": "ipython3",
   "version": "3.9.7"
  }
 },
 "nbformat": 4,
 "nbformat_minor": 5
}
