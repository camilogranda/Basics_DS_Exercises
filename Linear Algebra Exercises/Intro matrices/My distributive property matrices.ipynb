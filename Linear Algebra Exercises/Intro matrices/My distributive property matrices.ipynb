{
 "cells": [
  {
   "cell_type": "code",
   "execution_count": 1,
   "id": "6f054232",
   "metadata": {},
   "outputs": [],
   "source": [
    "import numpy as np"
   ]
  },
  {
   "cell_type": "code",
   "execution_count": 34,
   "id": "fb315f57",
   "metadata": {
    "scrolled": true
   },
   "outputs": [
    {
     "name": "stdout",
     "output_type": "stream",
     "text": [
      "[[ 0.11389524 -0.98437955]\n",
      " [ 0.78775749 -0.98180623]\n",
      " [ 3.02910504  1.60430741]\n",
      " [-0.92235181 -0.23153037]]\n",
      " \n",
      "[[ 0.11389524 -0.98437955]\n",
      " [ 0.78775749 -0.98180623]\n",
      " [ 3.02910504  1.60430741]\n",
      " [-0.92235181 -0.23153037]]\n",
      "[[ True  True]\n",
      " [ True  True]\n",
      " [ True  True]\n",
      " [ True  True]]\n",
      "[[5.55111512e-17 0.00000000e+00]\n",
      " [1.11022302e-16 0.00000000e+00]\n",
      " [0.00000000e+00 0.00000000e+00]\n",
      " [0.00000000e+00 0.00000000e+00]]\n"
     ]
    }
   ],
   "source": [
    "# Test some random MxN matrices wheter s(A+B) = sA + sB\n",
    "a = 4\n",
    "b = 2\n",
    "\n",
    "M = np.random.randn(a,b)\n",
    "N = np.random.randn(a,b)\n",
    "l = .6\n",
    "rslt1 = l*(M+N)\n",
    "print(rslt1)\n",
    "print(' ')\n",
    "rslt2 = l*M + l*N\n",
    "print(rslt2)\n",
    "print(np.around(rslt1,decimals=10) == np.around(rslt2,decimals=10))\n",
    "print(rslt1-rslt2)"
   ]
  },
  {
   "cell_type": "code",
   "execution_count": 30,
   "id": "7f7e2bcb",
   "metadata": {},
   "outputs": [
    {
     "name": "stdout",
     "output_type": "stream",
     "text": [
      "-0.09178460768852065\n",
      "-0.09178460768852065\n",
      "1.234\n"
     ]
    }
   ],
   "source": [
    "print(rslt1[0,0])\n",
    "print(rslt2[0,0])\n",
    "print(np.around(1.23436,decimals=3))"
   ]
  }
 ],
 "metadata": {
  "kernelspec": {
   "display_name": "Python 3 (ipykernel)",
   "language": "python",
   "name": "python3"
  },
  "language_info": {
   "codemirror_mode": {
    "name": "ipython",
    "version": 3
   },
   "file_extension": ".py",
   "mimetype": "text/x-python",
   "name": "python",
   "nbconvert_exporter": "python",
   "pygments_lexer": "ipython3",
   "version": "3.9.7"
  }
 },
 "nbformat": 4,
 "nbformat_minor": 5
}
