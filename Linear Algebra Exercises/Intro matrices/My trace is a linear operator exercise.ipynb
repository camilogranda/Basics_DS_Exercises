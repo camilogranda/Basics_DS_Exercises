{
 "cells": [
  {
   "cell_type": "code",
   "execution_count": 15,
   "id": "3437ed80",
   "metadata": {},
   "outputs": [],
   "source": [
    "import numpy as np\n",
    "from IPython.display import display,Math\n",
    "import sympy as sym"
   ]
  },
  {
   "cell_type": "code",
   "execution_count": 60,
   "id": "881eef90",
   "metadata": {},
   "outputs": [
    {
     "data": {
      "text/latex": [
       "$\\displaystyle \\text{A = }\\left[\\begin{matrix}4.0 & 5.0 & 3.0 & 5.0\\\\6.0 & 2.0 & 6.0 & 3.0\\\\6.0 & 3.0 & 3.0 & 3.0\\\\6.0 & 4.0 & 7.0 & 2.0\\end{matrix}\\right]$"
      ],
      "text/plain": [
       "<IPython.core.display.Math object>"
      ]
     },
     "metadata": {},
     "output_type": "display_data"
    },
    {
     "data": {
      "text/latex": [
       "$\\displaystyle \\text{B = }\\left[\\begin{matrix}3.0 & 2.0 & 7.0 & 0.0\\\\7.0 & 4.0 & 2.0 & 2.0\\\\5.0 & 6.0 & 4.0 & 6.0\\\\5.0 & 2.0 & 1.0 & 2.0\\end{matrix}\\right]$"
      ],
      "text/plain": [
       "<IPython.core.display.Math object>"
      ]
     },
     "metadata": {},
     "output_type": "display_data"
    },
    {
     "data": {
      "text/latex": [
       "$\\displaystyle \\text{tr(A) + tr(B) = }24$"
      ],
      "text/plain": [
       "<IPython.core.display.Math object>"
      ]
     },
     "metadata": {},
     "output_type": "display_data"
    },
    {
     "data": {
      "text/latex": [
       "$\\displaystyle \\text{tr(A + B) = }24$"
      ],
      "text/plain": [
       "<IPython.core.display.Math object>"
      ]
     },
     "metadata": {},
     "output_type": "display_data"
    }
   ],
   "source": [
    "# Linearity of trace\n",
    "\n",
    "# Determine the relationship between tr(A)+tr(B) and tr(A+B)\n",
    "m = 4\n",
    "n = 4\n",
    "\n",
    "A = np.round(7*np.random.rand(m,n))\n",
    "B = np.round(7*np.random.rand(m,n))\n",
    "\n",
    "trz1 = np.trace(A)+np.trace(B)\n",
    "trz2 = np.trace(A+B)\n",
    "\n",
    "display(Math('\\\\text{A = }%s'%sym.latex(sym.sympify(A))))\n",
    "display(Math('\\\\text{B = }%s'%sym.latex(sym.sympify(B))))\n",
    "display(Math('\\\\text{tr(A) + tr(B) = }%g'%trz1))\n",
    "display(Math('\\\\text{tr(A + B) = }%g'%trz2))"
   ]
  },
  {
   "cell_type": "code",
   "execution_count": 61,
   "id": "5e29e399",
   "metadata": {},
   "outputs": [
    {
     "data": {
      "text/latex": [
       "$\\displaystyle \\text{tr (l x A) = }7.71745$"
      ],
      "text/plain": [
       "<IPython.core.display.Math object>"
      ]
     },
     "metadata": {},
     "output_type": "display_data"
    },
    {
     "data": {
      "text/latex": [
       "$\\displaystyle \\text{l x tr(A) = }7.71745$"
      ],
      "text/plain": [
       "<IPython.core.display.Math object>"
      ]
     },
     "metadata": {},
     "output_type": "display_data"
    }
   ],
   "source": [
    "# Determine the relationship between tr(l*A) and l*tr(A)\n",
    "l = np.random.rand()\n",
    "\n",
    "trl1 = np.trace(l*A)\n",
    "trl2 = l*np.trace(A)\n",
    "\n",
    "display(Math('\\\\text{tr (l x A) = }%g'%trl1))\n",
    "display(Math('\\\\text{l x tr(A) = }%g'%trl2))"
   ]
  }
 ],
 "metadata": {
  "kernelspec": {
   "display_name": "Python 3 (ipykernel)",
   "language": "python",
   "name": "python3"
  },
  "language_info": {
   "codemirror_mode": {
    "name": "ipython",
    "version": 3
   },
   "file_extension": ".py",
   "mimetype": "text/x-python",
   "name": "python",
   "nbconvert_exporter": "python",
   "pygments_lexer": "ipython3",
   "version": "3.9.7"
  }
 },
 "nbformat": 4,
 "nbformat_minor": 5
}
