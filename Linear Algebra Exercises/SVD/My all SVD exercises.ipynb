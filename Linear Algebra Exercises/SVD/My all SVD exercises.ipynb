{
 "cells": [
  {
   "cell_type": "code",
   "execution_count": 1,
   "id": "2cffce41",
   "metadata": {},
   "outputs": [],
   "source": [
    "import numpy as np\n",
    "import matplotlib.pyplot as plt"
   ]
  },
  {
   "cell_type": "markdown",
   "id": "14d3ca94",
   "metadata": {},
   "source": [
    "### Relationship between eig and SVD for a square symmetric matrix"
   ]
  },
  {
   "cell_type": "code",
   "execution_count": 249,
   "id": "bdc61a1b",
   "metadata": {},
   "outputs": [],
   "source": [
    "# Create the symmetric matrix\n",
    "m = 5\n",
    "A = np.random.randn(m,m)\n",
    "A = A.T@A"
   ]
  },
  {
   "cell_type": "code",
   "execution_count": 253,
   "id": "04c1ea9c",
   "metadata": {
    "scrolled": false
   },
   "outputs": [
    {
     "data": {
      "image/png": "[encoded data removed]",
      "text/plain": [
       "<Figure size 720x504 with 6 Axes>"
      ]
     },
     "metadata": {
      "needs_background": "light"
     },
     "output_type": "display_data"
    },
    {
     "name": "stdout",
     "output_type": "stream",
     "text": [
      "[[-0.4133  0.1759  0.154  -0.078   0.8766]\n",
      " [-0.1252 -0.9556  0.2203  0.1093  0.1037]\n",
      " [ 0.7599 -0.1449 -0.4294  0.0273  0.4652]\n",
      " [-0.233  -0.1803 -0.4736 -0.8275 -0.0641]\n",
      " [ 0.4264  0.0496  0.7204 -0.5445  0.0161]]\n",
      "[[-0.4133  0.1759  0.154  -0.078   0.8766]\n",
      " [-0.1252 -0.9556  0.2203  0.1093  0.1037]\n",
      " [ 0.7599 -0.1449 -0.4294  0.0273  0.4652]\n",
      " [-0.233  -0.1803 -0.4736 -0.8275 -0.0641]\n",
      " [ 0.4264  0.0496  0.7204 -0.5445  0.0161]]\n",
      "[[-0.4133  0.1759  0.154   0.078   0.8766]\n",
      " [-0.1252 -0.9556  0.2203 -0.1093  0.1037]\n",
      " [ 0.7599 -0.1449 -0.4294 -0.0273  0.4652]\n",
      " [-0.233  -0.1803 -0.4736  0.8275 -0.0641]\n",
      " [ 0.4264  0.0496  0.7204  0.5445  0.0161]]\n",
      "[16.68482346  9.86510416  3.25784333  1.16242078  0.02422268]\n",
      "[16.68482346  9.86510416  3.25784333  1.16242078  0.02422268]\n"
     ]
    }
   ],
   "source": [
    "# Compute eig and SVD\n",
    "L,W = np.linalg.eig(A)\n",
    "U,S,V = np.linalg.svd(A)\n",
    "\n",
    "# Sort eig outputs\n",
    "sidx = np.argsort(L)[::-1]\n",
    "L = L[sidx]\n",
    "W = W[:,sidx]\n",
    "\n",
    "# Images of all matrices\n",
    "\n",
    "fig,ax = plt.subplots(2,3,figsize=(10,7))\n",
    "\n",
    "ax[0,0].imshow(np.diag(L))\n",
    "ax[0,0].set_title('$\\Lambda$')\n",
    "ax[0,1].imshow(W)\n",
    "ax[0,1].set_title('W (eig)')\n",
    "ax[0,2].imshow(np.zeros((5,5)))\n",
    "ax[0,2].set_title('Zeros matrix')\n",
    "\n",
    "ax[1,0].imshow(np.diag(S))\n",
    "ax[1,0].set_title('S (SVD)')\n",
    "ax[1,1].imshow(V.T)\n",
    "ax[1,1].set_title('V$^{T}$ (SVD)')\n",
    "ax[1,2].imshow(U)\n",
    "ax[1,2].set_title('U (SVD)')\n",
    "\n",
    "plt.show()\n",
    "\n",
    "print(np.round(U,decimals=4))\n",
    "print(np.round(V.T,decimals=4))\n",
    "print(np.round(W,decimals=4))\n",
    "print(L)\n",
    "print(S)"
   ]
  },
  {
   "cell_type": "code",
   "execution_count": 122,
   "id": "c12bed44",
   "metadata": {
    "scrolled": true
   },
   "outputs": [
    {
     "name": "stdout",
     "output_type": "stream",
     "text": [
      "[11.65685425  0.34314575]\n",
      "[11.65685425  0.34314575]\n"
     ]
    }
   ],
   "source": [
    "c = np.array([[3,1,0],[1,1,0]])\n",
    "d,eigvecs = np.linalg.eig(c@c.T)\n",
    "u,s,v = np.linalg.svd(c)\n",
    "print(d)\n",
    "print(s**2)"
   ]
  },
  {
   "cell_type": "markdown",
   "id": "c77eb4b6",
   "metadata": {},
   "source": [
    "### U from eigendecomposition of A^TA"
   ]
  },
  {
   "cell_type": "code",
   "execution_count": 135,
   "id": "b2c5bd61",
   "metadata": {},
   "outputs": [],
   "source": [
    "# Create a random rectangular matrix\n",
    "m = 3\n",
    "n = 6\n",
    "A = np.random.randn(m,n)"
   ]
  },
  {
   "cell_type": "code",
   "execution_count": 211,
   "id": "50d25506",
   "metadata": {
    "scrolled": true
   },
   "outputs": [
    {
     "name": "stdout",
     "output_type": "stream",
     "text": [
      "[[ 0.69 -0.    0.   -0.55 -0.5  -0.24]\n",
      " [-1.3   0.   -0.    0.11 -0.41 -0.1 ]\n",
      " [ 0.96 -0.    0.    0.09  0.17 -0.29]\n",
      " [-0.92  0.   -0.   -0.5   0.43 -0.59]\n",
      " [ 0.17  0.   -0.   -0.53  0.26 -0.6 ]\n",
      " [ 0.23  0.    0.    0.25 -0.   -0.6 ]]\n",
      "[ 8.03420117e+00  5.48367747e+00  2.29491972e+00  4.32507862e-16\n",
      "  3.11340180e-16 -3.22992869e-16]\n",
      "[8.03420117 5.48367747 2.29491972]\n",
      "[[-0.53271764 -0.45975491  0.71051906]\n",
      " [ 0.83542021 -0.15153751  0.5283081 ]\n",
      " [-0.13522195  0.87502103  0.46481525]]\n",
      "[[ 0.53271764 -0.45975491  0.71051906]\n",
      " [-0.83542021 -0.15153751  0.5283081 ]\n",
      " [ 0.13522195  0.87502103  0.46481525]]\n",
      "[[-1.065  0.    -0.   ]\n",
      " [ 1.671 -0.     0.   ]\n",
      " [-0.27  -0.    -0.   ]]\n"
     ]
    }
   ],
   "source": [
    "# Compute eig and SVD\n",
    "Us,Ss,Vs = np.linalg.svd(A)\n",
    "L,V = np.linalg.eig(A.T@A)\n",
    "\n",
    "# Confirm that V = Vs\n",
    "# The subspace that both span is the same but basis could be different\n",
    "rslt = np.round(V-Vs.T,2)\n",
    "print(rslt)\n",
    "\n",
    "# Sort eigensolution\n",
    "sidx = np.argsort(L)[::-1]\n",
    "L = L[sidx]\n",
    "V = V[:,sidx]\n",
    "\n",
    "# Check the relationship between L and Ss\n",
    "# We apply eig to A^TA, so we need to square Ss  \n",
    "print(L)\n",
    "print(Ss**2)\n",
    "\n",
    "# Create U using A,V,L\n",
    "U = np.zeros((m,m))\n",
    "\n",
    "for i in range(m):\n",
    "    U[:,i] = (A@V[:,i].T)/np.sqrt(L[i])\n",
    "\n",
    "print(U)\n",
    "print(Us)\n",
    "print(np.round(U-Us,3))"
   ]
  },
  {
   "cell_type": "markdown",
   "id": "54308b0b",
   "metadata": {},
   "source": [
    "### AtAAv = Avs  y AAtAv = Avs"
   ]
  },
  {
   "cell_type": "code",
   "execution_count": 213,
   "id": "d9588509",
   "metadata": {},
   "outputs": [],
   "source": [
    "m = 4\n",
    "A = np.random.randn(m,m)\n",
    "AtA = A.T@A\n",
    "AAt = A@A.T"
   ]
  },
  {
   "cell_type": "code",
   "execution_count": 233,
   "id": "03dea9b2",
   "metadata": {
    "scrolled": false
   },
   "outputs": [
    {
     "name": "stdout",
     "output_type": "stream",
     "text": [
      "[[ 0.99121194  1.72071569  1.75592677 -0.21692759]\n",
      " [ 1.72071569  4.46526351  3.27470751  0.21362856]\n",
      " [ 1.75592677  3.27470751  3.98846782  0.45541003]\n",
      " [-0.21692759  0.21362856  0.45541003  1.02057607]]\n"
     ]
    }
   ],
   "source": [
    "print(AAt)"
   ]
  },
  {
   "cell_type": "code",
   "execution_count": 242,
   "id": "0267b09c",
   "metadata": {
    "scrolled": true
   },
   "outputs": [
    {
     "name": "stdout",
     "output_type": "stream",
     "text": [
      "[[4.12179823e-29]\n",
      " [1.51917354e-30]\n",
      " [4.80712114e-31]\n",
      " [1.77881667e-30]]\n",
      "[[-2.62917559e+00  2.85934446e-01 -2.81612909e-01  8.44950068e-03]\n",
      " [-5.76128430e+00  3.77948975e-01  5.77532611e-01 -1.00045509e-03]\n",
      " [-5.42726219e+00 -4.60009428e-01 -5.05437890e-01 -3.30796738e-03]\n",
      " [-4.27256965e-01 -1.01262617e+00  3.65644532e-01  3.51519505e-03]]\n",
      "[[-2.62917559e+00  2.85934446e-01 -2.81612909e-01  8.44950068e-03]\n",
      " [-5.76128430e+00  3.77948975e-01  5.77532611e-01 -1.00045509e-03]\n",
      " [-5.42726219e+00 -4.60009428e-01 -5.05437890e-01 -3.30796738e-03]\n",
      " [-4.27256965e-01 -1.01262617e+00  3.65644532e-01  3.51519505e-03]]\n",
      "[[4.12179823e-29]\n",
      " [1.51917354e-30]\n",
      " [4.80712114e-31]\n",
      " [1.77881667e-30]]\n"
     ]
    }
   ],
   "source": [
    "U,S,V = np.linalg.svd(AtA)\n",
    "\n",
    "diffs = np.zeros((m,1))\n",
    "for i in range(m):\n",
    "    diffs[i] = sum((AAt@A@U[:,i] - A@U[:,i]*S[i])**2)\n",
    "    \n",
    "print(diffs)\n",
    "\n",
    "U2,S2,V2 = np.linalg.svd(AAt)\n",
    "print(AAt@V2.T)\n",
    "print(U2*S2)\n",
    "\n",
    "diffs2 = np.zeros((m,1))\n",
    "for i in range(m):\n",
    "    diffs2[i] = sum((AAt@A@U[:,i] - A@U[:,i]*S[i])**2)\n",
    "    \n",
    "print(diffs2)"
   ]
  },
  {
   "cell_type": "markdown",
   "id": "1f7f1aeb",
   "metadata": {},
   "source": [
    "### When is UV^T Valid?"
   ]
  },
  {
   "cell_type": "code",
   "execution_count": 278,
   "id": "950211f1",
   "metadata": {},
   "outputs": [],
   "source": [
    "m = 5\n",
    "n = 4\n",
    "A = np.random.randn(m,m)"
   ]
  },
  {
   "cell_type": "code",
   "execution_count": 290,
   "id": "8f24b4fb",
   "metadata": {},
   "outputs": [
    {
     "name": "stdout",
     "output_type": "stream",
     "text": [
      "1.0000000000000009\n",
      "1.0000000000000002\n",
      "1.0000000000000009\n",
      "[[ 1. -0.  0.  0.  0.]\n",
      " [-0.  1. -0.  0. -0.]\n",
      " [ 0. -0.  1. -0.  0.]\n",
      " [ 0.  0. -0.  1. -0.]\n",
      " [ 0. -0.  0. -0.  1.]]\n",
      "[[ 1.  0. -0.  0. -0.]\n",
      " [ 0.  1. -0.  0. -0.]\n",
      " [-0. -0.  1.  0. -0.]\n",
      " [ 0.  0.  0.  1. -0.]\n",
      " [-0. -0. -0. -0.  1.]]\n",
      "[[ 0.26799153  0.14876841 -0.58207109 -0.72117638  0.21713215]\n",
      " [-0.20959023 -0.7569086  -0.48583839  0.24656513  0.29381628]\n",
      " [ 0.20058529 -0.01312028  0.44715946 -0.02678666  0.87116261]\n",
      " [-0.02822448 -0.5926052   0.47394164 -0.59473915 -0.2639832 ]\n",
      " [ 0.91827087 -0.23152597 -0.02412547  0.25431887 -0.19471569]]\n",
      "[[ 1.  0. -0. -0.  0.]\n",
      " [ 0.  1. -0.  0. -0.]\n",
      " [-0. -0.  1.  0.  0.]\n",
      " [-0.  0.  0.  1. -0.]\n",
      " [ 0. -0.  0. -0.  1.]]\n"
     ]
    }
   ],
   "source": [
    "# Compute SVD\n",
    "U,S,V = np.linalg.svd(A)\n",
    "\n",
    "# Compute the 2-norm (How much the matrix is going to stretch or shrink another vector)\n",
    "normU = np.linalg.norm(U,2)\n",
    "normV = np.linalg.norm(V,2)\n",
    "normUV = np.linalg.norm(U@V,2)\n",
    "C = U@V\n",
    "print(normU)\n",
    "print(normV)\n",
    "print(normUV)\n",
    "print(np.round(U@U.T))\n",
    "print(np.round(V.T@V))\n",
    "print(C)\n",
    "print(np.round(C.T@C))"
   ]
  },
  {
   "cell_type": "markdown",
   "id": "e31302e8",
   "metadata": {},
   "source": [
    "### Matrix with desired condition number"
   ]
  },
  {
   "cell_type": "code",
   "execution_count": 338,
   "id": "ad3515f8",
   "metadata": {},
   "outputs": [
    {
     "name": "stdout",
     "output_type": "stream",
     "text": [
      "46.87699999999997\n"
     ]
    }
   ],
   "source": [
    "m = 8\n",
    "n = 5\n",
    "\n",
    "# Define condition number\n",
    "condnum = 46.877\n",
    "\n",
    "# Create a matriz from SVD\n",
    "U,R = np.linalg.qr(np.random.randn(m,m))\n",
    "V,R = np.linalg.qr(np.random.randn(n,n))\n",
    "s = np.linspace(condnum,1,min(m,n))\n",
    "\n",
    "S = np.zeros((m,n))\n",
    "for i in range(len(s)):\n",
    "    S[i,i] = s[i]\n",
    "\n",
    "A = U@S@V.T\n",
    "condnumA = np.linalg.cond(A)\n",
    "print(condnumA)"
   ]
  },
  {
   "cell_type": "code",
   "execution_count": 340,
   "id": "76567229",
   "metadata": {},
   "outputs": [
    {
     "data": {
      "image/png": "[encoded data removed]",
      "text/plain": [
       "<Figure size 576x504 with 4 Axes>"
      ]
     },
     "metadata": {
      "needs_background": "light"
     },
     "output_type": "display_data"
    }
   ],
   "source": [
    "fig = plt.subplots(1,figsize=(8,7))\n",
    "\n",
    "plt.subplot(231)\n",
    "plt.imshow(U)\n",
    "plt.title('U')\n",
    "\n",
    "plt.subplot(232)\n",
    "plt.imshow(S)\n",
    "plt.title('$\\Sigma$')\n",
    "\n",
    "plt.subplot(233)\n",
    "plt.imshow(V)\n",
    "plt.title('V$^T$')\n",
    "\n",
    "plt.subplot(235)\n",
    "plt.imshow(A)\n",
    "plt.title('A, cond. numb=%g'%condnumA)\n",
    "\n",
    "plt.show()"
   ]
  },
  {
   "cell_type": "markdown",
   "id": "bce7c974",
   "metadata": {},
   "source": [
    "### Why you avoid the inverse?"
   ]
  },
  {
   "cell_type": "code",
   "execution_count": 474,
   "id": "902a12da",
   "metadata": {},
   "outputs": [
    {
     "name": "stdout",
     "output_type": "stream",
     "text": [
      "[[ 8.88178420e-16  8.88178420e-16  0.00000000e+00  6.66133815e-16\n",
      "   0.00000000e+00  2.22044605e-16]\n",
      " [ 2.22044605e-16  4.44089210e-16  1.11022302e-15  0.00000000e+00\n",
      "   8.88178420e-16  2.22044605e-16]\n",
      " [ 5.55111512e-17 -1.11022302e-16  4.44089210e-16 -2.77555756e-17\n",
      "  -1.66533454e-16  2.77555756e-17]\n",
      " [-1.77635684e-15 -1.77635684e-15  2.22044605e-15 -4.44089210e-16\n",
      "  -1.77635684e-15  4.44089210e-16]\n",
      " [ 0.00000000e+00  1.11022302e-16  1.11022302e-16  1.11022302e-16\n",
      "   0.00000000e+00  2.77555756e-17]\n",
      " [-8.88178420e-16 -8.88178420e-16  2.66453526e-15 -4.44089210e-16\n",
      "   0.00000000e+00  2.22044605e-16]]\n"
     ]
    },
    {
     "data": {
      "text/plain": [
       "5.327552418927811e-15"
      ]
     },
     "execution_count": 474,
     "metadata": {},
     "output_type": "execute_result"
    }
   ],
   "source": [
    "m = 6\n",
    "n = 6\n",
    "condn = 67\n",
    "\n",
    "# Create a matrix with known condition number\n",
    "U,R = np.linalg.qr(np.random.randn(m,n))\n",
    "V,R = np.linalg.qr(np.random.randn(m,n))\n",
    "s = np.linspace(condn,1,m)\n",
    "S = np.zeros((m,n))\n",
    "\n",
    "for i in range(len(s)):\n",
    "    S[i,i] = s[i]\n",
    "A = U@S@V.T\n",
    "\n",
    "# Compute its explicit inverse\n",
    "Ainv = np.linalg.inv(A)\n",
    "\n",
    "# Multiply the two matrices to get I\n",
    "I = Ainv@A\n",
    "\n",
    "# Compute the norm of the difference between I and eye\n",
    "eye = np.eye(m)\n",
    "print(I-eye)\n",
    "normdiff = np.linalg.norm(I-eye)\n",
    "normdiff"
   ]
  },
  {
   "cell_type": "code",
   "execution_count": 492,
   "id": "f72292dc",
   "metadata": {},
   "outputs": [
    {
     "name": "stderr",
     "output_type": "stream",
     "text": [
      "C:\\Users\\Milo\\AppData\\Local\\Temp/ipykernel_10372/1616047649.py:23: MatplotlibDeprecationWarning: shading='flat' when X and Y have the same dimensions as C is deprecated since 3.3.  Either specify the corners of the quadrilaterals with X and Y, or pass shading='auto', 'nearest' or 'gouraud', or set rcParams['pcolor.shading'].  This will become an error two minor releases later.\n",
      "  plt.pcolormesh(condnums,msize,invdiffs,vmax=np.max(invdiffs)*.6)\n"
     ]
    },
    {
     "data": {
      "image/png": "[encoded data removed]",
      "text/plain": [
       "<Figure size 504x504 with 2 Axes>"
      ]
     },
     "metadata": {
      "needs_background": "light"
     },
     "output_type": "display_data"
    }
   ],
   "source": [
    "# Matrix sizes\n",
    "msize = np.arange(2,71)\n",
    "# Condition numbers\n",
    "condnums = np.linspace(10,1e12,40)\n",
    "\n",
    "invdiffs = np.zeros((len(msize),len(condnums)))\n",
    "\n",
    "for mi,M in enumerate(msize):\n",
    "    for ci,C in enumerate(condnums):\n",
    "        \n",
    "        # Create A\n",
    "        U,R = np.linalg.qr(np.random.randn(M,M))\n",
    "        V,R = np.linalg.qr(np.random.randn(M,M))\n",
    "        S = np.diag(np.linspace(C,1,M))\n",
    "        A = U@S@V\n",
    "    \n",
    "        # Compute difference from identity matrix\n",
    "        I = A@np.linalg.inv(A)\n",
    "        Idiff = np.abs(I-np.eye(M))\n",
    "        invdiffs[mi,ci] = np.linalg.norm(Idiff)\n",
    "        \n",
    "fig = plt.figure(figsize=(7,7))\n",
    "plt.pcolormesh(condnums,msize,invdiffs,vmax=np.max(invdiffs)*.6)\n",
    "plt.xlabel('Condition number')\n",
    "plt.ylabel('Matriz size')\n",
    "plt.colorbar()\n",
    "\n",
    "plt.show()"
   ]
  },
  {
   "cell_type": "code",
   "execution_count": 458,
   "id": "2c496668",
   "metadata": {
    "scrolled": true
   },
   "outputs": [
    {
     "name": "stdout",
     "output_type": "stream",
     "text": [
      "[[34.   0.   0.   0.   0. ]\n",
      " [ 0.  26.5  0.   0.   0. ]\n",
      " [ 0.   0.  19.   0.   0. ]\n",
      " [ 0.   0.   0.  11.5  0. ]\n",
      " [ 0.   0.   0.   0.   4. ]]\n"
     ]
    }
   ],
   "source": [
    "print(np.diag(np.linspace(34,4,5)))"
   ]
  },
  {
   "cell_type": "markdown",
   "id": "4bd920e0",
   "metadata": {},
   "source": [
    "### SVD, eig A^TA and AA^T produce the same eigenspaces"
   ]
  },
  {
   "cell_type": "code",
   "execution_count": 559,
   "id": "ee763a8d",
   "metadata": {},
   "outputs": [],
   "source": [
    "from mpl_toolkits.mplot3d import Axes3D\n",
    "m = 2\n",
    "n = 3\n",
    "M = np.random.randn(m,n)"
   ]
  },
  {
   "cell_type": "code",
   "execution_count": 583,
   "id": "caa9fc0b",
   "metadata": {},
   "outputs": [
    {
     "name": "stdout",
     "output_type": "stream",
     "text": [
      "[[-0.35468006  0.93498773]\n",
      " [-0.93498773 -0.35468006]]\n",
      "[[-0.93498773 -0.35468006]\n",
      " [ 0.35468006 -0.93498773]]\n",
      "[[-0.25080153 -0.84258609 -0.47659971]\n",
      " [-0.41032047  0.53845002 -0.73600862]\n",
      " [-0.87677574 -0.01096653  0.48077441]]\n",
      "[[-0.25080153  0.84258609 -0.47659971]\n",
      " [-0.41032047 -0.53845002 -0.73600862]\n",
      " [-0.87677574  0.01096653  0.48077441]]\n"
     ]
    },
    {
     "data": {
      "image/png": "[encoded data removed]",
      "text/plain": [
       "<Figure size 576x504 with 2 Axes>"
      ]
     },
     "metadata": {
      "needs_background": "light"
     },
     "output_type": "display_data"
    }
   ],
   "source": [
    "U,S,V = np.linalg.svd(M)\n",
    "V = V.T\n",
    "D,W = np.linalg.eig(M.T@M)\n",
    "D2,W2 = np.linalg.eig(M@M.T)\n",
    "# print(np.sqrt(D))\n",
    "# print(np.sqrt(D2))\n",
    "# print(S)\n",
    "\n",
    "print(U)\n",
    "print(W2)\n",
    "\n",
    "print(W)\n",
    "print(V)\n",
    "fig = plt.subplots(1,figsize=(8,7))\n",
    "\n",
    "plt.subplot(221)\n",
    "plt.plot([0,U[0,0]],[0,U[1,0]],alpha=.5,label=('U$_1$'))\n",
    "plt.plot([0,U[0,1]],[0,U[1,1]],alpha=.5,label=('U$_2$'))\n",
    "\n",
    "plt.plot([0,W2[0,1]],[0,W2[1,1]],'k:',label=('W2$_1$'))\n",
    "plt.plot([0,W2[0,0]],[0,W2[1,0]],'k:',label=('W2$_2$'))\n",
    "\n",
    "plt.axis('square')\n",
    "plt.legend(fontsize=9)\n",
    "\n",
    "plt.subplot(222,projection='3d')\n",
    "plt.plot([0,V[0,0]],[0,V[1,0]],[0,V[2,0]],label=('V$_1$'))\n",
    "plt.plot([0,V[0,1]],[0,V[1,1]],[0,V[2,1]],label=('V$_2$'))\n",
    "plt.plot([0,V[0,2]],[0,V[1,2]],[0,V[2,2]],label=('V$_3$'))\n",
    "\n",
    "plt.plot([0,W[0,0]],[0,W[1,0]],[0,W[2,0]],'r:',label=('W$_1$'))\n",
    "plt.plot([0,W[0,1]],[0,W[1,1]],[0,W[2,1]],'k:',label=('W$_2$'))\n",
    "plt.plot([0,W[0,2]],[0,W[1,2]],[0,W[2,2]],'y:',label=('W$_3$'))\n",
    "\n",
    "plt.legend(fontsize=9)\n",
    "plt.show()"
   ]
  },
  {
   "cell_type": "code",
   "execution_count": null,
   "id": "2667ca6b",
   "metadata": {},
   "outputs": [],
   "source": []
  }
 ],
 "metadata": {
  "kernelspec": {
   "display_name": "Python 3 (ipykernel)",
   "language": "python",
   "name": "python3"
  },
  "language_info": {
   "codemirror_mode": {
    "name": "ipython",
    "version": 3
   },
   "file_extension": ".py",
   "mimetype": "text/x-python",
   "name": "python",
   "nbconvert_exporter": "python",
   "pygments_lexer": "ipython3",
   "version": "3.9.7"
  }
 },
 "nbformat": 4,
 "nbformat_minor": 5
}
