{
 "cells": [
  {
   "cell_type": "code",
   "execution_count": 1,
   "id": "6e84e61c",
   "metadata": {},
   "outputs": [],
   "source": [
    "import numpy as np"
   ]
  },
  {
   "cell_type": "markdown",
   "id": "81462ef2",
   "metadata": {},
   "source": [
    "### Reduced-rank matrix via matrix multiplication"
   ]
  },
  {
   "cell_type": "code",
   "execution_count": 72,
   "id": "86ed38ce",
   "metadata": {
    "scrolled": true
   },
   "outputs": [
    {
     "name": "stdout",
     "output_type": "stream",
     "text": [
      "2\n",
      "(4, 3)\n",
      "[[-12.  44.  32.]\n",
      " [ -9. -30.  15.]\n",
      " [  1.   8.  -1.]\n",
      " [ 13.  62. -19.]]\n"
     ]
    }
   ],
   "source": [
    "m = 4\n",
    "n = 3\n",
    "r = 2 # r <= m,n\n",
    "\n",
    "A = np.round(6*np.random.randn(m,r))\n",
    "B = np.round(6*np.random.randn(r,n))\n",
    "# B[:,4:] = 0\n",
    "# print(np.shape(B))\n",
    "# print(B)\n",
    "# print(A)\n",
    "# print(' ')\n",
    "# print(A[:, 5:])\n",
    "\n",
    "# With the matrix mult operation, 'm' define the matrix dimensionality and 'n' define the rank\n",
    "C = A@B\n",
    "\n",
    "print(np.linalg.matrix_rank(C))\n",
    "print(np.shape(C))\n",
    "print(C)"
   ]
  },
  {
   "cell_type": "markdown",
   "id": "fe2ce79f",
   "metadata": {},
   "source": [
    "### Scalar multiplication and Rank"
   ]
  },
  {
   "cell_type": "code",
   "execution_count": 101,
   "id": "5063cc17",
   "metadata": {
    "scrolled": true
   },
   "outputs": [
    {
     "name": "stdout",
     "output_type": "stream",
     "text": [
      "6 4.199999999999999\n",
      "False\n",
      "3 2.0999999999999996\n",
      "False\n"
     ]
    }
   ],
   "source": [
    "m = 6\n",
    "n = 4\n",
    "l = .7\n",
    "\n",
    "F = np.random.randn(m,m)\n",
    "R = np.random.randn(m,n-1)@np.random.randn(n-1,n)\n",
    "\n",
    "rankF = np.linalg.matrix_rank(F)\n",
    "rankR = np.linalg.matrix_rank(R)\n",
    "rankFl = np.linalg.matrix_rank(F*l)\n",
    "rankRl = np.linalg.matrix_rank(R*l)\n",
    "# print(rankF,rankFl,rankR,rankRl)\n",
    "\n",
    "# Test for rank(l*F) == l*rank(F)\n",
    "rslt1F = np.linalg.matrix_rank(l*F)\n",
    "rslt2F = l*np.linalg.matrix_rank(F)\n",
    "print(rslt1F,rslt2F)\n",
    "print(rslt1F == rslt2F)\n",
    "\n",
    "rslt1R = np.linalg.matrix_rank(l*R)\n",
    "rslt2R = l*np.linalg.matrix_rank(R)\n",
    "print(rslt1R,rslt2R)\n",
    "print(rslt1R == rslt2R)"
   ]
  },
  {
   "cell_type": "markdown",
   "id": "ad939363",
   "metadata": {},
   "source": [
    "### Rank of multiplied and summed matrices"
   ]
  },
  {
   "cell_type": "code",
   "execution_count": 132,
   "id": "5e67448d",
   "metadata": {},
   "outputs": [
    {
     "name": "stdout",
     "output_type": "stream",
     "text": [
      "2 2 2 2 2 4\n"
     ]
    }
   ],
   "source": [
    "m = 2\n",
    "n = 5\n",
    "\n",
    "A = np.random.randn(m,n)\n",
    "B = np.random.randn(m,n)\n",
    "AtA = A.T@A\n",
    "BtB = B.T@B\n",
    "\n",
    "rankA = np.linalg.matrix_rank(A) # r = 2\n",
    "rankB = np.linalg.matrix_rank(B) # r = 2\n",
    "rankAtA = np.linalg.matrix_rank(AtA) # r = 2\n",
    "rankBtB = np.linalg.matrix_rank(BtB) # r = 2\n",
    "\n",
    "AB = AtA@BtB \n",
    "AplusB = AtA + BtB \n",
    "rankAB = np.linalg.matrix_rank(AB) # r = 2\n",
    "rankAplusB = np.linalg.matrix_rank(AplusB) # r = 4\n",
    "print(rankA,rankB,rankAtA,rankBtB,rankAB,rankAplusB)"
   ]
  },
  {
   "cell_type": "markdown",
   "id": "8f9c663f",
   "metadata": {},
   "source": [
    "### Is this vector in the span of this set?"
   ]
  },
  {
   "cell_type": "code",
   "execution_count": 200,
   "id": "2848edf7",
   "metadata": {},
   "outputs": [
    {
     "name": "stdout",
     "output_type": "stream",
     "text": [
      "[[4 0]\n",
      " [3 4]\n",
      " [6 0]\n",
      " [2 1]]\n",
      "[[1]\n",
      " [2]\n",
      " [3]\n",
      " [4]]\n",
      "[[1 1 0]\n",
      " [2 2 0]\n",
      " [3 2 1]\n",
      " [4 2 2]]\n",
      "2\n",
      "2\n",
      "3\n",
      "2\n"
     ]
    }
   ],
   "source": [
    "u = np.array([[1,2,3,4]]).T\n",
    "\n",
    "s = np.array([[4,3,6,2],[0,4,0,1]]).T\n",
    "t = np.array([[1,2,2,2],[0,0,1,2]]).T\n",
    "v = np.concatenate((u,s),axis=1)\n",
    "w = np.concatenate((u,t),axis=1)\n",
    "print(s)\n",
    "print(u)\n",
    "print(w)\n",
    "print(np.linalg.matrix_rank(s))\n",
    "print(np.linalg.matrix_rank(t))\n",
    "print(np.linalg.matrix_rank(v))\n",
    "print(np.linalg.matrix_rank(w))"
   ]
  },
  {
   "cell_type": "code",
   "execution_count": null,
   "id": "1179118a",
   "metadata": {},
   "outputs": [],
   "source": []
  }
 ],
 "metadata": {
  "kernelspec": {
   "display_name": "Python 3 (ipykernel)",
   "language": "python",
   "name": "python3"
  },
  "language_info": {
   "codemirror_mode": {
    "name": "ipython",
    "version": 3
   },
   "file_extension": ".py",
   "mimetype": "text/x-python",
   "name": "python",
   "nbconvert_exporter": "python",
   "pygments_lexer": "ipython3",
   "version": "3.9.7"
  }
 },
 "nbformat": 4,
 "nbformat_minor": 5
}
