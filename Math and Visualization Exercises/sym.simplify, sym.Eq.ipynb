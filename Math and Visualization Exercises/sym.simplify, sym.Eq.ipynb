{
 "cells": [
  {
   "cell_type": "code",
   "execution_count": 2,
   "id": "5625c2f3",
   "metadata": {},
   "outputs": [],
   "source": [
    "from IPython.display import display, Math\n",
    "import sympy as sym\n",
    "sym.init_printing()"
   ]
  },
  {
   "cell_type": "code",
   "execution_count": 4,
   "id": "7b951726",
   "metadata": {},
   "outputs": [
    {
     "name": "stdout",
     "output_type": "stream",
     "text": [
      "sys.version_info(major=3, minor=9, micro=7, releaselevel='final', serial=0)\n",
      "IPython version: 7.29.0\n",
      "matplotlib version: 3.4.3\n"
     ]
    }
   ],
   "source": [
    "from IPython.lib import latextools\n",
    "import sys\n",
    "import IPython\n",
    "import matplotlib\n",
    "print(sys.version_info)\n",
    "print(\"IPython version:\", IPython.__version__)\n",
    "print(\"matplotlib version:\", matplotlib.__version__)\n",
    "png = latextools.latex_to_png_mpl('f(x) = y', True)"
   ]
  },
  {
   "cell_type": "code",
   "execution_count": 28,
   "id": "9546f13f",
   "metadata": {},
   "outputs": [
    {
     "data": {
      "text/latex": [
       "$\\displaystyle x^{2 y} = x^{2 y}$"
      ],
      "text/plain": [
       "<IPython.core.display.Math object>"
      ]
     },
     "metadata": {},
     "output_type": "display_data"
    },
    {
     "data": {
      "text/latex": [
       "$\\displaystyle x^{y} x^{- z} = x^{y - z}$"
      ],
      "text/plain": [
       "<IPython.core.display.Math object>"
      ]
     },
     "metadata": {},
     "output_type": "display_data"
    },
    {
     "data": {
      "text/latex": [
       "$\\displaystyle x^{z} y^{z} = x^{z} y^{z}$"
      ],
      "text/plain": [
       "<IPython.core.display.Math object>"
      ]
     },
     "metadata": {},
     "output_type": "display_data"
    }
   ],
   "source": [
    "x, y, z = sym.symbols('x, y, z')\n",
    "expr1 = x**y * x**y\n",
    "expr2 = x**y / x**z\n",
    "expr3 = x**z * y**z\n",
    "display(Math('%s = %s' %(sym.latex(expr1),sym.latex(sym.simplify(expr1)))))\n",
    "display(Math('%s = %s' %(sym.latex(expr2),sym.latex(sym.simplify(expr2)))))\n",
    "display(Math('%s = %s' %(sym.latex(expr3),sym.latex(sym.simplify(expr3)))))"
   ]
  },
  {
   "cell_type": "code",
   "execution_count": 46,
   "id": "2344949e",
   "metadata": {},
   "outputs": [
    {
     "data": {
      "text/latex": [
       "$\\displaystyle \\text{True}$"
      ],
      "text/plain": [
       "True"
      ]
     },
     "execution_count": 46,
     "metadata": {},
     "output_type": "execute_result"
    }
   ],
   "source": [
    "sym.Eq(sym.expand(expr1-sym.simplify(expr1)))"
   ]
  },
  {
   "cell_type": "code",
   "execution_count": 6,
   "id": "b09fd131",
   "metadata": {},
   "outputs": [
    {
     "data": {
      "text/latex": [
       "$\\displaystyle e^{4}$"
      ],
      "text/plain": [
       "<IPython.core.display.Math object>"
      ]
     },
     "metadata": {},
     "output_type": "display_data"
    },
    {
     "data": {
      "text/latex": [
       "$\\displaystyle \\text{True}$"
      ],
      "text/plain": [
       "True"
      ]
     },
     "execution_count": 6,
     "metadata": {},
     "output_type": "execute_result"
    }
   ],
   "source": [
    "mu, alpha = sym.symbols('mu, alpha')\n",
    "display(Math(sym.latex(sym.exp(4))))\n",
    "sym.Eq(4-4)"
   ]
  }
 ],
 "metadata": {
  "kernelspec": {
   "display_name": "Python 3 (ipykernel)",
   "language": "python",
   "name": "python3"
  },
  "language_info": {
   "codemirror_mode": {
    "name": "ipython",
    "version": 3
   },
   "file_extension": ".py",
   "mimetype": "text/x-python",
   "name": "python",
   "nbconvert_exporter": "python",
   "pygments_lexer": "ipython3",
   "version": "3.9.7"
  }
 },
 "nbformat": 4,
 "nbformat_minor": 5
}
