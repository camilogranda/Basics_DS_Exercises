{
 "cells": [
  {
   "cell_type": "code",
   "execution_count": 2,
   "id": "cc148280",
   "metadata": {},
   "outputs": [],
   "source": [
    "import numpy as np\n",
    "import matplotlib.pyplot as plt"
   ]
  },
  {
   "cell_type": "code",
   "execution_count": 51,
   "id": "91e15046",
   "metadata": {},
   "outputs": [
    {
     "name": "stdout",
     "output_type": "stream",
     "text": [
      "[0. 1. 2.]\n",
      "[0. 1. 2.]\n",
      "[0. 1. 2.]\n",
      "[0. 1. 2. 3.]\n",
      "[0. 1. 2. 3. 4.]\n",
      "[0. 1. 2.]\n",
      "[0. 1. 2.]\n",
      "[0. 1. 2.]\n",
      "[0. 1. 2.]\n",
      "[0. 1. 2. 3. 4.]\n"
     ]
    }
   ],
   "source": [
    "A = np.random.rand(14,10)\n",
    "B = np.random.rand(14,10)\n",
    "C = np.random.rand(10,14)\n",
    "\n",
    "np.shape(B@C)\n",
    "\n",
    "for i in range(0,len(B[1])):\n",
    "    matmult = np.arange(np.dot(B[:,i],C[i]))\n",
    "    print(matmult)"
   ]
  },
  {
   "cell_type": "code",
   "execution_count": 4,
   "id": "1cb50658",
   "metadata": {},
   "outputs": [],
   "source": [
    "def matrix_mult(A,B):\n",
    "    \n",
    "    szA = np.shape(A)\n",
    "    szB = np.shape(B)\n",
    "    \n",
    "    if szA[1] != szB[0]:\n",
    "        raise ValueError('\"Inner\" dimensions don\\'t match!')\n",
    "    \n",
    "    #initialize\n",
    "    C = np.zeros((szA[0],szB[1]))\n",
    "    \n",
    "    for i in range(szA[0]):\n",
    "        for j in range(szB[1]):\n",
    "            C[i,j] = np.dot(A[i,:],B[:,j])\n",
    "            \n",
    "    return C"
   ]
  },
  {
   "cell_type": "code",
   "execution_count": 6,
   "id": "235049bb",
   "metadata": {},
   "outputs": [
    {
     "name": "stdout",
     "output_type": "stream",
     "text": [
      "[[0.21253379 0.36339771 0.06958159 0.97176051 0.34134197 0.6373089 ]\n",
      " [0.60674454 0.90015576 0.55294128 0.31988018 0.46193018 0.04616263]\n",
      " [0.11981029 0.32350338 0.75633181 0.44737042 0.19105532 0.37379168]\n",
      " [0.44187808 0.04104681 0.51901797 0.8379229  0.05852124 0.15941783]]\n",
      "\n",
      "[[0.87608581 0.78016163 0.51880833 0.57471117]\n",
      " [0.74454608 0.79819771 0.83427516 0.6286157 ]\n",
      " [0.86292839 0.26739963 0.54699427 0.4971856 ]\n",
      " [0.46638588 0.23142192 0.96660903 0.01891823]\n",
      " [0.45645878 0.63895456 0.03113327 0.66619801]\n",
      " [0.10540286 0.91907812 0.9901739  0.22043016]]\n",
      "[[ 2.22044605e-16  0.00000000e+00 -4.44089210e-16  1.11022302e-16]\n",
      " [ 0.00000000e+00  0.00000000e+00  0.00000000e+00 -2.22044605e-16]\n",
      " [ 0.00000000e+00  0.00000000e+00  0.00000000e+00 -1.11022302e-16]\n",
      " [ 0.00000000e+00  1.11022302e-16  0.00000000e+00  0.00000000e+00]]\n"
     ]
    }
   ],
   "source": [
    "A = np.random.rand(4,6)\n",
    "B = np.random.rand(6,4)\n",
    "\n",
    "C1 = matrix_mult(A,B)\n",
    "C2 = A@B\n",
    "print(A)\n",
    "print()\n",
    "print(B)\n",
    "print(C1-C2)"
   ]
  },
  {
   "cell_type": "markdown",
   "id": "998093ce",
   "metadata": {},
   "source": [
    "### Transposing vectors"
   ]
  },
  {
   "cell_type": "code",
   "execution_count": 91,
   "id": "48ba79b7",
   "metadata": {},
   "outputs": [
    {
     "data": {
      "text/plain": [
       "array([[ 0.78961203],\n",
       "       [-1.01977824],\n",
       "       [ 0.15002976],\n",
       "       [ 0.38010273],\n",
       "       [ 1.21031445],\n",
       "       [-0.5035917 ],\n",
       "       [-0.40381936],\n",
       "       [ 0.21638062],\n",
       "       [-1.02570243],\n",
       "       [-0.2651013 ]])"
      ]
     },
     "execution_count": 91,
     "metadata": {},
     "output_type": "execute_result"
    }
   ],
   "source": [
    "r = np.random.randn(1,10)\n",
    "rt1 = np.transpose(r)\n",
    "rt2 = r.T\n",
    "rt1"
   ]
  },
  {
   "cell_type": "code",
   "execution_count": 137,
   "id": "78c00637",
   "metadata": {},
   "outputs": [
    {
     "data": {
      "image/png": "[encoded data removed]",
      "text/plain": [
       "<Figure size 432x288 with 2 Axes>"
      ]
     },
     "metadata": {},
     "output_type": "display_data"
    }
   ],
   "source": [
    "mat = np.random.randn(8,4)\n",
    "matT = mat.T\n",
    "\n",
    "fig,ax = plt.subplots(1,2)\n",
    "\n",
    "ax[0].imshow(mat)\n",
    "ax[0].set_title('M')\n",
    "ax[1].imshow(matT)\n",
    "ax[1].set_title('M$^T$')\n",
    "\n",
    "for i in ax:\n",
    "    i.set_xticks([])\n",
    "    i.set_yticks([])\n",
    "\n",
    "plt.show()"
   ]
  },
  {
   "cell_type": "code",
   "execution_count": 136,
   "id": "7cfb04e5",
   "metadata": {},
   "outputs": [
    {
     "name": "stdout",
     "output_type": "stream",
     "text": [
      "[[0.76353679 0.12532129 0.53686958]\n",
      " [0.09598839 0.46821223 0.45492113]]\n",
      "[[0.76353679 0.09598839]\n",
      " [0.12532129 0.46821223]\n",
      " [0.53686958 0.45492113]]\n",
      "[[0.8869228  0.37620095]\n",
      " [0.37620095 0.4353897 ]]\n",
      "(2, 2)\n",
      "[[0. 0.]\n",
      " [0. 0.]]\n"
     ]
    }
   ],
   "source": [
    "m = 2\n",
    "n = 3\n",
    "\n",
    "mat = np.random.rand(m,n)\n",
    "\n",
    "matxT = mat@mat.T\n",
    "\n",
    "print(mat)\n",
    "print(mat.T)\n",
    "print(matxT)\n",
    "print(np.shape(matxT))\n",
    "print(matxT - matxT.T)"
   ]
  }
 ],
 "metadata": {
  "kernelspec": {
   "display_name": "Python 3 (ipykernel)",
   "language": "python",
   "name": "python3"
  },
  "language_info": {
   "codemirror_mode": {
    "name": "ipython",
    "version": 3
   },
   "file_extension": ".py",
   "mimetype": "text/x-python",
   "name": "python",
   "nbconvert_exporter": "python",
   "pygments_lexer": "ipython3",
   "version": "3.9.7"
  }
 },
 "nbformat": 4,
 "nbformat_minor": 5
}
