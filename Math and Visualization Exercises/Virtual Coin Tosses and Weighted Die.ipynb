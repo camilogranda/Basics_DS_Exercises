{
 "cells": [
  {
   "cell_type": "code",
   "execution_count": 1,
   "id": "9bc486a5",
   "metadata": {},
   "outputs": [],
   "source": [
    "import numpy as np\n",
    "import matplotlib.pyplot as plt"
   ]
  },
  {
   "cell_type": "code",
   "execution_count": 77,
   "id": "abd5af56",
   "metadata": {},
   "outputs": [
    {
     "name": "stdout",
     "output_type": "stream",
     "text": [
      "10\n",
      "[[0. 0. 1. 0. 0. 0. 0. 0. 0. 1.]\n",
      " [1. 0. 1. 1. 0. 0. 1. 1. 0. 0.]]\n"
     ]
    }
   ],
   "source": [
    "faircoin = .5\n",
    "biascoin = .6\n",
    "\n",
    "nTrials = 10\n",
    "\n",
    "#initialize\n",
    "results = np.zeros((2,nTrials))\n",
    "print(nTrials)\n",
    "\n",
    "for i in range(0,nTrials):\n",
    "    results[0,i] = np.random.rand()>faircoin\n",
    "    results[1,i] = np.random.rand()>biascoin\n",
    "\n",
    "print(results)\n",
    "# plt.plot(results[0,:]-.05,'s',markersize=10,label='fair coin')\n",
    "# plt.plot(results[1,:]+.05,'s',markersize=10,label='bias coin')\n",
    "# plt.yticks([0,1],('Tails','Heads'))\n",
    "# plt.xlabel('flip #')\n",
    "# plt.ylim([-.5,1.5])\n",
    "# plt.legend()\n",
    "# plt.show()"
   ]
  },
  {
   "cell_type": "code",
   "execution_count": 51,
   "id": "e40c25fb",
   "metadata": {},
   "outputs": [
    {
     "data": {
      "text/html": [
       "<div>\n",
       "<style scoped>\n",
       "    .dataframe tbody tr th:only-of-type {\n",
       "        vertical-align: middle;\n",
       "    }\n",
       "\n",
       "    .dataframe tbody tr th {\n",
       "        vertical-align: top;\n",
       "    }\n",
       "\n",
       "    .dataframe thead th {\n",
       "        text-align: right;\n",
       "    }\n",
       "</style>\n",
       "<table border=\"1\" class=\"dataframe\">\n",
       "  <thead>\n",
       "    <tr style=\"text-align: right;\">\n",
       "      <th></th>\n",
       "      <th>0</th>\n",
       "      <th>1</th>\n",
       "      <th>2</th>\n",
       "      <th>3</th>\n",
       "      <th>4</th>\n",
       "      <th>5</th>\n",
       "      <th>6</th>\n",
       "      <th>7</th>\n",
       "      <th>8</th>\n",
       "      <th>9</th>\n",
       "      <th>avg</th>\n",
       "    </tr>\n",
       "  </thead>\n",
       "  <tbody>\n",
       "    <tr>\n",
       "      <th>fair</th>\n",
       "      <td>0</td>\n",
       "      <td>0</td>\n",
       "      <td>1</td>\n",
       "      <td>1</td>\n",
       "      <td>1</td>\n",
       "      <td>1</td>\n",
       "      <td>1</td>\n",
       "      <td>1</td>\n",
       "      <td>1</td>\n",
       "      <td>0</td>\n",
       "      <td>0.7</td>\n",
       "    </tr>\n",
       "    <tr>\n",
       "      <th>biased</th>\n",
       "      <td>1</td>\n",
       "      <td>0</td>\n",
       "      <td>0</td>\n",
       "      <td>0</td>\n",
       "      <td>0</td>\n",
       "      <td>1</td>\n",
       "      <td>0</td>\n",
       "      <td>1</td>\n",
       "      <td>0</td>\n",
       "      <td>0</td>\n",
       "      <td>0.3</td>\n",
       "    </tr>\n",
       "  </tbody>\n",
       "</table>\n",
       "</div>"
      ],
      "text/plain": [
       "        0  1  2  3  4  5  6  7  8  9  avg\n",
       "fair    0  0  1  1  1  1  1  1  1  0  0.7\n",
       "biased  1  0  0  0  0  1  0  1  0  0  0.3"
      ]
     },
     "execution_count": 51,
     "metadata": {},
     "output_type": "execute_result"
    }
   ],
   "source": [
    "import pandas as pd\n",
    "df = pd.DataFrame(results,dtype='int',index=['fair','biased']) \n",
    "df['avg'] = df.mean(axis=1)\n",
    "df"
   ]
  },
  {
   "cell_type": "code",
   "execution_count": 115,
   "id": "b2bb808d",
   "metadata": {},
   "outputs": [
    {
     "name": "stdout",
     "output_type": "stream",
     "text": [
      "[16.  8.  6.  8.  3.  9.]\n"
     ]
    },
    {
     "data": {
      "image/png": "[encoded data removed]",
      "text/plain": [
       "<Figure size 432x288 with 1 Axes>"
      ]
     },
     "metadata": {
      "needs_background": "light"
     },
     "output_type": "display_data"
    }
   ],
   "source": [
    "n = 50\n",
    "\n",
    "outcomes = np.zeros(6)\n",
    "\n",
    "pureprobs = np.array([2,1,1,1,1,1])\n",
    "pureprobs = pureprobs/np.sum(pureprobs)\n",
    "pureprobs\n",
    "\n",
    "for i in range(n):\n",
    "    dieroll = np.random.randint(0,7)\n",
    "    \n",
    "    if dieroll == 6:\n",
    "        dieroll = 0\n",
    "        \n",
    "    outcomes[dieroll] += 1\n",
    "print(outcomes)\n",
    "\n",
    "plt.bar(range(1,7),outcomes/n,color='k',label='Empirical distr. (proportion)')\n",
    "plt.plot(range(1,7),pureprobs,'ms-',markersize=10,label='Theoretical (probability)')\n",
    "\n",
    "plt.xlabel('Die face')\n",
    "plt.ylabel('Proportion or probability')\n",
    "plt.legend()\n",
    "\n",
    "for i in range(1,7):\n",
    "    plt.text(i,outcomes[i-1]/n-.025,'%s%%'%int(100*outcomes[i-1]/n), \\\n",
    "             color='w',fontsize=12,horizontalalignment='center')\n",
    "\n",
    "plt.show()"
   ]
  }
 ],
 "metadata": {
  "kernelspec": {
   "display_name": "Python 3 (ipykernel)",
   "language": "python",
   "name": "python3"
  },
  "language_info": {
   "codemirror_mode": {
    "name": "ipython",
    "version": 3
   },
   "file_extension": ".py",
   "mimetype": "text/x-python",
   "name": "python",
   "nbconvert_exporter": "python",
   "pygments_lexer": "ipython3",
   "version": "3.9.7"
  }
 },
 "nbformat": 4,
 "nbformat_minor": 5
}
