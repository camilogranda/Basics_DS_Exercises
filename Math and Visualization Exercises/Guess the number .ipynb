{
 "cells": [
  {
   "cell_type": "code",
   "execution_count": null,
   "id": "2086feb6",
   "metadata": {},
   "outputs": [],
   "source": [
    "from numpy import random\n",
    "# Guess the number game\n",
    "\n",
    "while g != r:\n",
    "    g = int(input('Guess a number from 1 to 100'))\n",
    "    r = random.randint(1, 101)\n",
    "    \n",
    "    if g > r:\n",
    "        print('Guess higher!')\n",
    "    elif g < r:\n",
    "        print('Guess lower!')\n",
    "    else:\n",
    "        print('Got it! The right number is {r} and you guessed {g}')"
   ]
  },
  {
   "cell_type": "code",
   "execution_count": 127,
   "id": "ce7bba33",
   "metadata": {},
   "outputs": [],
   "source": [
    "def guessthenumber():\n",
    "    r = int(random.randint(1, 101))\n",
    "    g = int(input('Guess a number from 1 to 100: '))\n",
    "    \n",
    "    while g != r:\n",
    "    \n",
    "        if g < r:\n",
    "            print('Guess higher!')\n",
    "            g = int(input('Guess again: '))\n",
    "        elif g > r:\n",
    "            print('Guess lower!')\n",
    "            g = int(input('Guess again: '))\n",
    "    else:\n",
    "        print('Got it! The right number is %g and your final guess was %g' %(r, g))"
   ]
  },
  {
   "cell_type": "code",
   "execution_count": 109,
   "id": "2d06c3dc",
   "metadata": {},
   "outputs": [],
   "source": [
    "def guess():\n",
    "    a = int(random.randint(1, 10))\n",
    "    b = int(input('Guess a number from 1 to 10: '))\n",
    "    while b != a:\n",
    "        if b > a:\n",
    "            print('Guess lower')\n",
    "            b = int(input('Guess again: '))\n",
    "        elif b < a:\n",
    "            print('Guess higher')\n",
    "            b = int(input('Guess again: '))\n",
    "    else:\n",
    "        print('Got it')\n"
   ]
  },
  {
   "cell_type": "code",
   "execution_count": 130,
   "id": "e9f96fc8",
   "metadata": {},
   "outputs": [],
   "source": [
    "def guessthenumber1():\n",
    "    r = int(random.randint(1, 101))\n",
    "    g = int(input('Guess a number from 1 to 100: '))\n",
    "    \n",
    "    while g != r:\n",
    "        if g < r:\n",
    "            print('Guess higher!')\n",
    "        elif g > r:\n",
    "            print('Guess lower!')\n",
    "        \n",
    "        g = int(input('Guess again: '))\n",
    "\n",
    "    print('Got it! The right number is %g and your final guess was %g' %(r, g))"
   ]
  },
  {
   "cell_type": "code",
   "execution_count": 131,
   "id": "248afe8d",
   "metadata": {},
   "outputs": [
    {
     "name": "stdout",
     "output_type": "stream",
     "text": [
      "Guess a number from 1 to 100: 50\n",
      "Guess lower!\n",
      "Guess again: 49\n",
      "Guess lower!\n",
      "Guess again: 25\n",
      "Guess lower!\n",
      "Guess again: 10\n",
      "Guess higher!\n",
      "Guess again: 15\n",
      "Guess higher!\n",
      "Guess again: 17\n",
      "Guess higher!\n",
      "Guess again: 19\n",
      "Guess higher!\n",
      "Guess again: 24\n",
      "Guess lower!\n",
      "Guess again: 22\n",
      "Got it! The right number is 22 and your final guess was 22\n"
     ]
    }
   ],
   "source": [
    "guessthenumber1()"
   ]
  },
  {
   "cell_type": "code",
   "execution_count": null,
   "id": "cff497b3",
   "metadata": {},
   "outputs": [],
   "source": [
    "def angle_convert_plot():\n",
    "    \n",
    "    angle = input('What angle to convert? ')\n",
    "    print('Which unit did you input? Press 1 for degrees or 2 for radians')\n",
    "    unit = int(input())\n",
    "    \n",
    "    if unit == 1:\n",
    "        rad = (np.deg2rad(angle))%360\n",
    "    elif unit == 2:\n",
    "        deg = (np.rad2deg(angle))%2*np.pi\n",
    "    else:\n",
    "        print('Invalid input!')\n",
    "        \n",
    "    plt.plot([0,1],[0,0],'r',linewidth='3')\n",
    "    plt.plot([0,np.cos(angle),[0,np.sin(angle)]])\n",
    "    \n",
    "    plt.grid()\n",
    "    plt.title('Angle of %g°, or %g rad.'%(deg,rad))\n",
    "    \n",
    "    plt.show()"
   ]
  }
 ],
 "metadata": {
  "kernelspec": {
   "display_name": "Python 3 (ipykernel)",
   "language": "python",
   "name": "python3"
  },
  "language_info": {
   "codemirror_mode": {
    "name": "ipython",
    "version": 3
   },
   "file_extension": ".py",
   "mimetype": "text/x-python",
   "name": "python",
   "nbconvert_exporter": "python",
   "pygments_lexer": "ipython3",
   "version": "3.9.7"
  }
 },
 "nbformat": 4,
 "nbformat_minor": 5
}
