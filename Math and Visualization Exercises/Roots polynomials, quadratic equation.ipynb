{
 "cells": [
  {
   "cell_type": "code",
   "execution_count": 2,
   "id": "03c7c2c1",
   "metadata": {},
   "outputs": [],
   "source": [
    "import numpy as np\n",
    "import sympy as sym\n",
    "import matplotlib.pyplot as plt\n",
    "from importlib import reload\n",
    "plt=reload(plt)\n",
    "from IPython.display import display,Math\n",
    "import scipy as sp"
   ]
  },
  {
   "cell_type": "code",
   "execution_count": 3,
   "id": "fc9fa921",
   "metadata": {},
   "outputs": [
    {
     "name": "stdout",
     "output_type": "stream",
     "text": [
      "[-1.          0.33333333]\n"
     ]
    }
   ],
   "source": [
    "#polynomial: 3x^2+2x-1 = 0\n",
    "\n",
    "coefs = [3,2,-1]\n",
    "\n",
    "roots = np.roots(coefs)\n",
    "\n",
    "print(roots)"
   ]
  },
  {
   "cell_type": "code",
   "execution_count": 4,
   "id": "9b9ee0a4",
   "metadata": {},
   "outputs": [
    {
     "data": {
      "text/latex": [
       "$\\displaystyle \\text{At }x=-1,\\quad 3 x^{2} + 2 x - 1 = 0$"
      ],
      "text/plain": [
       "<IPython.core.display.Math object>"
      ]
     },
     "metadata": {},
     "output_type": "display_data"
    },
    {
     "data": {
      "text/latex": [
       "$\\displaystyle \\text{At }x=0.333333,\\quad 3 x^{2} + 2 x - 1 = -5.55112e-17$"
      ],
      "text/plain": [
       "<IPython.core.display.Math object>"
      ]
     },
     "metadata": {},
     "output_type": "display_data"
    }
   ],
   "source": [
    "x = sym.symbols('x')\n",
    "\n",
    "polyn = 3*x**2 + 2*x - 1\n",
    "\n",
    "for i in roots:\n",
    "    display(Math('\\\\text{At }x=%g,\\\\quad %s = %g'%(i,sym.latex(polyn),polyn.subs(x,i))))"
   ]
  },
  {
   "cell_type": "code",
   "execution_count": 5,
   "id": "9ca23528",
   "metadata": {},
   "outputs": [
    {
     "name": "stdout",
     "output_type": "stream",
     "text": [
      "A degree 0 polynomial has 0 roots\n",
      "A degree 1 polynomial has 1 roots\n",
      "A degree 2 polynomial has 2 roots\n",
      "A degree 3 polynomial has 3 roots\n",
      "A degree 4 polynomial has 4 roots\n",
      "A degree 5 polynomial has 5 roots\n",
      "A degree 6 polynomial has 6 roots\n",
      "A degree 7 polynomial has 7 roots\n",
      "A degree 8 polynomial has 8 roots\n",
      "A degree 9 polynomial has 9 roots\n"
     ]
    }
   ],
   "source": [
    "\n",
    "for i in range(1,11):\n",
    "    coefs1 = np.arange(1,i+1)\n",
    "    print('A degree %s polynomial has %s roots'%(len(coefs1)-1,len(np.roots(coefs1))))\n",
    "\n"
   ]
  },
  {
   "cell_type": "markdown",
   "id": "a65a8a44",
   "metadata": {},
   "source": [
    "## Quadratic equation"
   ]
  },
  {
   "cell_type": "code",
   "execution_count": 15,
   "id": "8169dcd4",
   "metadata": {},
   "outputs": [],
   "source": [
    "def quadeq(a,b,c):\n",
    "    \n",
    "    #initialize\n",
    "    out = sp.zeros(2,dtype=complex)\n",
    "    \n",
    "    out[0] = (-b + sp.sqrt(b**2 - 4*a*c))/(2*a)\n",
    "    out[1] = (-b - sp.sqrt(b**2 - 4*a*c))/(2*a)\n",
    "    \n",
    "    return(out)"
   ]
  },
  {
   "cell_type": "code",
   "execution_count": 17,
   "id": "e7f6cbee",
   "metadata": {},
   "outputs": [
    {
     "name": "stderr",
     "output_type": "stream",
     "text": [
      "C:\\Users\\Milo\\AppData\\Local\\Temp/ipykernel_14228/2377213362.py:4: DeprecationWarning: scipy.zeros is deprecated and will be removed in SciPy 2.0.0, use numpy.zeros instead\n",
      "  out = sp.zeros(2,dtype=complex)\n",
      "C:\\Users\\Milo\\AppData\\Local\\Temp/ipykernel_14228/2377213362.py:6: DeprecationWarning: scipy.sqrt is deprecated and will be removed in SciPy 2.0.0, use numpy.lib.scimath.sqrt instead\n",
      "  out[0] = (-b + sp.sqrt(b**2 - 4*a*c))/(2*a)\n",
      "C:\\Users\\Milo\\AppData\\Local\\Temp/ipykernel_14228/2377213362.py:7: DeprecationWarning: scipy.sqrt is deprecated and will be removed in SciPy 2.0.0, use numpy.lib.scimath.sqrt instead\n",
      "  out[1] = (-b - sp.sqrt(b**2 - 4*a*c))/(2*a)\n"
     ]
    },
    {
     "data": {
      "text/plain": [
       "array([-1. +0.j, -2.5+0.j])"
      ]
     },
     "execution_count": 17,
     "metadata": {},
     "output_type": "execute_result"
    }
   ],
   "source": [
    "sol = quadeq(2,7,5)\n",
    "sol"
   ]
  },
  {
   "cell_type": "code",
   "execution_count": 50,
   "id": "1a90360d",
   "metadata": {},
   "outputs": [
    {
     "name": "stderr",
     "output_type": "stream",
     "text": [
      "C:\\Users\\Milo\\AppData\\Local\\Temp/ipykernel_14228/2377213362.py:4: DeprecationWarning: scipy.zeros is deprecated and will be removed in SciPy 2.0.0, use numpy.zeros instead\n",
      "  out = sp.zeros(2,dtype=complex)\n",
      "C:\\Users\\Milo\\AppData\\Local\\Temp/ipykernel_14228/2377213362.py:6: DeprecationWarning: scipy.sqrt is deprecated and will be removed in SciPy 2.0.0, use numpy.lib.scimath.sqrt instead\n",
      "  out[0] = (-b + sp.sqrt(b**2 - 4*a*c))/(2*a)\n",
      "C:\\Users\\Milo\\AppData\\Local\\Temp/ipykernel_14228/2377213362.py:7: DeprecationWarning: scipy.sqrt is deprecated and will be removed in SciPy 2.0.0, use numpy.lib.scimath.sqrt instead\n",
      "  out[1] = (-b - sp.sqrt(b**2 - 4*a*c))/(2*a)\n",
      "C:\\Users\\Milo\\AppData\\Local\\Temp/ipykernel_14228/2934568958.py:9: ComplexWarning: Casting complex values to real discards the imaginary part\n",
      "  M[i,j] = quadeq(1,b[i],c[j])[0]\n"
     ]
    },
    {
     "name": "stdout",
     "output_type": "stream",
     "text": [
      "[[ 5.37228132  5.1925824   5.          4.79128785  4.56155281  4.30277564\n",
      "   4.          3.61803399  3.          2.5         2.5         2.5       ]\n",
      " [ 4.44948974  4.23606798  4.          3.73205081  3.41421356  3.\n",
      "   2.          2.          2.          2.          2.          2.        ]\n",
      " [ 3.56155281  3.30277564  3.          2.61803399  2.          1.5\n",
      "   1.5         1.5         1.5         1.5         1.5         1.5       ]\n",
      " [ 2.73205081  2.41421356  2.          1.          1.          1.\n",
      "   1.          1.          1.          1.          1.          1.        ]\n",
      " [ 2.          1.61803399  1.          0.5         0.5         0.5\n",
      "   0.5         0.5         0.5         0.5         0.5         0.5       ]\n",
      " [ 1.41421356  1.          0.          0.          0.          0.\n",
      "   0.          0.          0.          0.          0.          0.        ]\n",
      " [ 1.          0.61803399  0.         -0.5        -0.5        -0.5\n",
      "  -0.5        -0.5        -0.5        -0.5        -0.5        -0.5       ]\n",
      " [ 0.73205081  0.41421356  0.         -1.         -1.         -1.\n",
      "  -1.         -1.         -1.         -1.         -1.         -1.        ]\n",
      " [ 0.56155281  0.30277564  0.         -0.38196601 -1.         -1.5\n",
      "  -1.5        -1.5        -1.5        -1.5        -1.5        -1.5       ]\n",
      " [ 0.44948974  0.23606798  0.         -0.26794919 -0.58578644 -1.\n",
      "  -2.         -2.         -2.         -2.         -2.         -2.        ]]\n"
     ]
    },
    {
     "data": {
      "image/png": "[encoded data removed]",
      "text/plain": [
       "<Figure size 432x288 with 2 Axes>"
      ]
     },
     "metadata": {
      "needs_background": "light"
     },
     "output_type": "display_data"
    }
   ],
   "source": [
    "a = 1\n",
    "b = range(-5,6)\n",
    "c = range(-2,11)\n",
    "\n",
    "M = np.zeros([10,12])\n",
    "\n",
    "for i in range(0,np.shape(M)[0]):\n",
    "    for j in range(0,np.shape(M)[1]):\n",
    "        M[i,j] = quadeq(1,b[i],c[j])[0]\n",
    "        \n",
    "print(M)\n",
    "\n",
    "plt.imshow(M,extent=[c[0],c[-1],b[0],b[-1]])\n",
    "plt.xlabel('x')\n",
    "plt.xlabel('y')\n",
    "plt.title('a =' + str(a))\n",
    "plt.colorbar()\n",
    "plt.show()"
   ]
  },
  {
   "cell_type": "code",
   "execution_count": 49,
   "id": "7fc64f22",
   "metadata": {},
   "outputs": [
    {
     "name": "stderr",
     "output_type": "stream",
     "text": [
      "C:\\Users\\Milo\\AppData\\Local\\Temp/ipykernel_14228/2377213362.py:4: DeprecationWarning: scipy.zeros is deprecated and will be removed in SciPy 2.0.0, use numpy.zeros instead\n",
      "  out = sp.zeros(2,dtype=complex)\n",
      "C:\\Users\\Milo\\AppData\\Local\\Temp/ipykernel_14228/2377213362.py:6: DeprecationWarning: scipy.sqrt is deprecated and will be removed in SciPy 2.0.0, use numpy.lib.scimath.sqrt instead\n",
      "  out[0] = (-b + sp.sqrt(b**2 - 4*a*c))/(2*a)\n",
      "C:\\Users\\Milo\\AppData\\Local\\Temp/ipykernel_14228/2377213362.py:7: DeprecationWarning: scipy.sqrt is deprecated and will be removed in SciPy 2.0.0, use numpy.lib.scimath.sqrt instead\n",
      "  out[1] = (-b - sp.sqrt(b**2 - 4*a*c))/(2*a)\n"
     ]
    },
    {
     "data": {
      "image/png": "[encoded data removed]",
      "text/plain": [
       "<Figure size 432x288 with 3 Axes>"
      ]
     },
     "metadata": {
      "needs_background": "light"
     },
     "output_type": "display_data"
    }
   ],
   "source": [
    "a = 1\n",
    "b = range(-5,6)\n",
    "c = range(-2,11)\n",
    "\n",
    "M = np.zeros([10,12],dtype=complex)\n",
    "\n",
    "for i in range(0,np.shape(M)[0]):\n",
    "    for j in range(0,np.shape(M)[1]):\n",
    "        M[i,j] = quadeq(1,b[i],c[j])[0]\n",
    "\n",
    "plt.subplot(1,3,1)\n",
    "plt.imshow(np.real(M),extent=[c[0],c[-1],b[0],b[-1]])\n",
    "plt.axis('off')\n",
    "plt.title('real part')\n",
    "\n",
    "plt.subplot(1,3,2)\n",
    "plt.imshow(np.imag(M),extent=[c[0],c[-1],b[0],b[-1]])\n",
    "plt.axis('off')\n",
    "plt.title('imag part')\n",
    "\n",
    "plt.subplot(1,3,3)\n",
    "plt.imshow(np.absolute(M),extent=[c[0],c[-1],b[0],b[-1]])\n",
    "plt.axis('off')\n",
    "plt.title('magnitude')\n",
    "\n",
    "plt.show()"
   ]
  }
 ],
 "metadata": {
  "kernelspec": {
   "display_name": "Python 3 (ipykernel)",
   "language": "python",
   "name": "python3"
  },
  "language_info": {
   "codemirror_mode": {
    "name": "ipython",
    "version": 3
   },
   "file_extension": ".py",
   "mimetype": "text/x-python",
   "name": "python",
   "nbconvert_exporter": "python",
   "pygments_lexer": "ipython3",
   "version": "3.9.7"
  }
 },
 "nbformat": 4,
 "nbformat_minor": 5
}
