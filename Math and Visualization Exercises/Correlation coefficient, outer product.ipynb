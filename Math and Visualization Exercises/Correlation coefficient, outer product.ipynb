{
 "cells": [
  {
   "cell_type": "code",
   "execution_count": 1,
   "id": "364b5ce7",
   "metadata": {},
   "outputs": [],
   "source": [
    "import numpy as np\n",
    "import matplotlib.pyplot as plt"
   ]
  },
  {
   "cell_type": "markdown",
   "id": "9e454757",
   "metadata": {},
   "source": [
    "### Correlation coefficient"
   ]
  },
  {
   "cell_type": "code",
   "execution_count": 18,
   "id": "042d24d6",
   "metadata": {},
   "outputs": [
    {
     "name": "stdout",
     "output_type": "stream",
     "text": [
      "0.60530206024143\n",
      "[[1.         0.60530206]\n",
      " [0.60530206 1.        ]]\n",
      "0.6053020602414299\n"
     ]
    },
    {
     "data": {
      "image/png": "[encoded data removed]",
      "text/plain": [
       "<Figure size 432x288 with 1 Axes>"
      ]
     },
     "metadata": {
      "needs_background": "light"
     },
     "output_type": "display_data"
    }
   ],
   "source": [
    "# Data\n",
    "mikes_courses = [4,5,8,2,9,9,1,3,7]\n",
    "life_happiness = [6,7,9,3,9,3,1,6,7]\n",
    "\n",
    "# Mean center\n",
    "\n",
    "m = mikes_courses - np.mean(mikes_courses)\n",
    "l = life_happiness - np.mean(life_happiness)\n",
    "\n",
    "# compute the correlation\n",
    "\n",
    "num = np.dot(m,l)\n",
    "denom = np.sqrt(np.dot(m,m)) * np.sqrt(np.dot(l,l))\n",
    "\n",
    "# Three ways to compute the Pearson's r\n",
    "r1 = num/denom\n",
    "r2 = np.corrcoef(mikes_courses,life_happiness)\n",
    "r3 = np.corrcoef(m,l)[0][1]\n",
    "\n",
    "print(r1)\n",
    "print(r2)\n",
    "print(r3)\n",
    "\n",
    "plt.plot(mikes_courses,life_happiness,'ms',label='r=%g'%np.round(r1,2))\n",
    "\n",
    "plt.axis([0,10,0,10])\n",
    "plt.gca().set_aspect('equal')\n",
    "plt.xlabel('Number of Mike\\'s courses taken')\n",
    "plt.ylabel('Life happiness')\n",
    "plt.legend()\n",
    "\n",
    "plt.show()"
   ]
  },
  {
   "cell_type": "markdown",
   "id": "faf8aff6",
   "metadata": {},
   "source": [
    "### The outer product (matrix)"
   ]
  },
  {
   "cell_type": "code",
   "execution_count": 24,
   "id": "897c9167",
   "metadata": {},
   "outputs": [
    {
     "data": {
      "image/png": "[encoded data removed]",
      "text/plain": [
       "<Figure size 432x288 with 1 Axes>"
      ]
     },
     "metadata": {
      "needs_background": "light"
     },
     "output_type": "display_data"
    }
   ],
   "source": [
    "v1 = np.random.randn(50)\n",
    "v2 = np.random.randn(80)\n",
    "\n",
    "op = np.outer(v1,v2)\n",
    "\n",
    "plt.imshow(op)\n",
    "\n",
    "plt.show()"
   ]
  },
  {
   "cell_type": "code",
   "execution_count": 58,
   "id": "dda8c640",
   "metadata": {},
   "outputs": [
    {
     "name": "stdout",
     "output_type": "stream",
     "text": [
      "[ 1  2  3  4  5  6  7  8  9 10]\n",
      "[[ 1  2  3  4  5  6  7  8  9 10]\n",
      " [ 2  4  6  8 10 12 14 16 18 20]\n",
      " [ 3  6  9 12 15 18 21 24 27 30]\n",
      " [ 4  8 12 16 20 24 28 32 36 40]\n",
      " [ 5 10 15 20 25 30 35 40 45 50]]\n"
     ]
    }
   ],
   "source": [
    "v1 = np.arange(1,11)\n",
    "v2 = np.arange(1,6)\n",
    "\n",
    "op1 = np.outer(v1,v2)\n",
    "op2 = np.outer(v2,v1)\n",
    "# print(op1[:,0])\n",
    "# print(op1[0])\n",
    "print(op1)\n",
    "print(op2)"
   ]
  },
  {
   "cell_type": "code",
   "execution_count": 41,
   "id": "4c32db99",
   "metadata": {},
   "outputs": [
    {
     "data": {
      "text/plain": [
       "array([[0, 0, 0, 0, 0],\n",
       "       [0, 0, 0, 0, 0],\n",
       "       [0, 0, 0, 0, 0],\n",
       "       [0, 0, 0, 0, 0],\n",
       "       [0, 0, 0, 0, 0],\n",
       "       [0, 0, 0, 0, 0],\n",
       "       [0, 0, 0, 0, 0],\n",
       "       [0, 0, 0, 0, 0],\n",
       "       [0, 0, 0, 0, 0],\n",
       "       [0, 0, 0, 0, 0]])"
      ]
     },
     "execution_count": 41,
     "metadata": {},
     "output_type": "execute_result"
    }
   ],
   "source": [
    "s = 6\n",
    "res1 = s*np.outer(v1,v2)\n",
    "res2 = np.outer(s*v1,v2)\n",
    "res3 = np.outer(v1,s*v2)\n",
    "res4 = np.outer(v1,v2)*s\n",
    "\n",
    "# print(scalarmult1)\n",
    "# print(scalarmult2)\n",
    "# print(scalarmult3)\n",
    "# print(scalarmult4)\n",
    "res1-res4"
   ]
  }
 ],
 "metadata": {
  "kernelspec": {
   "display_name": "Python 3 (ipykernel)",
   "language": "python",
   "name": "python3"
  },
  "language_info": {
   "codemirror_mode": {
    "name": "ipython",
    "version": 3
   },
   "file_extension": ".py",
   "mimetype": "text/x-python",
   "name": "python",
   "nbconvert_exporter": "python",
   "pygments_lexer": "ipython3",
   "version": "3.9.7"
  }
 },
 "nbformat": 4,
 "nbformat_minor": 5
}
