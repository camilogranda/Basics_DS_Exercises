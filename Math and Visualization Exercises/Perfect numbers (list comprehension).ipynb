{
 "cells": [
  {
   "cell_type": "code",
   "execution_count": 19,
   "id": "03898ecb",
   "metadata": {},
   "outputs": [
    {
     "data": {
      "text/plain": [
       "True"
      ]
     },
     "execution_count": 19,
     "metadata": {},
     "output_type": "execute_result"
    }
   ],
   "source": [
    "def test4perfect(number):\n",
    "    divisors = []\n",
    "\n",
    "    for d in range(1,number):\n",
    "        if number%d == 0:\n",
    "            divisors.append(d)\n",
    "    return sum(divisors) == number\n",
    "\n",
    "test4perfect(6)"
   ]
  },
  {
   "cell_type": "code",
   "execution_count": 14,
   "id": "ddc4108b",
   "metadata": {},
   "outputs": [
    {
     "data": {
      "text/plain": [
       "[6, 28, 496, 8128]"
      ]
     },
     "execution_count": 14,
     "metadata": {},
     "output_type": "execute_result"
    }
   ],
   "source": [
    "perfectnums = []\n",
    "\n",
    "for number in range(2,10001):\n",
    "    if test4perfect(number):\n",
    "        perfectnums.append(number)\n",
    "        \n",
    "perfectnums"
   ]
  },
  {
   "cell_type": "code",
   "execution_count": null,
   "id": "3937e336",
   "metadata": {},
   "outputs": [],
   "source": [
    "def test4perfect(number):\n",
    "    return number==sum([ d for d in range(1,number) if number%d==0])"
   ]
  }
 ],
 "metadata": {
  "kernelspec": {
   "display_name": "Python 3 (ipykernel)",
   "language": "python",
   "name": "python3"
  },
  "language_info": {
   "codemirror_mode": {
    "name": "ipython",
    "version": 3
   },
   "file_extension": ".py",
   "mimetype": "text/x-python",
   "name": "python",
   "nbconvert_exporter": "python",
   "pygments_lexer": "ipython3",
   "version": "3.9.7"
  }
 },
 "nbformat": 4,
 "nbformat_minor": 5
}
