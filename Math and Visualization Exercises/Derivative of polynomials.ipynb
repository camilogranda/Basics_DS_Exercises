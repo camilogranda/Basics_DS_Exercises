{
 "cells": [
  {
   "cell_type": "code",
   "execution_count": 2,
   "id": "37a0b756",
   "metadata": {},
   "outputs": [],
   "source": [
    "import sympy as sym\n",
    "import numpy as np\n",
    "import matplotlib.pyplot as plt\n",
    "from IPython.display import display,Math"
   ]
  },
  {
   "cell_type": "code",
   "execution_count": 15,
   "id": "6a989aeb",
   "metadata": {},
   "outputs": [
    {
     "data": {
      "text/latex": [
       "$\\displaystyle f(x) = x^{2} \\quad \\frac {df}{dx} = 2 x$"
      ],
      "text/plain": [
       "<IPython.core.display.Math object>"
      ]
     },
     "metadata": {},
     "output_type": "display_data"
    },
    {
     "data": {
      "text/latex": [
       "$\\displaystyle f(x) = x^{2} \\quad f' = 2 x$"
      ],
      "text/plain": [
       "<IPython.core.display.Math object>"
      ]
     },
     "metadata": {},
     "output_type": "display_data"
    },
    {
     "data": {
      "text/latex": [
       "$\\displaystyle f(x) = x^{2} \\quad \\dot{f} = 2 x$"
      ],
      "text/plain": [
       "<IPython.core.display.Math object>"
      ]
     },
     "metadata": {},
     "output_type": "display_data"
    }
   ],
   "source": [
    "x = sym.symbols('x')\n",
    "\n",
    "fx = x**2\n",
    "dfx = sym.diff(fx)\n",
    "\n",
    "display(Math('f(x) = %s \\\\quad \\\\frac {df}{dx} = %s'%(sym.latex(fx),sym.latex(dfx))))\n",
    "display(Math('f(x) = %s \\\\quad f\\' = %s'%(sym.latex(fx),sym.latex(dfx))))\n",
    "display(Math('f(x) = %s \\\\quad \\\\dot{f} = %s'%(sym.latex(fx),sym.latex(dfx))))"
   ]
  },
  {
   "cell_type": "code",
   "execution_count": 25,
   "id": "47975d26",
   "metadata": {},
   "outputs": [
    {
     "data": {
      "image/png": "[encoded data removed]",
      "text/plain": [
       "<Figure size 432x288 with 1 Axes>"
      ]
     },
     "metadata": {
      "needs_background": "light"
     },
     "output_type": "display_data"
    }
   ],
   "source": [
    "import sympy.plotting.plot as symplot\n",
    "\n",
    "fx = 3 - x**3\n",
    "\n",
    "p = symplot(fx,(x,5,-5),show=False)\n",
    "p.extend(symplot(sym.diff(fx),show=False))\n",
    "\n",
    "p[0].label = '$f(x) = %s$' %(sym.latex(fx))\n",
    "p[1].label = '$f(x) = %s$' %(sym.latex(sym.diff(fx)))\n",
    "p.xlim = [-3,3]\n",
    "p.ylim = [-10,10]\n",
    "p.legend = True\n",
    "p.show()"
   ]
  },
  {
   "cell_type": "code",
   "execution_count": 70,
   "id": "5fbb01a1",
   "metadata": {},
   "outputs": [
    {
     "data": {
      "text/latex": [
       "$\\displaystyle (f+g)' = f'+g'$"
      ],
      "text/plain": [
       "<IPython.core.display.Math object>"
      ]
     },
     "metadata": {},
     "output_type": "display_data"
    },
    {
     "data": {
      "text/latex": [
       "$\\displaystyle (f\\times g)' \\neq f'\\times g'$"
      ],
      "text/plain": [
       "<IPython.core.display.Math object>"
      ]
     },
     "metadata": {},
     "output_type": "display_data"
    },
    {
     "data": {
      "text/latex": [
       "$\\displaystyle (f\\times g)' = f'\\times g + f\\times g'$"
      ],
      "text/plain": [
       "<IPython.core.display.Math object>"
      ]
     },
     "metadata": {},
     "output_type": "display_data"
    },
    {
     "data": {
      "text/latex": [
       "$\\displaystyle \\text{Summation rule}$"
      ],
      "text/plain": [
       "<IPython.core.display.Math object>"
      ]
     },
     "metadata": {},
     "output_type": "display_data"
    },
    {
     "data": {
      "text/latex": [
       "$\\displaystyle (f+g)' = 5 x^{4} + 28 x^{3} - 2 x + 2$"
      ],
      "text/plain": [
       "<IPython.core.display.Math object>"
      ]
     },
     "metadata": {},
     "output_type": "display_data"
    },
    {
     "data": {
      "text/latex": [
       "$\\displaystyle \\quad f' + g' = 5 x^{4} + 28 x^{3} - 2 x + 2$"
      ],
      "text/plain": [
       "<IPython.core.display.Math object>"
      ]
     },
     "metadata": {},
     "output_type": "display_data"
    },
    {
     "data": {
      "text/latex": [
       "$\\displaystyle \\text{Without the multiplication rule}$"
      ],
      "text/plain": [
       "<IPython.core.display.Math object>"
      ]
     },
     "metadata": {},
     "output_type": "display_data"
    },
    {
     "data": {
      "text/latex": [
       "$\\displaystyle \\quad (f\\times g)'= 63 x^{8} - 35 x^{6} + 180 x^{5} + 15 x^{4} - 80 x^{3} + 24 x^{2} + 24 x$"
      ],
      "text/plain": [
       "<IPython.core.display.Math object>"
      ]
     },
     "metadata": {},
     "output_type": "display_data"
    },
    {
     "data": {
      "text/latex": [
       "$\\displaystyle \\quad f' \\times g' = 140 x^{7} - 50 x^{5} + 234 x^{4} - 80 x^{2} + 16 x$"
      ],
      "text/plain": [
       "<IPython.core.display.Math object>"
      ]
     },
     "metadata": {},
     "output_type": "display_data"
    },
    {
     "data": {
      "text/latex": [
       "$\\displaystyle \\text{With the multiplication rule}$"
      ],
      "text/plain": [
       "<IPython.core.display.Math object>"
      ]
     },
     "metadata": {},
     "output_type": "display_data"
    },
    {
     "data": {
      "text/latex": [
       "$\\displaystyle \\quad f' \\times g + f \\times g' = 63 x^{8} - 35 x^{6} + 180 x^{5} + 15 x^{4} - 80 x^{3} + 24 x^{2} + 24 x$"
      ],
      "text/plain": [
       "<IPython.core.display.Math object>"
      ]
     },
     "metadata": {},
     "output_type": "display_data"
    }
   ],
   "source": [
    "x = sym.symbols('x')\n",
    "\n",
    "fx = 3+2*x-5*x**2+7*x**4\n",
    "gx = 4*x**2 + x**5\n",
    "dfx = sym.diff(fx)\n",
    "dgx = sym.diff(gx)\n",
    "dfgx_sum = dfx + dgx\n",
    "\n",
    "d_fXg = dfx*gx + fx*dgx\n",
    "d_fXg_rule = dfx*gx + fx*dgx\n",
    "\n",
    "display(Math('(f+g)\\' = f\\'+g\\''))\n",
    "display(Math('(f\\\\times g)\\' \\\\neq f\\'\\\\times g\\''))\n",
    "display(Math('(f\\\\times g)\\' = f\\'\\\\times g + f\\\\times g\\''))\n",
    "\n",
    "display(Math('\\\\text{Summation rule}'))\n",
    "display(Math('(f+g)\\' = %s'%(sym.latex(sym.diff(fx+gx)))))\n",
    "display(Math('\\\\quad f\\' + g\\' = %s'%(sym.latex(dfgx_sum))))\n",
    "\n",
    "display(Math('\\\\text{Without the multiplication rule}'))\n",
    "display(Math('\\\\quad (f\\\\times g)\\'= %s'%(sym.latex(sym.expand(d_fXg)))))\n",
    "display(Math('\\\\quad f\\' \\\\times g\\' = %s'%(sym.latex(sym.expand(dfx*dgx)))))\n",
    "\n",
    "display(Math('\\\\text{With the multiplication rule}'))\n",
    "display(Math('\\\\quad f\\' \\\\times g + f \\\\times g\\' = %s'%(sym.latex(sym.expand(d_fXg_rule)))))"
   ]
  }
 ],
 "metadata": {
  "kernelspec": {
   "display_name": "Python 3 (ipykernel)",
   "language": "python",
   "name": "python3"
  },
  "language_info": {
   "codemirror_mode": {
    "name": "ipython",
    "version": 3
   },
   "file_extension": ".py",
   "mimetype": "text/x-python",
   "name": "python",
   "nbconvert_exporter": "python",
   "pygments_lexer": "ipython3",
   "version": "3.9.7"
  }
 },
 "nbformat": 4,
 "nbformat_minor": 5
}
