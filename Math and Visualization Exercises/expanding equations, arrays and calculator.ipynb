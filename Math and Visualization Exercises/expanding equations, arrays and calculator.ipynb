{
 "cells": [
  {
   "cell_type": "code",
   "execution_count": 189,
   "id": "1196080b",
   "metadata": {},
   "outputs": [],
   "source": [
    "import sympy as sym\n",
    "import numpy as np\n",
    "sym.init_printing()\n",
    "from IPython.display import display, Math"
   ]
  },
  {
   "cell_type": "code",
   "execution_count": 191,
   "id": "bb4ce4a6",
   "metadata": {},
   "outputs": [
    {
     "data": {
      "text/latex": [
       "$\\displaystyle - 2 q + 2 + \\frac{3}{q}$"
      ],
      "text/plain": [
       "<IPython.core.display.Math object>"
      ]
     },
     "metadata": {},
     "output_type": "display_data"
    },
    {
     "data": {
      "text/latex": [
       "$\\displaystyle q =\\left[ \\frac{1}{2} - \\frac{\\sqrt{7}}{2}, \\  \\frac{1}{2} + \\frac{\\sqrt{7}}{2}\\right]$"
      ],
      "text/plain": [
       "<IPython.core.display.Math object>"
      ]
     },
     "metadata": {},
     "output_type": "display_data"
    }
   ],
   "source": [
    "q = sym.symbols('q')\n",
    "expr1 = 3*q+4/q+3\n",
    "expr2 = 5*q+1/q+1\n",
    "simpl = sym.simplify(expr1 - expr2)\n",
    "eq = (3*q+4/q+3) - (5*q+1/q+1)\n",
    "display(Math(sym.latex(eq)))\n",
    "display(Math('q =' + sym.latex(sym.solve(simpl,q))))"
   ]
  },
  {
   "cell_type": "code",
   "execution_count": 75,
   "id": "0a2a209b",
   "metadata": {},
   "outputs": [
    {
     "data": {
      "text/latex": [
       "$\\displaystyle 3 q^{2} + 2 q - \\frac{5}{q} - \\frac{4}{q^{3}}$"
      ],
      "text/plain": [
       "<IPython.core.display.Math object>"
      ]
     },
     "metadata": {},
     "output_type": "display_data"
    }
   ],
   "source": [
    "expr3 = 2*q+3*q**2-5/q-4/q**3\n",
    "display(Math(sym.latex(sym.simplify(expr3))))\n",
    "can = sym.cancel(expr3)"
   ]
  },
  {
   "cell_type": "code",
   "execution_count": 56,
   "id": "48caafec",
   "metadata": {},
   "outputs": [
    {
     "data": {
      "text/latex": [
       "$\\displaystyle \\frac{\\sqrt{15} q + \\sqrt{3}}{\\sqrt{10} q + \\sqrt{2}}$"
      ],
      "text/plain": [
       "<IPython.core.display.Math object>"
      ]
     },
     "metadata": {},
     "output_type": "display_data"
    },
    {
     "data": {
      "text/latex": [
       "$\\displaystyle 1.22474487139159$"
      ],
      "text/plain": [
       "1.22474487139159"
      ]
     },
     "execution_count": 56,
     "metadata": {},
     "output_type": "execute_result"
    }
   ],
   "source": [
    "expr4 = (sym.sqrt(3)+sym.sqrt(15)*q)/(sym.sqrt(2) + sym.sqrt(10)*q)\n",
    "display(Math(sym.latex(expr4)))\n",
    "sym.simplify(expr4)\n",
    "expr4.subs(q, 2).evalf()"
   ]
  },
  {
   "cell_type": "code",
   "execution_count": 85,
   "id": "2558b17a",
   "metadata": {
    "scrolled": true
   },
   "outputs": [
    {
     "data": {
      "text/latex": [
       "$\\displaystyle \\left(2 - y\\right) \\left(x + 4\\right)$"
      ],
      "text/plain": [
       "<IPython.core.display.Math object>"
      ]
     },
     "metadata": {},
     "output_type": "display_data"
    },
    {
     "data": {
      "text/latex": [
       "$\\displaystyle \\text {When x} = 0 \\text{ and y} = 0, \\quad f(x,y) = 8$"
      ],
      "text/plain": [
       "<IPython.core.display.Math object>"
      ]
     },
     "metadata": {},
     "output_type": "display_data"
    },
    {
     "data": {
      "text/latex": [
       "$\\displaystyle \\text {When x} = 0 \\text{ and y} = 1, \\quad f(x,y) = 4$"
      ],
      "text/plain": [
       "<IPython.core.display.Math object>"
      ]
     },
     "metadata": {},
     "output_type": "display_data"
    },
    {
     "data": {
      "text/latex": [
       "$\\displaystyle \\text {When x} = 0 \\text{ and y} = 2, \\quad f(x,y) = 0$"
      ],
      "text/plain": [
       "<IPython.core.display.Math object>"
      ]
     },
     "metadata": {},
     "output_type": "display_data"
    },
    {
     "data": {
      "text/latex": [
       "$\\displaystyle \\text {When x} = 1 \\text{ and y} = 0, \\quad f(x,y) = 10$"
      ],
      "text/plain": [
       "<IPython.core.display.Math object>"
      ]
     },
     "metadata": {},
     "output_type": "display_data"
    },
    {
     "data": {
      "text/latex": [
       "$\\displaystyle \\text {When x} = 1 \\text{ and y} = 1, \\quad f(x,y) = 5$"
      ],
      "text/plain": [
       "<IPython.core.display.Math object>"
      ]
     },
     "metadata": {},
     "output_type": "display_data"
    },
    {
     "data": {
      "text/latex": [
       "$\\displaystyle \\text {When x} = 1 \\text{ and y} = 2, \\quad f(x,y) = 0$"
      ],
      "text/plain": [
       "<IPython.core.display.Math object>"
      ]
     },
     "metadata": {},
     "output_type": "display_data"
    },
    {
     "data": {
      "text/latex": [
       "$\\displaystyle \\text {When x} = 2 \\text{ and y} = 0, \\quad f(x,y) = 12$"
      ],
      "text/plain": [
       "<IPython.core.display.Math object>"
      ]
     },
     "metadata": {},
     "output_type": "display_data"
    },
    {
     "data": {
      "text/latex": [
       "$\\displaystyle \\text {When x} = 2 \\text{ and y} = 1, \\quad f(x,y) = 6$"
      ],
      "text/plain": [
       "<IPython.core.display.Math object>"
      ]
     },
     "metadata": {},
     "output_type": "display_data"
    },
    {
     "data": {
      "text/latex": [
       "$\\displaystyle \\text {When x} = 2 \\text{ and y} = 2, \\quad f(x,y) = 0$"
      ],
      "text/plain": [
       "<IPython.core.display.Math object>"
      ]
     },
     "metadata": {},
     "output_type": "display_data"
    }
   ],
   "source": [
    "# Expanding terms exercise\n",
    "from sympy.abc import (x)\n",
    "from sympy.abc import (y)\n",
    "fxy = (4+x)*(2-y)\n",
    "display(Math(sym.latex(fxy)))\n",
    "sym.expand(fxy)\n",
    "\n",
    "for i in range(3):\n",
    "    for j in range(3):\n",
    "        repl = ((4+x)*(2-y)).subs({x:i,y:j})\n",
    "        display(Math(('\\\\text {When x} = %s \\\\text{ and y} = %s, \\\\quad f(x,y) = %s'%(i, j, repl))))"
   ]
  },
  {
   "cell_type": "code",
   "execution_count": 127,
   "id": "5ce25206",
   "metadata": {},
   "outputs": [
    {
     "data": {
      "text/plain": [
       "array([[0., 0., 0.],\n",
       "       [0., 0., 0.],\n",
       "       [0., 0., 0.]])"
      ]
     },
     "execution_count": 127,
     "metadata": {},
     "output_type": "execute_result"
    }
   ],
   "source": [
    "for i in range(3):\n",
    "    for j in range(3):\n",
    "        for rowi in numrange:\n",
    "            for coli in numrange:\n",
    "                array0[rowi,coli] = ((4+x)*(2-y)).subs({x:i,y:j})\n",
    "array0"
   ]
  },
  {
   "cell_type": "code",
   "execution_count": 149,
   "id": "84abf8ae",
   "metadata": {},
   "outputs": [
    {
     "data": {
      "text/latex": [
       "$\\displaystyle \\left[\\begin{matrix}8.0 & 4.0 & 0.0\\\\10.0 & 5.0 & 0.0\\\\12.0 & 6.0 & 0.0\\end{matrix}\\right]$"
      ],
      "text/plain": [
       "<IPython.core.display.Math object>"
      ]
     },
     "metadata": {},
     "output_type": "display_data"
    }
   ],
   "source": [
    "#looping a function in an array\n",
    "array0 = np.zeros([3,3])\n",
    "for rowi in range(3):\n",
    "    for colj in range(3):\n",
    "        array0[rowi,colj] = ((4+x)*(2-y)).subs({x:rowi,y:colj})\n",
    "display(Math(sym.latex(sym.sympify(array0))))"
   ]
  },
  {
   "cell_type": "code",
   "execution_count": 158,
   "id": "bf1e327c",
   "metadata": {},
   "outputs": [
    {
     "data": {
      "text/plain": [
       "array([[3., 4., 5., 6., 0.],\n",
       "       [4., 5., 6., 7., 0.],\n",
       "       [5., 6., 7., 8., 0.],\n",
       "       [0., 0., 0., 0., 0.],\n",
       "       [0., 0., 0., 0., 0.]])"
      ]
     },
     "execution_count": 158,
     "metadata": {},
     "output_type": "execute_result"
    }
   ],
   "source": [
    "array2 = np.zeros([5,5])\n",
    "for i in range(0,3):\n",
    "    for j in range(0,4):\n",
    "        array2[i, j] = (i+1) + (j+2)\n",
    "array2"
   ]
  },
  {
   "cell_type": "code",
   "execution_count": 188,
   "id": "18cc7ebc",
   "metadata": {},
   "outputs": [
    {
     "data": {
      "text/latex": [
       "$\\displaystyle \\left[\\begin{matrix}1 & 2 & 3 & 4 & 5 & 6 & 7 & 8 & 9 & 10\\\\2 & 4 & 6 & 8 & 10 & 12 & 14 & 16 & 18 & 20\\\\3 & 6 & 9 & 12 & 15 & 18 & 21 & 24 & 27 & 30\\\\4 & 8 & 12 & 16 & 20 & 24 & 28 & 32 & 36 & 40\\\\5 & 10 & 15 & 20 & 25 & 30 & 35 & 40 & 45 & 50\\\\6 & 12 & 18 & 24 & 30 & 36 & 42 & 48 & 54 & 60\\\\7 & 14 & 21 & 28 & 35 & 42 & 49 & 56 & 63 & 70\\\\8 & 16 & 24 & 32 & 40 & 48 & 56 & 64 & 72 & 80\\\\9 & 18 & 27 & 36 & 45 & 54 & 63 & 72 & 81 & 90\\\\10 & 20 & 30 & 40 & 50 & 60 & 70 & 80 & 90 & 100\\end{matrix}\\right]$"
      ],
      "text/plain": [
       "<IPython.core.display.Math object>"
      ]
     },
     "metadata": {},
     "output_type": "display_data"
    }
   ],
   "source": [
    "#Creating a calculator\n",
    "xyset = range(10)\n",
    "xmat = np.zeros([len(xyset), len(xyset)])\n",
    "for i in xyset:\n",
    "    for j in xyset:\n",
    "        xmat[i,j] = (i+1)*(j+1)\n",
    "intxmat = xmat.astype(int)\n",
    "display(Math(sym.latex(sym.sympify(intxmat))))"
   ]
  }
 ],
 "metadata": {
  "kernelspec": {
   "display_name": "Python 3 (ipykernel)",
   "language": "python",
   "name": "python3"
  },
  "language_info": {
   "codemirror_mode": {
    "name": "ipython",
    "version": 3
   },
   "file_extension": ".py",
   "mimetype": "text/x-python",
   "name": "python",
   "nbconvert_exporter": "python",
   "pygments_lexer": "ipython3",
   "version": "3.9.7"
  }
 },
 "nbformat": 4,
 "nbformat_minor": 5
}
