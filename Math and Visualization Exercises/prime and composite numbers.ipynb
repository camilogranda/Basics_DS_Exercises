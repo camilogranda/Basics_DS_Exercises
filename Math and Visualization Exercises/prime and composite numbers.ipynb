{
 "cells": [
  {
   "cell_type": "code",
   "execution_count": 1,
   "id": "f339083f",
   "metadata": {},
   "outputs": [],
   "source": [
    "import sympy as sym"
   ]
  },
  {
   "cell_type": "code",
   "execution_count": 133,
   "id": "4f705fa8",
   "metadata": {},
   "outputs": [
    {
     "name": "stdout",
     "output_type": "stream",
     "text": [
      "{2: 4, 3: 1}\n",
      "dict_keys([2, 3])\n",
      "[2, 3]\n"
     ]
    }
   ],
   "source": [
    "number = 48\n",
    "\n",
    "fact1 = sym.factorint(number)\n",
    "print(fact1)\n",
    "print(fact1.keys())\n",
    "print(list(fact1.keys()))\n",
    "\n"
   ]
  },
  {
   "cell_type": "code",
   "execution_count": 86,
   "id": "624b2e19",
   "metadata": {},
   "outputs": [
    {
     "data": {
      "text/plain": [
       "{'fruits': ['apple', 'banana', 'grapes'],\n",
       " 'colors': ['yellow', 'blue', 'green']}"
      ]
     },
     "execution_count": 86,
     "metadata": {},
     "output_type": "execute_result"
    }
   ],
   "source": [
    "dict1 = dict(fruits = ['apple', 'banana', 'grapes'], colors=['yellow', 'blue', 'green'])\n",
    "dict1\n",
    "# for keysi in dict1:\n",
    "#     print(keysi)\n",
    "#     for items in dict1[keysi]:\n",
    "#         print(items)"
   ]
  },
  {
   "cell_type": "code",
   "execution_count": 173,
   "id": "d30a7221",
   "metadata": {
    "scrolled": true
   },
   "outputs": [
    {
     "name": "stdout",
     "output_type": "stream",
     "text": [
      "2 is a prime number\n",
      "3 is a prime number\n",
      "4 is a composite number with prime factors [2]\n",
      "5 is a prime number\n",
      "6 is a composite number with prime factors [2, 3]\n",
      "7 is a prime number\n",
      "8 is a composite number with prime factors [2]\n",
      "9 is a composite number with prime factors [3]\n",
      "10 is a composite number with prime factors [2, 5]\n",
      "11 is a prime number\n",
      "12 is a composite number with prime factors [2, 3]\n",
      "13 is a prime number\n",
      "14 is a composite number with prime factors [2, 7]\n",
      "15 is a composite number with prime factors [3, 5]\n",
      "16 is a composite number with prime factors [2]\n",
      "17 is a prime number\n",
      "18 is a composite number with prime factors [2, 3]\n",
      "19 is a prime number\n",
      "20 is a composite number with prime factors [2, 5]\n",
      "21 is a composite number with prime factors [3, 7]\n",
      "22 is a composite number with prime factors [2, 11]\n",
      "23 is a prime number\n",
      "24 is a composite number with prime factors [2, 3]\n",
      "25 is a composite number with prime factors [5]\n",
      "26 is a composite number with prime factors [2, 13]\n",
      "27 is a composite number with prime factors [3]\n",
      "28 is a composite number with prime factors [2, 7]\n",
      "29 is a prime number\n",
      "30 is a composite number with prime factors [2, 3, 5]\n",
      "31 is a prime number\n",
      "32 is a composite number with prime factors [2]\n",
      "33 is a composite number with prime factors [3, 11]\n",
      "34 is a composite number with prime factors [2, 17]\n",
      "35 is a composite number with prime factors [5, 7]\n",
      "36 is a composite number with prime factors [2, 3]\n",
      "37 is a prime number\n",
      "38 is a composite number with prime factors [2, 19]\n",
      "39 is a composite number with prime factors [3, 13]\n",
      "40 is a composite number with prime factors [2, 5]\n",
      "41 is a prime number\n",
      "42 is a composite number with prime factors [2, 3, 7]\n",
      "43 is a prime number\n",
      "44 is a composite number with prime factors [2, 11]\n",
      "45 is a composite number with prime factors [3, 5]\n",
      "46 is a composite number with prime factors [2, 23]\n",
      "47 is a prime number\n",
      "48 is a composite number with prime factors [2, 3]\n",
      "49 is a composite number with prime factors [7]\n",
      "50 is a composite number with prime factors [2, 5]\n"
     ]
    }
   ],
   "source": [
    "# 1.Loop through integers from 2 to 50\n",
    "# 2.Determine wheter each of these integers are prime or composite numbers\n",
    "# 3. Use .factorint, list, len, if/else, print\n",
    "numbers = range(2,51)\n",
    "\n",
    "for numi in numbers:\n",
    "    factdict = sym.factorint(numi)\n",
    "    factks = list(factdict.keys())\n",
    "#     print(numi, factdict)\n",
    "    if len(factdict) > 1 or factdict[factks[0]]>1:\n",
    "        print(f'{numi} is a composite number with prime factors {list(factks)}')\n",
    "    else:\n",
    "        print(f'{numi} is a prime number')"
   ]
  },
  {
   "cell_type": "code",
   "execution_count": 165,
   "id": "0273b5a2",
   "metadata": {
    "scrolled": true
   },
   "outputs": [
    {
     "name": "stdout",
     "output_type": "stream",
     "text": [
      "2 [2] 2\n",
      "3 [3] 3\n",
      "4 [2] 2\n",
      "5 [5] 5\n",
      "6 [2, 3] 2\n",
      "6 [2, 3] 3\n",
      "7 [7] 7\n",
      "8 [2] 2\n",
      "9 [3] 3\n",
      "10 [2, 5] 2\n",
      "10 [2, 5] 5\n",
      "11 [11] 11\n",
      "12 [2, 3] 2\n",
      "12 [2, 3] 3\n",
      "13 [13] 13\n",
      "14 [2, 7] 2\n",
      "14 [2, 7] 7\n",
      "15 [3, 5] 3\n",
      "15 [3, 5] 5\n",
      "16 [2] 2\n",
      "17 [17] 17\n",
      "18 [2, 3] 2\n",
      "18 [2, 3] 3\n",
      "19 [19] 19\n",
      "20 [2, 5] 2\n",
      "20 [2, 5] 5\n",
      "21 [3, 7] 3\n",
      "21 [3, 7] 7\n",
      "22 [2, 11] 2\n",
      "22 [2, 11] 11\n",
      "23 [23] 23\n",
      "24 [2, 3] 2\n",
      "24 [2, 3] 3\n",
      "25 [5] 5\n",
      "26 [2, 13] 2\n",
      "26 [2, 13] 13\n",
      "27 [3] 3\n",
      "28 [2, 7] 2\n",
      "28 [2, 7] 7\n",
      "29 [29] 29\n",
      "30 [2, 3, 5] 2\n",
      "30 [2, 3, 5] 3\n",
      "30 [2, 3, 5] 5\n",
      "31 [31] 31\n",
      "32 [2] 2\n",
      "33 [3, 11] 3\n",
      "33 [3, 11] 11\n",
      "34 [2, 17] 2\n",
      "34 [2, 17] 17\n",
      "35 [5, 7] 5\n",
      "35 [5, 7] 7\n",
      "36 [2, 3] 2\n",
      "36 [2, 3] 3\n",
      "37 [37] 37\n",
      "38 [2, 19] 2\n",
      "38 [2, 19] 19\n",
      "39 [3, 13] 3\n",
      "39 [3, 13] 13\n",
      "40 [2, 5] 2\n",
      "40 [2, 5] 5\n",
      "41 [41] 41\n",
      "42 [2, 3, 7] 2\n",
      "42 [2, 3, 7] 3\n",
      "42 [2, 3, 7] 7\n",
      "43 [43] 43\n",
      "44 [2, 11] 2\n",
      "44 [2, 11] 11\n",
      "45 [3, 5] 3\n",
      "45 [3, 5] 5\n",
      "46 [2, 23] 2\n",
      "46 [2, 23] 23\n",
      "47 [47] 47\n",
      "48 [2, 3] 2\n",
      "48 [2, 3] 3\n",
      "49 [7] 7\n",
      "50 [2, 5] 2\n",
      "50 [2, 5] 5\n"
     ]
    }
   ],
   "source": [
    "for numi in numbers:\n",
    "    factdict = sym.factorint(numi)\n",
    "    factk = list(factk.keys())\n",
    "    for items in factdict:\n",
    "        print(numi, factdict, items)\n",
    "#     if len(factdict) > 1 or (numi %2 == 0):\n",
    "#         print(f'{numi} is a composite number with prime factors {factdict}')\n",
    "#     else:\n",
    "#         print(f'{numi} is a prime number with prime factors {factdict}')"
   ]
  }
 ],
 "metadata": {
  "kernelspec": {
   "display_name": "Python 3 (ipykernel)",
   "language": "python",
   "name": "python3"
  },
  "language_info": {
   "codemirror_mode": {
    "name": "ipython",
    "version": 3
   },
   "file_extension": ".py",
   "mimetype": "text/x-python",
   "name": "python",
   "nbconvert_exporter": "python",
   "pygments_lexer": "ipython3",
   "version": "3.9.7"
  }
 },
 "nbformat": 4,
 "nbformat_minor": 5
}
