{
 "cells": [
  {
   "cell_type": "code",
   "execution_count": 1,
   "id": "304dad22",
   "metadata": {},
   "outputs": [],
   "source": [
    "import numpy as np\n",
    "import matplotlib.pyplot as plt"
   ]
  },
  {
   "cell_type": "code",
   "execution_count": 68,
   "id": "20461334",
   "metadata": {},
   "outputs": [
    {
     "name": "stdout",
     "output_type": "stream",
     "text": [
      "[ 2  5  8 11 14 17]\n",
      "14\n"
     ]
    }
   ],
   "source": [
    "a = 2\n",
    "d = 3\n",
    "maxn = 6\n",
    "\n",
    "ariseq = a + d*np.arange(0,maxn)\n",
    "print(ariseq)\n",
    "print(ariseq[4])"
   ]
  },
  {
   "cell_type": "code",
   "execution_count": 69,
   "id": "bbf46509",
   "metadata": {},
   "outputs": [
    {
     "name": "stdout",
     "output_type": "stream",
     "text": [
      "[0 1 2 3 4 5 6 7 8]\n",
      "20\n"
     ]
    }
   ],
   "source": [
    "maxn1 = np.arange(9)\n",
    "print(maxn1)\n",
    "\n",
    "ariseq1 = a + d*maxn1[6]\n",
    "print(ariseq1)"
   ]
  },
  {
   "cell_type": "code",
   "execution_count": 70,
   "id": "d88facb4",
   "metadata": {},
   "outputs": [
    {
     "name": "stdout",
     "output_type": "stream",
     "text": [
      "[    2    12    72   432  2592 15552]\n",
      "2592\n"
     ]
    }
   ],
   "source": [
    "a = 2\n",
    "r = 6\n",
    "\n",
    "geoseq = a * r**np.arange(0,maxn)\n",
    "print(geoseq)\n",
    "print(geoseq[4])"
   ]
  },
  {
   "cell_type": "code",
   "execution_count": 65,
   "id": "fcd845d0",
   "metadata": {},
   "outputs": [
    {
     "name": "stdout",
     "output_type": "stream",
     "text": [
      "17 17\n",
      "486 486\n"
     ]
    }
   ],
   "source": [
    "a = 2\n",
    "d = 3\n",
    "maxn = 10\n",
    "nth = 6\n",
    "\n",
    "ariseq = a + d*np.arange(0,maxn)\n",
    "geoseq = a * d**np.arange(0,maxn)\n",
    "\n",
    "aridirect = a + d*(nth - 1)\n",
    "geodirect = a * d**(nth - 1)\n",
    "\n",
    "print(aridirect,ariseq[nth-1])\n",
    "print(geodirect,geoseq[nth-1])"
   ]
  },
  {
   "cell_type": "code",
   "execution_count": 15,
   "id": "f1eebc56",
   "metadata": {},
   "outputs": [
    {
     "data": {
      "image/png": "[encoded data removed]",
      "text/plain": [
       "<Figure size 432x288 with 1 Axes>"
      ]
     },
     "metadata": {
      "needs_background": "light"
     },
     "output_type": "display_data"
    }
   ],
   "source": [
    "plt.plot(ariseq,'ks',label='arithmetic')\n",
    "plt.plot(geoseq,'ro',label='geometric')\n",
    "\n",
    "plt.legend()\n",
    "plt.show()"
   ]
  }
 ],
 "metadata": {
  "kernelspec": {
   "display_name": "Python 3 (ipykernel)",
   "language": "python",
   "name": "python3"
  },
  "language_info": {
   "codemirror_mode": {
    "name": "ipython",
    "version": 3
   },
   "file_extension": ".py",
   "mimetype": "text/x-python",
   "name": "python",
   "nbconvert_exporter": "python",
   "pygments_lexer": "ipython3",
   "version": "3.9.7"
  }
 },
 "nbformat": 4,
 "nbformat_minor": 5
}
