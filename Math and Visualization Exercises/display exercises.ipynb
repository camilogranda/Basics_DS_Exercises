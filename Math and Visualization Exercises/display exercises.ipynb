{
 "cells": [
  {
   "cell_type": "code",
   "execution_count": 2,
   "id": "5e20cdd7",
   "metadata": {},
   "outputs": [],
   "source": [
    "from IPython.display import display, Math"
   ]
  },
  {
   "cell_type": "code",
   "execution_count": 8,
   "id": "bcfee602",
   "metadata": {},
   "outputs": [
    {
     "data": {
      "text/plain": [
       "'4 + 3 = 7'"
      ]
     },
     "metadata": {},
     "output_type": "display_data"
    },
    {
     "data": {
      "text/plain": [
       "'4 + 3 = 7'"
      ]
     },
     "metadata": {},
     "output_type": "display_data"
    }
   ],
   "source": [
    "display('4 + 3 = 7')\n",
    "display('4 + 3 = ' + str(4 + 3))"
   ]
  },
  {
   "cell_type": "code",
   "execution_count": 9,
   "id": "432d1749",
   "metadata": {},
   "outputs": [
    {
     "data": {
      "text/latex": [
       "$\\displaystyle 4 + 3 = 7$"
      ],
      "text/plain": [
       "<IPython.core.display.Math object>"
      ]
     },
     "metadata": {},
     "output_type": "display_data"
    }
   ],
   "source": [
    "display(Math('4 + 3 = 7'))"
   ]
  },
  {
   "cell_type": "code",
   "execution_count": 39,
   "id": "7fc7e8ee",
   "metadata": {},
   "outputs": [
    {
     "data": {
      "text/latex": [
       "$\\displaystyle 4 + 5=9$"
      ],
      "text/plain": [
       "<IPython.core.display.Math object>"
      ]
     },
     "metadata": {},
     "output_type": "display_data"
    }
   ],
   "source": [
    "x = 4\n",
    "y = 5\n",
    "\n",
    "display(Math(str(x) + ' + ' + str(y) + '=' + str(x + y)))"
   ]
  },
  {
   "cell_type": "code",
   "execution_count": 40,
   "id": "1ab02d55",
   "metadata": {},
   "outputs": [
    {
     "data": {
      "text/latex": [
       "$\\displaystyle 4 + 5 = 9$"
      ],
      "text/plain": [
       "<IPython.core.display.Math object>"
      ]
     },
     "metadata": {},
     "output_type": "display_data"
    }
   ],
   "source": [
    "display(Math('%g + %g = %g' %(x, y, x + y)))"
   ]
  },
  {
   "cell_type": "code",
   "execution_count": 46,
   "id": "254fce09",
   "metadata": {},
   "outputs": [
    {
     "data": {
      "text/latex": [
       "$\\displaystyle 4/5 = .8$"
      ],
      "text/plain": [
       "<IPython.core.display.Math object>"
      ]
     },
     "metadata": {},
     "output_type": "display_data"
    },
    {
     "data": {
      "text/latex": [
       "$\\displaystyle \\frac{4}{5} = .8$"
      ],
      "text/plain": [
       "<IPython.core.display.Math object>"
      ]
     },
     "metadata": {},
     "output_type": "display_data"
    }
   ],
   "source": [
    "display(Math('4/5 = .8'))\n",
    "display(Math('\\\\frac{4}{5} = .8'))"
   ]
  },
  {
   "cell_type": "code",
   "execution_count": 48,
   "id": "5a6cfb62",
   "metadata": {},
   "outputs": [
    {
     "data": {
      "text/latex": [
       "$\\displaystyle 3.4 \\times 17 = 57.8$"
      ],
      "text/plain": [
       "<IPython.core.display.Math object>"
      ]
     },
     "metadata": {},
     "output_type": "display_data"
    }
   ],
   "source": [
    "x = 3.4\n",
    "y = 17\n",
    "\n",
    "display(Math('%g \\\\times %g = %g' %(x, y, x * y)))"
   ]
  },
  {
   "cell_type": "code",
   "execution_count": 49,
   "id": "6baf84f3",
   "metadata": {},
   "outputs": [],
   "source": [
    "# Exercises\n",
    "# x = 7, y = -2, z = 5\n",
    "# 1) 3x(4 + y) = 42\n",
    "# 2) -y- x + 3 / z = 0"
   ]
  },
  {
   "cell_type": "code",
   "execution_count": 113,
   "id": "f7ebad13",
   "metadata": {},
   "outputs": [
    {
     "data": {
      "text/latex": [
       "$\\displaystyle 3x(4+y) = 42$"
      ],
      "text/plain": [
       "<IPython.core.display.Math object>"
      ]
     },
     "metadata": {},
     "output_type": "display_data"
    },
    {
     "data": {
      "text/latex": [
       "$\\displaystyle 3 \\times 7 (4  -2) = 42$"
      ],
      "text/plain": [
       "<IPython.core.display.Math object>"
      ]
     },
     "metadata": {},
     "output_type": "display_data"
    },
    {
     "data": {
      "text/latex": [
       "$\\displaystyle -y - \\frac {3 + x}{z} = 0$"
      ],
      "text/plain": [
       "<IPython.core.display.Math object>"
      ]
     },
     "metadata": {},
     "output_type": "display_data"
    },
    {
     "data": {
      "text/latex": [
       "$\\displaystyle --2 - \\frac{7 + 3}{5} = 0$"
      ],
      "text/plain": [
       "<IPython.core.display.Math object>"
      ]
     },
     "metadata": {},
     "output_type": "display_data"
    }
   ],
   "source": [
    "x = 7\n",
    "y = -2\n",
    "z = 5\n",
    "\n",
    "display(Math(str('3x(4+y) = 42')))\n",
    "display(Math('%g \\\\times %g (%g  %g) = %g' %(3, x, 4, y, 3 * x * (4 + y))))\n",
    "display(Math(str('-y - \\\\frac {3 + x}{z} = 0')))\n",
    "display(Math('-%g - \\\\frac{%g + %g}{%g} = %g' %(y, x, 3, z, -y - (3 + x) / z)))"
   ]
  },
  {
   "cell_type": "code",
   "execution_count": 89,
   "id": "1a714fb4",
   "metadata": {},
   "outputs": [
    {
     "data": {
      "text/latex": [
       "$\\displaystyle 3^2\\times3^4 = 3^{2+4}$"
      ],
      "text/plain": [
       "<IPython.core.display.Math object>"
      ]
     },
     "metadata": {},
     "output_type": "display_data"
    }
   ],
   "source": [
    "display(Math('3^2\\\\times3^4 = 3^{2+4}'))"
   ]
  },
  {
   "cell_type": "code",
   "execution_count": null,
   "id": "cc12ba3c",
   "metadata": {},
   "outputs": [],
   "source": [
    "# x = 5, y = 5.1\n",
    "# 1) x**3/4 * 4y = 3933.09\n",
    "# 2) 3**3 / x**y =\n",
    "# 3)10 ** (x-4)"
   ]
  },
  {
   "cell_type": "code",
   "execution_count": 104,
   "id": "5882c81f",
   "metadata": {},
   "outputs": [
    {
     "data": {
      "text/plain": [
       "4.2870938501451725"
      ]
     },
     "execution_count": 104,
     "metadata": {},
     "output_type": "execute_result"
    }
   ],
   "source": [
    "2 ** 2.1"
   ]
  },
  {
   "cell_type": "code",
   "execution_count": 112,
   "id": "7ec56cc2",
   "metadata": {},
   "outputs": [
    {
     "data": {
      "text/latex": [
       "$\\displaystyle x^{3/4}\\times 4^y = 3933.09$"
      ],
      "text/plain": [
       "<IPython.core.display.Math object>"
      ]
     },
     "metadata": {},
     "output_type": "display_data"
    },
    {
     "data": {
      "text/latex": [
       "$\\displaystyle 5^{3/4}\\times 4^{5.1} = 3933.09$"
      ],
      "text/plain": [
       "<IPython.core.display.Math object>"
      ]
     },
     "metadata": {},
     "output_type": "display_data"
    },
    {
     "data": {
      "text/latex": [
       "$\\displaystyle \\frac {3^3} {x^y} = 0.00735558$"
      ],
      "text/plain": [
       "<IPython.core.display.Math object>"
      ]
     },
     "metadata": {},
     "output_type": "display_data"
    },
    {
     "data": {
      "text/latex": [
       "$\\displaystyle \\frac{3^3}{5^{5.1}} = 0.00735558$"
      ],
      "text/plain": [
       "<IPython.core.display.Math object>"
      ]
     },
     "metadata": {},
     "output_type": "display_data"
    },
    {
     "data": {
      "text/latex": [
       "$\\displaystyle 10^{x-4} = 10$"
      ],
      "text/plain": [
       "<IPython.core.display.Math object>"
      ]
     },
     "metadata": {},
     "output_type": "display_data"
    },
    {
     "data": {
      "text/latex": [
       "$\\displaystyle 10^{5-4} = 10$"
      ],
      "text/plain": [
       "<IPython.core.display.Math object>"
      ]
     },
     "metadata": {},
     "output_type": "display_data"
    }
   ],
   "source": [
    "x = 5\n",
    "y = 5.1\n",
    "\n",
    "rslt1 = x ** (3/4) * 4**y\n",
    "rslt2 = 3**3 / x**y\n",
    "rslt3 = 10 ** (x-4)\n",
    "\n",
    "display(Math('x^{3/4}\\\\times 4^y = 3933.09'))\n",
    "display(Math('%g^{%g/%g}\\\\times %g^{%g} = %g' %(x, 3, 4, 4, y, rslt1)))\n",
    "\n",
    "display(Math('\\\\frac {3^3} {x^y} = 0.00735558'))\n",
    "display(Math('\\\\frac{%g^%g}{%g^{%g}} = %g' %(3, 3, x, y, rslt2)))\n",
    "\n",
    "display(Math('10^{x-4} = 10'))\n",
    "display(Math('%g^{%g-%g} = %g' %(10, x, 4, rslt3)))"
   ]
  }
 ],
 "metadata": {
  "kernelspec": {
   "display_name": "Python 3 (ipykernel)",
   "language": "python",
   "name": "python3"
  },
  "language_info": {
   "codemirror_mode": {
    "name": "ipython",
    "version": 3
   },
   "file_extension": ".py",
   "mimetype": "text/x-python",
   "name": "python",
   "nbconvert_exporter": "python",
   "pygments_lexer": "ipython3",
   "version": "3.9.7"
  }
 },
 "nbformat": 4,
 "nbformat_minor": 5
}
