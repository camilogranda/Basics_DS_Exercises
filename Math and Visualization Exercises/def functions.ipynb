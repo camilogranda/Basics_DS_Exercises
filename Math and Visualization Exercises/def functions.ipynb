{
 "cells": [
  {
   "cell_type": "code",
   "execution_count": 18,
   "id": "229ab790",
   "metadata": {},
   "outputs": [
    {
     "name": "stdout",
     "output_type": "stream",
     "text": [
      "4 is the remainder\n"
     ]
    }
   ],
   "source": [
    "def remainder(rem):\n",
    "    print('%g is the remainder' %(rem))\n",
    "remainder(10%6)"
   ]
  },
  {
   "cell_type": "code",
   "execution_count": 31,
   "id": "b48ac1d4",
   "metadata": {},
   "outputs": [],
   "source": [
    "def computeremainder():\n",
    "    x = int(input('input an integer: '))\n",
    "    y = int(input('input an integer: '))\n",
    "    divis = int(x/y)\n",
    "    remainder = x%y\n",
    "    \n",
    "    print('%g goes into %g, %g times with a remainder of %g' %(x, y, divis, remainder))"
   ]
  },
  {
   "cell_type": "code",
   "execution_count": 93,
   "id": "d59b1a2c",
   "metadata": {},
   "outputs": [
    {
     "name": "stdout",
     "output_type": "stream",
     "text": [
      "100\n",
      "input an integer: 10\n",
      "input an integer: 2\n",
      "press 1 to compute 10^2 or press 2 to compute 10/21\n"
     ]
    }
   ],
   "source": [
    "def powerordivfunc():\n",
    "    x = int(input('input an integer: '))\n",
    "    y = int(input('input an integer: '))\n",
    "    s = int(input('press 1 to compute %g^%g or press 2 to compute %g/%g' %(x, y, x, y)))\n",
    "\n",
    "if s == 1:\n",
    "    print(x ** y)\n",
    "else:\n",
    "    print(x / y)\n",
    "powerordivfunc()"
   ]
  },
  {
   "cell_type": "code",
   "execution_count": 32,
   "id": "95510db1",
   "metadata": {},
   "outputs": [
    {
     "name": "stdout",
     "output_type": "stream",
     "text": [
      "input an integer: 24\n",
      "input an integer: 7\n",
      "24 goes into 7, 3 times with a remainder of 3\n"
     ]
    }
   ],
   "source": [
    "computeremainder()"
   ]
  },
  {
   "cell_type": "code",
   "execution_count": 27,
   "id": "bf1a174a",
   "metadata": {},
   "outputs": [
    {
     "name": "stdout",
     "output_type": "stream",
     "text": [
      "input a number 12\n"
     ]
    }
   ],
   "source": [
    "a = input('input a number ')"
   ]
  },
  {
   "cell_type": "code",
   "execution_count": 140,
   "id": "421d59d1",
   "metadata": {},
   "outputs": [
    {
     "data": {
      "text/latex": [
       "$\\displaystyle 2 ^ 2 = 4$"
      ],
      "text/plain": [
       "<IPython.core.display.Math object>"
      ]
     },
     "metadata": {},
     "output_type": "display_data"
    }
   ],
   "source": [
    "def powerfunc(x, y):\n",
    "    display(Math('%g ^ %g = %g' %(x, y, x**y)))"
   ]
  },
  {
   "cell_type": "code",
   "execution_count": 127,
   "id": "4b347ce4",
   "metadata": {},
   "outputs": [],
   "source": [
    "def divisionfunc(x,y):\n",
    "    display(Math('\\\\frac{%g}{%g} = %g' %(x, y, x/y)))"
   ]
  },
  {
   "cell_type": "code",
   "execution_count": 166,
   "id": "56495cf9",
   "metadata": {},
   "outputs": [],
   "source": [
    "# Power or division function\n",
    "def mainfunc():\n",
    "    x = int(input('Input X: '))\n",
    "    y = int(input('Input Y: '))\n",
    "    display(Math('\\\\text{Press 1 to compute } {%g}^{%g} \\\\text{ or 2 to compute } \\\\frac{%g}{%g}' %(x,y,x,y)))\n",
    "    s = int(input())\n",
    "    if s == 1:\n",
    "        powerfunc(x,y)\n",
    "    elif s == 2:\n",
    "        divisionfunc(x,y)\n",
    "    else:\n",
    "        print('Invalid selection!')"
   ]
  },
  {
   "cell_type": "code",
   "execution_count": 167,
   "id": "33e06354",
   "metadata": {},
   "outputs": [
    {
     "name": "stdout",
     "output_type": "stream",
     "text": [
      "Input X: 10\n",
      "Input Y: 2\n"
     ]
    },
    {
     "data": {
      "text/latex": [
       "$\\displaystyle \\text{Press 1 to compute } {10}^{2} \\text{ or 2 to compute } \\frac{10}{2}$"
      ],
      "text/plain": [
       "<IPython.core.display.Math object>"
      ]
     },
     "metadata": {},
     "output_type": "display_data"
    },
    {
     "name": "stdout",
     "output_type": "stream",
     "text": [
      "2\n"
     ]
    },
    {
     "data": {
      "text/latex": [
       "$\\displaystyle \\frac{10}{2} = 5$"
      ],
      "text/plain": [
       "<IPython.core.display.Math object>"
      ]
     },
     "metadata": {},
     "output_type": "display_data"
    }
   ],
   "source": [
    "mainfunc()"
   ]
  }
 ],
 "metadata": {
  "kernelspec": {
   "display_name": "Python 3 (ipykernel)",
   "language": "python",
   "name": "python3"
  },
  "language_info": {
   "codemirror_mode": {
    "name": "ipython",
    "version": 3
   },
   "file_extension": ".py",
   "mimetype": "text/x-python",
   "name": "python",
   "nbconvert_exporter": "python",
   "pygments_lexer": "ipython3",
   "version": "3.9.7"
  }
 },
 "nbformat": 4,
 "nbformat_minor": 5
}
