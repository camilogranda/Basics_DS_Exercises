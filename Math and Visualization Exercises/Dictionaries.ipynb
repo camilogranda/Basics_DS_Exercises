{
 "cells": [
  {
   "cell_type": "code",
   "execution_count": 2,
   "id": "c82f9b04",
   "metadata": {},
   "outputs": [],
   "source": [
    "import sympy as sym\n",
    "from IPython.display import display, Math\n",
    "sym.init_printing()"
   ]
  },
  {
   "cell_type": "code",
   "execution_count": 5,
   "id": "6fcfdc3d",
   "metadata": {},
   "outputs": [
    {
     "data": {
      "text/latex": [
       "$\\displaystyle \\left( \\left[ 4 x - 6\\right], \\  \\left\\{ x : \\frac{3}{2}\\right\\}\\right)$"
      ],
      "text/plain": [
       "<IPython.core.display.Math object>"
      ]
     },
     "metadata": {},
     "output_type": "display_data"
    },
    {
     "data": {
      "text/latex": [
       "$\\displaystyle \\left( \\left[ x^{2} - 9\\right], \\  \\left[ \\left\\{ x : -3\\right\\}, \\  \\left\\{ x : 3\\right\\}\\right]\\right)$"
      ],
      "text/plain": [
       "<IPython.core.display.Math object>"
      ]
     },
     "metadata": {},
     "output_type": "display_data"
    },
    {
     "data": {
      "text/latex": [
       "$\\displaystyle \\left( \\left[ \\sin{\\left(y \\right)}\\right], \\  \\left[ \\left\\{ y : 0\\right\\}, \\  \\left\\{ y : \\pi\\right\\}\\right]\\right)$"
      ],
      "text/plain": [
       "<IPython.core.display.Math object>"
      ]
     },
     "metadata": {},
     "output_type": "display_data"
    }
   ],
   "source": [
    "x,y = sym.symbols('x,y')\n",
    "\n",
    "\n",
    "eqdic = dict(eq1=[4*x-6],eq2=[x**2-9], eq3=[sym.sin(y)])\n",
    "\n",
    "for items in eqdic:\n",
    "    display(Math(sym.latex(sym.sympify(f'{eqdic[items]}, {sym.solve(eqdic[items])}'))))\n",
    "#     display(Math(sym.latex('%s \\\\rightarrow %s' %(eqdic[items],(sym.solve(eqdic[items]))))))\n"
   ]
  },
  {
   "cell_type": "code",
   "execution_count": 173,
   "id": "248af804",
   "metadata": {},
   "outputs": [
    {
     "data": {
      "text/latex": [
       "$\\displaystyle \\text{Solution for equations involving } X:$"
      ],
      "text/plain": [
       "<IPython.core.display.Math object>"
      ]
     },
     "metadata": {},
     "output_type": "display_data"
    },
    {
     "data": {
      "text/latex": [
       "$\\displaystyle \\quad\\quad 4 x - 6= 0\\quad \\Rightarrow \\quad X=\\left[ \\frac{3}{2}\\right]$"
      ],
      "text/plain": [
       "<IPython.core.display.Math object>"
      ]
     },
     "metadata": {},
     "output_type": "display_data"
    },
    {
     "name": "stdout",
     "output_type": "stream",
     "text": [
      "<class 'sympy.core.add.Add'>\n"
     ]
    },
    {
     "data": {
      "text/latex": [
       "$\\displaystyle \\quad\\quad x^{2} - 9= 0\\quad \\Rightarrow \\quad X=\\left[ -3, \\  3\\right]$"
      ],
      "text/plain": [
       "<IPython.core.display.Math object>"
      ]
     },
     "metadata": {},
     "output_type": "display_data"
    },
    {
     "name": "stdout",
     "output_type": "stream",
     "text": [
      "<class 'sympy.core.add.Add'>\n"
     ]
    },
    {
     "data": {
      "text/latex": [
       "$\\displaystyle \\text{Solution for equations involving } Y:$"
      ],
      "text/plain": [
       "<IPython.core.display.Math object>"
      ]
     },
     "metadata": {},
     "output_type": "display_data"
    },
    {
     "data": {
      "text/latex": [
       "$\\displaystyle \\quad\\quad \\sin{\\left(y \\right)}= 0\\quad \\Rightarrow \\quad Y=\\left[ 0, \\  \\pi\\right]$"
      ],
      "text/plain": [
       "<IPython.core.display.Math object>"
      ]
     },
     "metadata": {},
     "output_type": "display_data"
    },
    {
     "name": "stdout",
     "output_type": "stream",
     "text": [
      "sin\n"
     ]
    }
   ],
   "source": [
    "dict1 = dict(eqX = [4*x-6, x**2-9], eqY = [sym.sin(y)])\n",
    "\n",
    "for keyi in dict1:\n",
    "    \n",
    "    display(Math('\\\\text{Solution for equations involving } ' + keyi[-1] + ':'))\n",
    "    \n",
    "    for items in dict1[keyi]:\n",
    "        leftpart = sym.latex(items) + '= 0'\n",
    "        midpart = '\\\\quad \\\\Rightarrow \\\\quad ' + keyi[-1] + '='\n",
    "        rightpart = sym.latex(sym.solve(items))\n",
    "        \n",
    "        display(Math('\\\\quad\\\\quad ' + leftpart + midpart + rightpart))\n",
    "        print(type(items))"
   ]
  },
  {
   "cell_type": "code",
   "execution_count": 169,
   "id": "3e1dba72",
   "metadata": {},
   "outputs": [
    {
     "data": {
      "text/plain": [
       "{'eqX': [4*x - 6, x**2 - 9], 'eqY': [sin(y)]}"
      ]
     },
     "execution_count": 169,
     "metadata": {},
     "output_type": "execute_result"
    }
   ],
   "source": [
    "dict1"
   ]
  }
 ],
 "metadata": {
  "kernelspec": {
   "display_name": "Python 3 (ipykernel)",
   "language": "python",
   "name": "python3"
  },
  "language_info": {
   "codemirror_mode": {
    "name": "ipython",
    "version": 3
   },
   "file_extension": ".py",
   "mimetype": "text/x-python",
   "name": "python",
   "nbconvert_exporter": "python",
   "pygments_lexer": "ipython3",
   "version": "3.9.7"
  }
 },
 "nbformat": 4,
 "nbformat_minor": 5
}
