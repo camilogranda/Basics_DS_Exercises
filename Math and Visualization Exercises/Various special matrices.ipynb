{
 "cells": [
  {
   "cell_type": "code",
   "execution_count": 35,
   "id": "b5306e56",
   "metadata": {},
   "outputs": [],
   "source": [
    "import numpy as np\n",
    "import matplotlib.pyplot as plt\n",
    "from scipy.linalg import toeplitz"
   ]
  },
  {
   "cell_type": "code",
   "execution_count": 2,
   "id": "55e99bcf",
   "metadata": {},
   "outputs": [
    {
     "name": "stdout",
     "output_type": "stream",
     "text": [
      "[[1. 0. 0. 0. 0. 0.]\n",
      " [0. 1. 0. 0. 0. 0.]\n",
      " [0. 0. 1. 0. 0. 0.]\n",
      " [0. 0. 0. 1. 0. 0.]\n",
      " [0. 0. 0. 0. 1. 0.]\n",
      " [0. 0. 0. 0. 0. 1.]]\n"
     ]
    }
   ],
   "source": [
    "# Identity matrix\n",
    "I = np.eye(6)\n",
    "print(I)"
   ]
  },
  {
   "cell_type": "code",
   "execution_count": 6,
   "id": "c296d6cd",
   "metadata": {},
   "outputs": [
    {
     "name": "stdout",
     "output_type": "stream",
     "text": [
      "[[0. 0. 0. 0.]\n",
      " [0. 0. 0. 0.]\n",
      " [0. 0. 0. 0.]\n",
      " [0. 0. 0. 0.]]\n"
     ]
    }
   ],
   "source": [
    "# Zeros matrix\n",
    "Z = np.zeros((4,4))\n",
    "print(Z)"
   ]
  },
  {
   "cell_type": "code",
   "execution_count": 9,
   "id": "5b455492",
   "metadata": {},
   "outputs": [
    {
     "name": "stdout",
     "output_type": "stream",
     "text": [
      "[[1 0 0 0 0]\n",
      " [0 5 0 0 0]\n",
      " [0 0 3 0 0]\n",
      " [0 0 0 6 0]\n",
      " [0 0 0 0 2]]\n",
      "[1 5 3 6 2]\n"
     ]
    }
   ],
   "source": [
    "# Diagonal Matrix\n",
    "D = np.diag([1,5,3,6,2]) #Return a matrix based on the input vectors\n",
    "print(D)\n",
    "d = np.diagonal(D) #Return the vector of the diagonal elements of a matrix\n",
    "print(d)"
   ]
  },
  {
   "cell_type": "code",
   "execution_count": 14,
   "id": "5c64831b",
   "metadata": {},
   "outputs": [
    {
     "data": {
      "image/png": "[encoded data removed]",
      "text/plain": [
       "<Figure size 432x288 with 1 Axes>"
      ]
     },
     "metadata": {
      "needs_background": "light"
     },
     "output_type": "display_data"
    }
   ],
   "source": [
    "# Triangular matrix\n",
    "T = np.random.rand(15,15)\n",
    "plt.imshow(np.triu(T))\n",
    "plt.show()"
   ]
  },
  {
   "cell_type": "code",
   "execution_count": 41,
   "id": "b408d69c",
   "metadata": {},
   "outputs": [
    {
     "name": "stdout",
     "output_type": "stream",
     "text": [
      "[[-4  3  1  3]\n",
      " [ 3 -2 -2 -1]\n",
      " [ 2  2  4 -2]\n",
      " [ 2  2  2 -4]]\n",
      "\n",
      "\n",
      "[[1. 0. 0. 0.]\n",
      " [0. 1. 0. 0.]\n",
      " [0. 0. 1. 0.]\n",
      " [0. 0. 0. 1.]]\n",
      "\n",
      "\n",
      "[[-4.  3.  1.  3.]\n",
      " [ 3. -2. -2. -1.]\n",
      " [ 2.  2.  4. -2.]\n",
      " [ 2.  2.  2. -4.]]\n",
      "\n",
      "\n",
      "[[-3  2  4  1]\n",
      " [ 0  2  4  1]\n",
      " [ 0  0  4  1]\n",
      " [ 0  0  0  1]]\n",
      "\n",
      "\n",
      "[[12 -2  0  3]\n",
      " [-9  2 -4 -2]\n",
      " [-6  8 32  6]\n",
      " [-6  8 24  2]]\n"
     ]
    }
   ],
   "source": [
    "mat1 = np.random.randint(-4,5,size=(4,4))\n",
    "mat1I = np.eye(4)\n",
    "mat1Triu = np.triu([-3,2,4,1])\n",
    "\n",
    "mxmI = mat1@mat1I\n",
    "mxmTriu  = mat1@mat1Triu\n",
    "print(mat1)\n",
    "print('\\n')\n",
    "print(mat1I)\n",
    "print('\\n')\n",
    "print(mxmI)\n",
    "print('\\n')\n",
    "print(mat1Triu)\n",
    "print('\\n')\n",
    "print(mxmTriu)"
   ]
  },
  {
   "cell_type": "code",
   "execution_count": 44,
   "id": "a5bff423",
   "metadata": {},
   "outputs": [
    {
     "name": "stdout",
     "output_type": "stream",
     "text": [
      "[[1 2 3 4 5]\n",
      " [2 1 2 3 4]\n",
      " [3 2 1 2 3]\n",
      " [4 3 2 1 2]\n",
      " [5 4 3 2 1]]\n"
     ]
    },
    {
     "data": {
      "image/png": "[encoded data removed]",
      "text/plain": [
       "<Figure size 432x288 with 1 Axes>"
      ]
     },
     "metadata": {
      "needs_background": "light"
     },
     "output_type": "display_data"
    }
   ],
   "source": [
    "toe = toeplitz(np.arange(1,6))\n",
    "print(toe)\n",
    "plt.imshow(toe)\n",
    "plt.show()"
   ]
  }
 ],
 "metadata": {
  "kernelspec": {
   "display_name": "Python 3 (ipykernel)",
   "language": "python",
   "name": "python3"
  },
  "language_info": {
   "codemirror_mode": {
    "name": "ipython",
    "version": 3
   },
   "file_extension": ".py",
   "mimetype": "text/x-python",
   "name": "python",
   "nbconvert_exporter": "python",
   "pygments_lexer": "ipython3",
   "version": "3.9.7"
  }
 },
 "nbformat": 4,
 "nbformat_minor": 5
}
