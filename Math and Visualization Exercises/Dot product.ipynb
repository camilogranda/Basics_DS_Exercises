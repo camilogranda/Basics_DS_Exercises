{
 "cells": [
  {
   "cell_type": "code",
   "execution_count": 2,
   "id": "a6bbdbad",
   "metadata": {},
   "outputs": [],
   "source": [
    "import numpy as np\n",
    "from IPython.display import display,Math"
   ]
  },
  {
   "cell_type": "markdown",
   "id": "00827e75",
   "metadata": {},
   "source": [
    "### Dot product"
   ]
  },
  {
   "cell_type": "code",
   "execution_count": 3,
   "id": "797ff18f",
   "metadata": {},
   "outputs": [
    {
     "name": "stdout",
     "output_type": "stream",
     "text": [
      "[10 13 16 19]\n",
      "596\n",
      "596\n"
     ]
    }
   ],
   "source": [
    "v = np.arange(10,21,3)\n",
    "w = np.arange(5,15,3)\n",
    "\n",
    "dp1 = 0\n",
    "for i in range(0,len(v)):\n",
    "    dp1 = dp1 + v[i]*w[i]\n",
    "    \n",
    "dp2 = np.sum(np.multiply(v,w))\n",
    "\n",
    "dp3 = np.dot(v,w)\n",
    "print(dp1)\n",
    "print(dp3)"
   ]
  },
  {
   "cell_type": "code",
   "execution_count": 45,
   "id": "e6fdb8a8",
   "metadata": {},
   "outputs": [],
   "source": [
    "def dot_func(v,w):\n",
    "    \n",
    "    v = np.squeeze(v)\n",
    "    w = np.squeeze(w)\n",
    "    \n",
    "    if len(v) != len(w):\n",
    "        raise ValueError('Vectors must have the same length!')\n",
    "    else:\n",
    "        display(Math('v^Tw=%g'%np.dot(v,w)))\n",
    "        "
   ]
  },
  {
   "cell_type": "code",
   "execution_count": 49,
   "id": "5b8f0afa",
   "metadata": {},
   "outputs": [
    {
     "name": "stdout",
     "output_type": "stream",
     "text": [
      "(1, 10)\n"
     ]
    },
    {
     "data": {
      "text/latex": [
       "$\\displaystyle v^Tw=3.36971$"
      ],
      "text/plain": [
       "<IPython.core.display.Math object>"
      ]
     },
     "metadata": {},
     "output_type": "display_data"
    }
   ],
   "source": [
    "v1 = np.random.randn(1,10)\n",
    "w1 = np.random.randn(1,10)\n",
    "\n",
    "v2 = np.array([0,1])\n",
    "w2 = np.array([1,0])\n",
    "\n",
    "dot_func(v1,w1)"
   ]
  }
 ],
 "metadata": {
  "kernelspec": {
   "display_name": "Python 3 (ipykernel)",
   "language": "python",
   "name": "python3"
  },
  "language_info": {
   "codemirror_mode": {
    "name": "ipython",
    "version": 3
   },
   "file_extension": ".py",
   "mimetype": "text/x-python",
   "name": "python",
   "nbconvert_exporter": "python",
   "pygments_lexer": "ipython3",
   "version": "3.9.7"
  }
 },
 "nbformat": 4,
 "nbformat_minor": 5
}
