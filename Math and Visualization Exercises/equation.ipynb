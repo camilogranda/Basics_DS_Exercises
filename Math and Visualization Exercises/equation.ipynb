{
 "cells": [
  {
   "cell_type": "code",
   "execution_count": 66,
   "id": "8db7df47",
   "metadata": {},
   "outputs": [],
   "source": [
    "import numpy as np\n",
    "import sympy as sym\n",
    "from IPython.display import display, Math\n",
    "sym.init_printing()"
   ]
  },
  {
   "cell_type": "code",
   "execution_count": 55,
   "id": "728ee4aa",
   "metadata": {},
   "outputs": [
    {
     "name": "stdout",
     "output_type": "stream",
     "text": [
      "List element 0 is 3 and is of type int\n",
      "List element 1 is ['3', '4', '5'] and is of type list\n",
      "List element 2 is 5.5 and is of type float\n",
      "List element 3 is [4, 5, 6] and is of type list\n"
     ]
    }
   ],
   "source": [
    "listList = [3, ['3', '4', '5'], 5.5, [4, 5, 6]]\n",
    "for ind, item in enumerate(listList):\n",
    "    t = str(type(item))[8:]\n",
    "    apost = t.find(\"'\")\n",
    "    print('List element %s is %s and is of type %s'%(ind, item, t[:apost]))"
   ]
  },
  {
   "cell_type": "code",
   "execution_count": 89,
   "id": "b1e25ed4",
   "metadata": {},
   "outputs": [
    {
     "data": {
      "text/latex": [
       "$\\displaystyle \\text {The solution to } 2 x - 5 \\text{ is } x=\\left[ \\frac{5}{2}\\right]$"
      ],
      "text/plain": [
       "<IPython.core.display.Math object>"
      ]
     },
     "metadata": {},
     "output_type": "display_data"
    }
   ],
   "source": [
    "x = sym.symbols('x')\n",
    "expr = 2*x + 4 - 9\n",
    "sym.solve(expr)\n",
    "display(Math('\\\\text {The solution to } %s \\\\text{ is } x=%s' %(sym.latex(expr), sym.latex(sym.solve(expr[0])))))"
   ]
  },
  {
   "cell_type": "code",
   "execution_count": 117,
   "id": "6aeac925",
   "metadata": {},
   "outputs": [
    {
     "data": {
      "text/latex": [
       "$\\displaystyle \\text {Solution} (0)\\quad \\text {is}\\quad -2 $"
      ],
      "text/plain": [
       "<IPython.core.display.Math object>"
      ]
     },
     "metadata": {},
     "output_type": "display_data"
    },
    {
     "data": {
      "text/latex": [
       "$\\displaystyle \\text {Solution} (1)\\quad \\text {is}\\quad 2 $"
      ],
      "text/plain": [
       "<IPython.core.display.Math object>"
      ]
     },
     "metadata": {},
     "output_type": "display_data"
    }
   ],
   "source": [
    "expr1 = x**2 - 4\n",
    "sol = sym.solve(expr1)\n",
    "\n",
    "for i in range(0, len(sol)):\n",
    "    display(Math('\\\\text {Solution} (%g)\\\\quad \\\\text {is}\\\\quad %g '%(i,(sol[i]))))"
   ]
  }
 ],
 "metadata": {
  "kernelspec": {
   "display_name": "Python 3 (ipykernel)",
   "language": "python",
   "name": "python3"
  },
  "language_info": {
   "codemirror_mode": {
    "name": "ipython",
    "version": 3
   },
   "file_extension": ".py",
   "mimetype": "text/x-python",
   "name": "python",
   "nbconvert_exporter": "python",
   "pygments_lexer": "ipython3",
   "version": "3.9.7"
  }
 },
 "nbformat": 4,
 "nbformat_minor": 5
}
