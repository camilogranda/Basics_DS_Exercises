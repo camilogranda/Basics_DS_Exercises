{
 "cells": [
  {
   "cell_type": "markdown",
   "id": "2ea64027",
   "metadata": {},
   "source": [
    "### Complex Numbers"
   ]
  },
  {
   "cell_type": "code",
   "execution_count": 43,
   "id": "773c7023",
   "metadata": {},
   "outputs": [],
   "source": [
    "import numpy as np\n",
    "import sympy as sym\n",
    "from IPython.display import display, Math"
   ]
  },
  {
   "cell_type": "code",
   "execution_count": 2,
   "id": "192035d5",
   "metadata": {},
   "outputs": [
    {
     "name": "stdout",
     "output_type": "stream",
     "text": [
      "1j\n"
     ]
    }
   ],
   "source": [
    "print(np.sqrt(-1,dtype='complex'))"
   ]
  },
  {
   "cell_type": "code",
   "execution_count": 8,
   "id": "2531dd19",
   "metadata": {},
   "outputs": [
    {
     "name": "stdout",
     "output_type": "stream",
     "text": [
      "(4-5j)\n",
      "(4-5j)\n"
     ]
    }
   ],
   "source": [
    "real_part = 4\n",
    "img_part = -5\n",
    "\n",
    "cn1 = complex(real_part,img_part)\n",
    "print(cn1)\n",
    "cn2 = real_part + 1j*img_part\n",
    "print(cn2)"
   ]
  },
  {
   "cell_type": "code",
   "execution_count": 14,
   "id": "45889767",
   "metadata": {},
   "outputs": [
    {
     "name": "stdout",
     "output_type": "stream",
     "text": [
      "(7+7j)\n",
      "(1+3j)\n",
      "3.0\n",
      "5.0\n"
     ]
    }
   ],
   "source": [
    "z1 = complex(4,5)\n",
    "z2 = complex(3,2)\n",
    "\n",
    "print(z1+z2)\n",
    "print(z1-z2)\n",
    "print(np.real(z2))\n",
    "print(np.imag(z1))"
   ]
  },
  {
   "cell_type": "code",
   "execution_count": 19,
   "id": "e061562d",
   "metadata": {},
   "outputs": [
    {
     "name": "stdout",
     "output_type": "stream",
     "text": [
      "(7+10j)\n",
      "(7+10j)\n"
     ]
    }
   ],
   "source": [
    "w = complex(2,4)\n",
    "z = complex(5,6)\n",
    "\n",
    "sumwz = complex(np.real(w)+np.real(z),np.imag(w)+np.imag(z))\n",
    "print(sumwz)\n",
    "print(w+z)"
   ]
  },
  {
   "cell_type": "markdown",
   "id": "ec71e5b9",
   "metadata": {},
   "source": [
    "#### multiplication of a complex numberr by its conjugate"
   ]
  },
  {
   "cell_type": "code",
   "execution_count": 64,
   "id": "25dad24b",
   "metadata": {},
   "outputs": [
    {
     "name": "stdout",
     "output_type": "stream",
     "text": [
      "(34+22j)\n"
     ]
    },
    {
     "data": {
      "text/latex": [
       "$\\displaystyle z\\times z*=a^{2} + b^{2}$"
      ],
      "text/plain": [
       "<IPython.core.display.Math object>"
      ]
     },
     "metadata": {},
     "output_type": "display_data"
    }
   ],
   "source": [
    "z1 = complex(4,5)\n",
    "z2 = complex(6,-2)\n",
    "\n",
    "print(z1*z2)\n",
    "sym.sympify(z1*z2)\n",
    "z1conj = np.conj(z1)\n",
    "\n",
    "z1*np.conj(z1)\n",
    "\n",
    "a,b, = sym.symbols('a,b,', real=True)\n",
    "\n",
    "z = a+b*sym.I\n",
    "display(Math(('z\\\\times z*=%s'%(sym.latex(sym.expand(z*sym.conjugate(z)))))))"
   ]
  },
  {
   "cell_type": "markdown",
   "id": "3cb176a8",
   "metadata": {},
   "source": [
    "#### Division"
   ]
  },
  {
   "cell_type": "code",
   "execution_count": 65,
   "id": "ce3b24f0",
   "metadata": {},
   "outputs": [
    {
     "data": {
      "text/latex": [
       "$\\displaystyle \\frac{(4+2j)}{2}={(2+1j)}$"
      ],
      "text/plain": [
       "<IPython.core.display.Math object>"
      ]
     },
     "metadata": {},
     "output_type": "display_data"
    }
   ],
   "source": [
    "z = complex(4,2)\n",
    "\n",
    "display(Math('\\\\frac{%s}{2}={%s}'%(z,z/2)))"
   ]
  },
  {
   "cell_type": "code",
   "execution_count": 78,
   "id": "945ca740",
   "metadata": {},
   "outputs": [
    {
     "data": {
      "text/latex": [
       "$\\displaystyle \\frac{(4+2j)}{(2-3j)}$"
      ],
      "text/plain": [
       "<IPython.core.display.Math object>"
      ]
     },
     "metadata": {},
     "output_type": "display_data"
    },
    {
     "data": {
      "text/latex": [
       "$\\displaystyle \\frac{(4+2j)}{(2-3j)}=\\frac{(4+2j)\\times(2+3j)}{(2-3j)\\times(2+3j)} = (0.15384615384615383+1.2307692307692308j)$"
      ],
      "text/plain": [
       "<IPython.core.display.Math object>"
      ]
     },
     "metadata": {},
     "output_type": "display_data"
    }
   ],
   "source": [
    "z1 = complex(4,2)\n",
    "z2 = complex(2,-3)\n",
    "\n",
    "display(Math('\\\\frac{%s}{%s}'%(z1,z2)))\n",
    "\n",
    "display(Math('\\\\frac{%s}{%s}=\\\\frac{%s\\\\times%s}{%s\\\\times%s} = %s' \\\n",
    "             %(z1,z2,z1,np.conj(z2),z2,np.conj(z2), \\\n",
    "               z1/z2)))"
   ]
  },
  {
   "cell_type": "code",
   "execution_count": 128,
   "id": "6713fe32",
   "metadata": {},
   "outputs": [
    {
     "name": "stdout",
     "output_type": "stream",
     "text": [
      "(1+0j)\n"
     ]
    }
   ],
   "source": [
    "z = complex(4,2)\n",
    "w = complex(3,5)\n",
    "\n",
    "leftnum = (z-1) * (z*w+w)\n",
    "leftden = w*z-w\n",
    "leftside = leftnum/leftden\n",
    "\n",
    "rightnum = (w-1)*(1-w)\n",
    "rightden = -z*w**2 - w**2 + 2*w*z + 2*w - z - 1\n",
    "rightside = rightnum/rightden\n",
    "\n",
    "solution = leftside * rightside\n",
    "\n",
    "print(solution)\n"
   ]
  }
 ],
 "metadata": {
  "kernelspec": {
   "display_name": "Python 3 (ipykernel)",
   "language": "python",
   "name": "python3"
  },
  "language_info": {
   "codemirror_mode": {
    "name": "ipython",
    "version": 3
   },
   "file_extension": ".py",
   "mimetype": "text/x-python",
   "name": "python",
   "nbconvert_exporter": "python",
   "pygments_lexer": "ipython3",
   "version": "3.9.7"
  }
 },
 "nbformat": 4,
 "nbformat_minor": 5
}
