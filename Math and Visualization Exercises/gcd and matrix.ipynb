{
 "cells": [
  {
   "cell_type": "code",
   "execution_count": 1,
   "id": "0dee07a3",
   "metadata": {},
   "outputs": [],
   "source": [
    "import sympy as sym\n",
    "import numpy as np\n",
    "import math\n",
    "sym.init_printing()\n",
    "from IPython.display import display, Math\n"
   ]
  },
  {
   "cell_type": "code",
   "execution_count": null,
   "id": "3e9931ed",
   "metadata": {},
   "outputs": [],
   "source": [
    "y,z,w = sym.symbols('y,z,w')\n",
    "x = w*(4-w)+1/w**2*(1+w)\n",
    "f1 = x*(y+z)\n",
    "f2 = 3/x + x**2\n",
    "a = f1.subs({w:2,y:3,z:4})\n",
    "b = f2.subs({w:2,y:3,z:4})\n",
    "display(Math(sym.latex(sym.simplify(f2*f1))))"
   ]
  },
  {
   "cell_type": "code",
   "execution_count": null,
   "id": "edcaf755",
   "metadata": {},
   "outputs": [],
   "source": [
    "from sympy.abc import x\n",
    "e1 = 2*x + x*(4-6*x)+x\n",
    "e2 = -x*((2/x)+(4/x**2))+(4+x)/(4*x)\n",
    "e3 = (x+3)*(x-3)*x*(1/(9*x))\n",
    "\n",
    "eqlist = [e1, e2, e3]\n",
    "for i in eqlist:\n",
    "    display(Math('%s \\\\quad \\\\Longleftrightarrow \\\\quad %s' %(sym.latex(i), sym.latex(sym.expand(i)))))"
   ]
  },
  {
   "cell_type": "code",
   "execution_count": null,
   "id": "f768b9ef",
   "metadata": {},
   "outputs": [],
   "source": [
    "# gcd exercise\n",
    "# gcd(c*a, c*b) = c*gcd(a,b)\n",
    "from sympy.abc import a,b,c\n",
    "print(sym.gcd(c*a,c*b))\n",
    "print( c*sym.gcd(a,b) )\n",
    "gcd1 = (sym.gcd(c*a,c*b)).subs({a:2,b:3,c:4})\n",
    "gcd2 = ( c*sym.gcd(a,b) ).subs({a:2,b:3,c:4})\n",
    "print(gcd1)\n",
    "print(gcd2)"
   ]
  },
  {
   "cell_type": "code",
   "execution_count": 12,
   "id": "70e95674",
   "metadata": {},
   "outputs": [
    {
     "data": {
      "text/latex": [
       "$\\displaystyle \\left[\\begin{array}1 & 1 & 1 & 1 & 1 & 1 & 1 & 1 & 1 & 1 & 1 & 1 & 1 & 1 & 1\\\\1 & 2 & 1 & 2 & 1 & 2 & 1 & 2 & 1 & 2 & 1 & 2 & 1 & 2 & 1\\\\1 & 1 & 3 & 1 & 1 & 3 & 1 & 1 & 3 & 1 & 1 & 3 & 1 & 1 & 3\\\\1 & 2 & 1 & 4 & 1 & 2 & 1 & 4 & 1 & 2 & 1 & 4 & 1 & 2 & 1\\\\1 & 1 & 1 & 1 & 5 & 1 & 1 & 1 & 1 & 5 & 1 & 1 & 1 & 1 & 5\\\\1 & 2 & 3 & 2 & 1 & 6 & 1 & 2 & 3 & 2 & 1 & 6 & 1 & 2 & 3\\\\1 & 1 & 1 & 1 & 1 & 1 & 7 & 1 & 1 & 1 & 1 & 1 & 1 & 7 & 1\\\\1 & 2 & 1 & 4 & 1 & 2 & 1 & 8 & 1 & 2 & 1 & 4 & 1 & 2 & 1\\\\1 & 1 & 3 & 1 & 1 & 3 & 1 & 1 & 9 & 1 & 1 & 3 & 1 & 1 & 3\\\\1 & 2 & 1 & 2 & 5 & 2 & 1 & 2 & 1 & 10 & 1 & 2 & 1 & 2 & 5\\end{array}\\right]$"
      ],
      "text/plain": [
       "<IPython.core.display.Math object>"
      ]
     },
     "metadata": {},
     "output_type": "display_data"
    }
   ],
   "source": [
    "n = 10\n",
    "m = 15\n",
    "mtrx = np.zeros(([n,m]),dtype=int)+99\n",
    "\n",
    "for rowi in range(0,n):\n",
    "    for coli in range(0,m):\n",
    "        mtrx[rowi,coli] = math.gcd(rowi+1,coli+1)\n",
    "\n",
    "display(Math(sym.latex(sym.sympify(mtrx))))"
   ]
  },
  {
   "cell_type": "code",
   "execution_count": 9,
   "id": "a7f63d80",
   "metadata": {},
   "outputs": [
    {
     "data": {
      "text/plain": [
       "array([[ 1,  1,  1,  1,  1,  1,  1,  1,  1,  1,  1,  1,  1,  1,  1],\n",
       "       [ 1,  2,  1,  2,  1,  2,  1,  2,  1,  2,  1,  2,  1,  2,  1],\n",
       "       [ 1,  1,  3,  1,  1,  3,  1,  1,  3,  1,  1,  3,  1,  1,  3],\n",
       "       [ 1,  2,  1,  4,  1,  2,  1,  4,  1,  2,  1,  4,  1,  2,  1],\n",
       "       [ 1,  1,  1,  1,  5,  1,  1,  1,  1,  5,  1,  1,  1,  1,  5],\n",
       "       [ 1,  2,  3,  2,  1,  6,  1,  2,  3,  2,  1,  6,  1,  2,  3],\n",
       "       [ 1,  1,  1,  1,  1,  1,  7,  1,  1,  1,  1,  1,  1,  7,  1],\n",
       "       [ 1,  2,  1,  4,  1,  2,  1,  8,  1,  2,  1,  4,  1,  2,  1],\n",
       "       [ 1,  1,  3,  1,  1,  3,  1,  1,  9,  1,  1,  3,  1,  1,  3],\n",
       "       [ 1,  2,  1,  2,  5,  2,  1,  2,  1, 10,  1,  2,  1,  2,  5]])"
      ]
     },
     "execution_count": 9,
     "metadata": {},
     "output_type": "execute_result"
    }
   ],
   "source": [
    "n = 10\n",
    "m = 15\n",
    "gcdmat = np.zeros(([n,m]),dtype=int)+99\n",
    "\n",
    "for rowi in range(0,n):\n",
    "    for coli in range(0,m):\n",
    "        gcdmat[rowi, coli] = math.gcd(rowi+1,coli+1)\n",
    "gcdmat"
   ]
  }
 ],
 "metadata": {
  "kernelspec": {
   "display_name": "Python 3 (ipykernel)",
   "language": "python",
   "name": "python3"
  },
  "language_info": {
   "codemirror_mode": {
    "name": "ipython",
    "version": 3
   },
   "file_extension": ".py",
   "mimetype": "text/x-python",
   "name": "python",
   "nbconvert_exporter": "python",
   "pygments_lexer": "ipython3",
   "version": "3.9.7"
  }
 },
 "nbformat": 4,
 "nbformat_minor": 5
}
