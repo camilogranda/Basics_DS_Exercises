{
 "cells": [
  {
   "cell_type": "code",
   "execution_count": 1,
   "id": "7db7b426",
   "metadata": {},
   "outputs": [],
   "source": [
    "import numpy as np\n",
    "import matplotlib.pyplot as plt"
   ]
  },
  {
   "cell_type": "code",
   "execution_count": 32,
   "id": "4848472f",
   "metadata": {},
   "outputs": [
    {
     "name": "stdout",
     "output_type": "stream",
     "text": [
      "[[-5 -5  3 -2 -3]\n",
      " [ 1  1  1  3 -5]\n",
      " [-1 -1  3  2  3]\n",
      " [ 3  3 -5  3 -2]\n",
      " [-4 -4  4  3 -3]]\n"
     ]
    },
    {
     "data": {
      "image/png": "[encoded data removed]",
      "text/plain": [
       "<Figure size 432x288 with 3 Axes>"
      ]
     },
     "metadata": {
      "needs_background": "light"
     },
     "output_type": "display_data"
    }
   ],
   "source": [
    "m = 5\n",
    "\n",
    "A = np.random.randint(-5,5,size=(m,m))\n",
    "# A[:,0] = A[:,1] #The 0'th column is equal to the first column. So, cannot be inverted.\n",
    "\n",
    "Ainv = np.linalg.inv(A)\n",
    "# print(A)\n",
    "# print(Ainv)\n",
    "\n",
    "fig,ax = plt.subplots(1,3)\n",
    "\n",
    "ax[0].imshow(A)\n",
    "ax[0].set_title('A')\n",
    "\n",
    "ax[1].imshow(Ainv)\n",
    "ax[1].set_title('A$^-1$')\n",
    "\n",
    "ax[2].imshow(A@Ainv)\n",
    "ax[2].set_title('AA$^-1$')\n",
    "\n",
    "plt.show()"
   ]
  },
  {
   "cell_type": "code",
   "execution_count": 41,
   "id": "c8216fe3",
   "metadata": {
    "scrolled": true
   },
   "outputs": [
    {
     "name": "stdout",
     "output_type": "stream",
     "text": [
      "[[ 0.29738702 -0.17498394 -0.11537089 -0.42850004 -0.22806454]\n",
      " [ 0.29738702 -0.17498394 -0.11537089 -0.42850004 -0.22806454]\n",
      " [ 0.37738274 -0.21953309 -0.04233597 -0.27728993 -0.34018705]\n",
      " [-0.53180553  0.22253159 -0.0491183   0.40172771  0.3236953 ]\n",
      " [ 0.59755836 -0.39301778 -0.03676733 -0.4769044  -0.24316413]]\n",
      "[[-1 -1 -1 -2  1]\n",
      " [ 1  1 -3 -5 -4]\n",
      " [-1 -1 -3 -5 -1]\n",
      " [-2 -2  4  2  1]\n",
      " [ 0  0 -5  0  3]]\n"
     ]
    },
    {
     "data": {
      "image/png": "[encoded data removed]",
      "text/plain": [
       "<Figure size 432x288 with 3 Axes>"
      ]
     },
     "metadata": {
      "needs_background": "light"
     },
     "output_type": "display_data"
    }
   ],
   "source": [
    "m = 5\n",
    "n = 7\n",
    "\n",
    "mat1 = np.random.randint(-5,5,(m,m))\n",
    "mat1[:,0] = mat1[:,1]\n",
    "\n",
    "pseumat1 = np.linalg.pinv(mat1)\n",
    "print(pseumat1)\n",
    "print(mat1)\n",
    "\n",
    "fig,ax = plt.subplots(1,3)\n",
    "\n",
    "ax[0].imshow(mat1)\n",
    "ax[0].set_title('mat1')\n",
    "\n",
    "ax[1].imshow(pseumat1)\n",
    "ax[1].set_title('mat1$^-1$')\n",
    "\n",
    "ax[2].imshow(mat1@pseumat1)\n",
    "ax[2].set_title('mat1mat1$^-1$')\n",
    "\n",
    "for i in ax:\n",
    "    i.axis('off')\n",
    "    \n",
    "plt.show()"
   ]
  },
  {
   "cell_type": "code",
   "execution_count": 40,
   "id": "868504d3",
   "metadata": {},
   "outputs": [
    {
     "name": "stdout",
     "output_type": "stream",
     "text": [
      "[[ -0.03684887  -3.91883771  -2.51753852  -8.20237158   1.77027243\n",
      "   -6.98812182 -14.38527082]\n",
      " [-13.73668826  -8.62098879  -8.54226105 -10.61872717  -6.44228596\n",
      "   -1.25505261  -3.09342977]\n",
      " [ -5.32460677  -4.24503873  -0.69124867 -12.29642363   8.58610347\n",
      "   -3.43228816  -3.08904946]\n",
      " [  0.191622     1.5097585    7.37609707  -2.24202253 -10.15102601\n",
      "   -0.51675815  -5.80937539]\n",
      " [ -0.94845738   1.76848546  -1.93687932 -10.01085434 -11.0705701\n",
      "  -10.60237989  -3.90934289]]\n",
      "[[ 0.02150857 -0.03585225 -0.01657328 -0.01979713  0.01949159]\n",
      " [-0.01778308 -0.02709139  0.0080682  -0.00416766  0.03090648]\n",
      " [-0.02968337 -0.02441359  0.05461152  0.07962322 -0.01988502]\n",
      " [ 0.02526202  0.00603021 -0.06015546 -0.01677979 -0.02531627]\n",
      " [ 0.01021679 -0.02192861  0.0381686  -0.02561566 -0.02026032]\n",
      " [-0.00875896  0.02227342 -0.00032088  0.03831938 -0.05454986]\n",
      " [-0.06842331 -0.00521235  0.0274402  -0.02494814  0.03345184]]\n"
     ]
    },
    {
     "data": {
      "image/png": "[encoded data removed]",
      "text/plain": [
       "<Figure size 432x288 with 3 Axes>"
      ]
     },
     "metadata": {
      "needs_background": "light"
     },
     "output_type": "display_data"
    }
   ],
   "source": [
    "mat2 = np.random.normal(-5,5,(5,7))\n",
    "pseumat2 = np.linalg.pinv(mat2)\n",
    "\n",
    "print(mat2)\n",
    "print(pseumat2)\n",
    "\n",
    "fig,ax = plt.subplots(1,3)\n",
    "\n",
    "ax[0].imshow(mat2)\n",
    "ax[0].set_title('mat2')\n",
    "\n",
    "ax[1].imshow(pseumat2)\n",
    "ax[1].set_title('mat2$^-1$')\n",
    "\n",
    "ax[2].imshow(mat2@pseumat2)\n",
    "ax[2].set_title('mat2mat2$^-1$')\n",
    "\n",
    "for i in ax:\n",
    "    i.axis('off')\n",
    "    \n",
    "plt.show()"
   ]
  }
 ],
 "metadata": {
  "kernelspec": {
   "display_name": "Python 3 (ipykernel)",
   "language": "python",
   "name": "python3"
  },
  "language_info": {
   "codemirror_mode": {
    "name": "ipython",
    "version": 3
   },
   "file_extension": ".py",
   "mimetype": "text/x-python",
   "name": "python",
   "nbconvert_exporter": "python",
   "pygments_lexer": "ipython3",
   "version": "3.9.7"
  }
 },
 "nbformat": 4,
 "nbformat_minor": 5
}
