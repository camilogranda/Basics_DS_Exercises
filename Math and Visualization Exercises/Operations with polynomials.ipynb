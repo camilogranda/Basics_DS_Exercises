{
 "cells": [
  {
   "cell_type": "code",
   "execution_count": 86,
   "id": "be3a3e55",
   "metadata": {},
   "outputs": [],
   "source": [
    "import numpy as np\n",
    "import sympy as sym\n",
    "from IPython.display import display, Math\n",
    "x = sym.symbols('x')\n",
    "y = sym.symbols('y')"
   ]
  },
  {
   "cell_type": "code",
   "execution_count": 139,
   "id": "9c99d07d",
   "metadata": {},
   "outputs": [
    {
     "data": {
      "text/plain": [
       "(Poly(2*x**5 + 3*x**4 + 2*x**2, x, domain='ZZ'), 1)"
      ]
     },
     "execution_count": 139,
     "metadata": {},
     "output_type": "execute_result"
    }
   ],
   "source": [
    "p1 = sym.poly(2*x**2+3*x**4+2*x**5)\n",
    "p1.degree()\n",
    "p1.coeffs()\n",
    "p1"
   ]
  },
  {
   "cell_type": "code",
   "execution_count": 84,
   "id": "a97b5490",
   "metadata": {},
   "outputs": [
    {
     "data": {
      "text/latex": [
       "$\\displaystyle \\text{The degree of the polynomial } x^{2} + 2 x \\text{ is even and the coefficients sum to } 3$"
      ],
      "text/plain": [
       "<IPython.core.display.Math object>"
      ]
     },
     "metadata": {},
     "output_type": "display_data"
    },
    {
     "data": {
      "text/latex": [
       "$\\displaystyle \\text{The degree of the polynomial } - x^{3} + 4 x \\text{ is odd and there are } 2 \\text { coefficients}$"
      ],
      "text/plain": [
       "<IPython.core.display.Math object>"
      ]
     },
     "metadata": {},
     "output_type": "display_data"
    },
    {
     "data": {
      "text/latex": [
       "$\\displaystyle \\text{The degree of the polynomial } x^{5} - x^{4} + \\frac{x}{4} + 4 \\text{ is odd and there are } 4 \\text { coefficients}$"
      ],
      "text/plain": [
       "<IPython.core.display.Math object>"
      ]
     },
     "metadata": {},
     "output_type": "display_data"
    }
   ],
   "source": [
    "# 1. Implement the polynomials as a list\n",
    "\n",
    "polist = [sym.Poly( x**2 + 2*x), sym.Poly(-x**3 + 4*x), sym.Poly(x**5 - x**4 + x/4 + 4)]\n",
    "# display(Math(sym.latex(polist)))\n",
    "\n",
    "# 2.For each polynomial:\n",
    "#     If the degree is even, sum the coefficients.\n",
    "#     If the degree is odd, count the coefficientes.\n",
    "\n",
    "for polys in polist:\n",
    "    if np.mod(polys.degree(),2)==0:\n",
    "        display(Math('\\\\text{The degree of the polynomial } %s \\\\text{ is even and the coefficients sum to } %g'%(sym.latex(polys.as_expr()), sum(polys.coeffs()))))\n",
    "    else:\n",
    "        display(Math('\\\\text{The degree of the polynomial } %s \\\\text{ is odd and there are } %s \\\\text { coefficients}'%(sym.latex(polys.as_expr()), len(polys.coeffs()))))"
   ]
  },
  {
   "cell_type": "code",
   "execution_count": 140,
   "id": "5d8d8066",
   "metadata": {
    "scrolled": true
   },
   "outputs": [
    {
     "data": {
      "text/latex": [
       "$\\displaystyle - 4 x^{7} + 24 x^{6} y + 3 x^{5} + 3.2 x^{4} y^{3} - x^{4} y^{2} - 18 x^{4} y + 15 x^{3} y^{3} - 54 x^{2} y^{4} - 2.4 x^{2} y^{3} + 0.8 x y^{5} - 7.2 y^{6}$"
      ],
      "text/plain": [
       "-4*x**7 + 24*x**6*y + 3*x**5 + 3.2*x**4*y**3 - x**4*y**2 - 18*x**4*y + 15*x**3*y**3 - 54*x**2*y**4 - 2.4*x**2*y**3 + 0.8*x*y**5 - 7.2*y**6"
      ]
     },
     "metadata": {},
     "output_type": "display_data"
    },
    {
     "data": {
      "text/latex": [
       "$\\displaystyle -1085833.8$"
      ],
      "text/plain": [
       "-1085833.80000000"
      ]
     },
     "metadata": {},
     "output_type": "display_data"
    },
    {
     "data": {
      "text/latex": [
       "$\\displaystyle -1085833.8$"
      ],
      "text/plain": [
       "-1085833.80000000"
      ]
     },
     "metadata": {},
     "output_type": "display_data"
    },
    {
     "data": {
      "text/plain": [
       "(4*x**2, 3)"
      ]
     },
     "execution_count": 140,
     "metadata": {},
     "output_type": "execute_result"
    }
   ],
   "source": [
    "fxy = 4*x**4 - 3*x**2 + x*y**2 - 9*y**3\n",
    "gxy = -x**3 +6*x**2*y + .8*y**3\n",
    "\n",
    "multpoly = sym.expand(fxy*gxy)\n",
    "display(multpoly)\n",
    "display(multpoly.subs({x:5,y:-2}))\n",
    "display(fxy.subs({x:5,y:-2}) * gxy.subs({x:5,y:-2}))\n",
    "\n",
    "p5 = sym.sympify(4*x/3*x)\n",
    "sym.fraction(p5)"
   ]
  },
  {
   "cell_type": "code",
   "execution_count": 201,
   "id": "a9c4bc70",
   "metadata": {},
   "outputs": [
    {
     "data": {
      "text/latex": [
       "$\\displaystyle \\text{Substituting \"y\" } \\text{for } 9, \\text{we get } x^{3} + 2 x - 3 $"
      ],
      "text/plain": [
       "<IPython.core.display.Math object>"
      ]
     },
     "metadata": {},
     "output_type": "display_data"
    }
   ],
   "source": [
    "polydiv = sym.sympify((x**6 + 2*x**4 + 6*x - y) / (x**3 + 3))\n",
    "nums = range(5,16)\n",
    "for numi in nums:\n",
    "    polsub = polydiv.subs(y, numi)\n",
    "    simplifract = sym.simplify(polsub)\n",
    "#     print(simplifract)\n",
    "    if sym.fraction(simplifract)[1] == 1:\n",
    "#         print(simplifract)\n",
    "        display(Math('\\\\text{Substituting \"y\" } \\\\text{for } %s, \\\\text{we get } %s '%(numi, sym.latex(simplifract))))\n",
    "#     print(sym.fraction(polydiv))"
   ]
  },
  {
   "cell_type": "code",
   "execution_count": 173,
   "id": "90e9516f",
   "metadata": {},
   "outputs": [
    {
     "data": {
      "text/latex": [
       "$\\displaystyle 2 x^{3} + 3$"
      ],
      "text/plain": [
       "2*x**3 + 3"
      ]
     },
     "execution_count": 173,
     "metadata": {},
     "output_type": "execute_result"
    }
   ],
   "source": [
    "poly1 = sym.sympify((2*x**3 + 3) / (x**2 + 1))\n",
    "sym.fraction(poly1)[0]"
   ]
  },
  {
   "cell_type": "code",
   "execution_count": 240,
   "id": "cb0ecd01",
   "metadata": {},
   "outputs": [
    {
     "data": {
      "text/latex": [
       "$\\displaystyle x^{2} + 4 x + 3 \\quad \\Rightarrow \\quad \\mathtt{\\text{(x + 1)*(x + 3)}}$"
      ],
      "text/plain": [
       "<IPython.core.display.Math object>"
      ]
     },
     "metadata": {},
     "output_type": "display_data"
    },
    {
     "data": {
      "text/latex": [
       "$\\displaystyle 2 y^{2} - 1 \\quad \\Rightarrow \\quad \\text{Not factorable!}$"
      ],
      "text/plain": [
       "<IPython.core.display.Math object>"
      ]
     },
     "metadata": {},
     "output_type": "display_data"
    },
    {
     "data": {
      "text/latex": [
       "$\\displaystyle 3 y^{2} + 12 y \\quad \\Rightarrow \\quad \\mathtt{\\text{3*y*(y + 4)}}$"
      ],
      "text/plain": [
       "<IPython.core.display.Math object>"
      ]
     },
     "metadata": {},
     "output_type": "display_data"
    }
   ],
   "source": [
    "pol1 = x**2 + 4*x + 3\n",
    "pol2 = 2*y**2 - 1\n",
    "pol3 = 3*y**2 + 12*y\n",
    "polylist = [x**2 + 4*x + 3, 2*y**2 - 1, 3*y**2 + 12*y]\n",
    "for i in polylist:\n",
    "    polfactor = str(sym.factor(i))\n",
    "#     print(polfactor)\n",
    "    if polfactor.find('(') == -1:\n",
    "        display(Math('%s \\\\quad \\\\Rightarrow \\\\quad \\\\text{Not factorable!}'%(sym.latex(i))))\n",
    "    else:\n",
    "        display(Math('%s \\\\quad \\\\Rightarrow \\\\quad %s'%(sym.latex(i), sym.latex(((polfactor))))))"
   ]
  },
  {
   "cell_type": "code",
   "execution_count": 224,
   "id": "d3f54e55",
   "metadata": {},
   "outputs": [],
   "source": [
    "var1 = 'hola'\n",
    "if var1.find('h') == -1:\n",
    "    print(var1)"
   ]
  }
 ],
 "metadata": {
  "kernelspec": {
   "display_name": "Python 3 (ipykernel)",
   "language": "python",
   "name": "python3"
  },
  "language_info": {
   "codemirror_mode": {
    "name": "ipython",
    "version": 3
   },
   "file_extension": ".py",
   "mimetype": "text/x-python",
   "name": "python",
   "nbconvert_exporter": "python",
   "pygments_lexer": "ipython3",
   "version": "3.9.7"
  }
 },
 "nbformat": 4,
 "nbformat_minor": 5
}
